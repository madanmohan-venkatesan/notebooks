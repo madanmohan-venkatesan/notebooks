{
  "nbformat": 4,
  "nbformat_minor": 0,
  "metadata": {
    "colab": {
      "provenance": [],
      "authorship_tag": "ABX9TyNLa0c+qTvLGzodNQSrLsdO",
      "include_colab_link": true
    },
    "kernelspec": {
      "name": "python3",
      "display_name": "Python 3"
    },
    "language_info": {
      "name": "python"
    }
  },
  "cells": [
    {
      "cell_type": "markdown",
      "metadata": {
        "id": "view-in-github",
        "colab_type": "text"
      },
      "source": [
        "<a href=\"https://colab.research.google.com/github/madanmohan-venkatesan/notebooks/blob/main/ASOS_SEQUENTIAL_TESTING.ipynb\" target=\"_parent\"><img src=\"https://colab.research.google.com/assets/colab-badge.svg\" alt=\"Open In Colab\"/></a>"
      ]
    },
    {
      "cell_type": "code",
      "execution_count": null,
      "metadata": {
        "id": "w4CT4BboN5ZA"
      },
      "outputs": [],
      "source": [
        "##Load and clean data\n",
        "# Import libraries\n",
        "import pandas as pd\n",
        "import numpy as np\n",
        "from pathlib import Path\n",
        "\n",
        "def load_data(DATA_URI=\"https://osf.io/62t7f/download\"):\n",
        "  #CONSTANTS\n",
        "  WORKING_DIR=Path(\".\")\n",
        "  DATA_DIR=Path.joinpath(WORKING_DIR,\"data\")\n",
        "  DATA_DIR.mkdir(parents=True, exist_ok=True)\n",
        "\n",
        "  DATASET_PATH=Path.joinpath(DATA_DIR,\"asos_digital_experiments_dataset.parquet\")\n",
        "\n",
        "  if not DATASET_PATH.exists():\n",
        "    !wget -O $DATASET_PATH $DATA_URI\n",
        "\n",
        "  #Data cleaning\n",
        "  data_df = pd.read_parquet(DATASET_PATH)\n",
        "  data_df[\"experiment_id\"]=data_df[\"experiment_id\"].astype(str)\n",
        "  data_df[\"variant_id\"]=data_df[\"variant_id\"].astype(\"category\")\n",
        "  data_df[\"metric_id\"]=data_df[\"metric_id\"].astype(\"category\")\n",
        "\n",
        "  return data_df"
      ]
    },
    {
      "cell_type": "code",
      "source": [
        "def filter_data(df,exp_id=None,variant_id=None,metric_id=None):\n",
        "  df_filtered=df.loc[(df['experiment_id']==exp_id) &\\\n",
        "                                                 (df['variant_id']==var_id) &\\\n",
        "                                                 (df['metric_id']==met_id)]\n",
        "  return df_filtered\n"
      ],
      "metadata": {
        "id": "4qZAZ-MqP1-Z"
      },
      "execution_count": null,
      "outputs": []
    },
    {
      "cell_type": "code",
      "source": [],
      "metadata": {
        "id": "wd0ric16Qdr0"
      },
      "execution_count": null,
      "outputs": []
    }
  ]
}