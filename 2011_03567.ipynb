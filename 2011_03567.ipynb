{
  "nbformat": 4,
  "nbformat_minor": 0,
  "metadata": {
    "colab": {
      "provenance": [],
      "include_colab_link": true
    },
    "kernelspec": {
      "name": "python3",
      "display_name": "Python 3"
    },
    "language_info": {
      "name": "python"
    }
  },
  "cells": [
    {
      "cell_type": "markdown",
      "metadata": {
        "id": "view-in-github",
        "colab_type": "text"
      },
      "source": [
        "<a href=\"https://colab.research.google.com/github/madanmohan-venkatesan/notebooks/blob/main/2011_03567.ipynb\" target=\"_parent\"><img src=\"https://colab.research.google.com/assets/colab-badge.svg\" alt=\"Open In Colab\"/></a>"
      ]
    },
    {
      "cell_type": "code",
      "execution_count": 37,
      "metadata": {
        "id": "rSS6APsGMflA"
      },
      "outputs": [],
      "source": [
        "import numpy as np\n",
        "from scipy.special import gamma\n",
        "from scipy.optimize import minimize\n",
        "from matplotlib import pyplot as plt\n",
        "import seaborn as sns"
      ]
    },
    {
      "cell_type": "markdown",
      "source": [
        "# 2. A sequential multinomial test\n"
      ],
      "metadata": {
        "id": "In_91-jD8ApW"
      }
    },
    {
      "cell_type": "code",
      "source": [
        "#CONSTANTS\n",
        "CLASSES=2\n",
        "VECTOR_SIZE=100"
      ],
      "metadata": {
        "id": "36jKfhbXFmIj"
      },
      "execution_count": 38,
      "outputs": []
    },
    {
      "cell_type": "code",
      "source": [
        "theta_null=np.array([1/CLASSES]*CLASSES) #Simplex\n",
        "rng = np.random.default_rng()\n",
        "vectors_null=rng.multinomial(1,theta_null,size=VECTOR_SIZE)"
      ],
      "metadata": {
        "id": "s_dACvtO_NA2"
      },
      "execution_count": 39,
      "outputs": []
    },
    {
      "cell_type": "code",
      "source": [
        "K=100\n",
        "alpha_dirichlet=K*theta_null\n",
        "rng = np.random.default_rng()\n",
        "theta_alt=rng.dirichlet(alpha_dirichlet)\n",
        "vectors_alt=rng.multinomial(1,theta_alt,size=VECTOR_SIZE)"
      ],
      "metadata": {
        "id": "8zusc_0MGgm6"
      },
      "execution_count": 40,
      "outputs": []
    },
    {
      "cell_type": "code",
      "source": [
        "s_n_null=np.sum(vectors_null,axis=0)\n",
        "s_n_alt=np.sum(vectors_alt,axis=0)"
      ],
      "metadata": {
        "id": "h82N7rFpAB0f"
      },
      "execution_count": 41,
      "outputs": []
    },
    {
      "cell_type": "code",
      "source": [
        "def beta(v):\n",
        "\n",
        "  numerator=np.prod(gamma(v))\n",
        "  denominator=gamma(np.sum(v))\n",
        "  if numerator.any() is np.nan or denominator.any() is np.nan:\n",
        "    return [np.inf,np.inf]\n",
        "  else:\n",
        "    return numerator/denominator\n"
      ],
      "metadata": {
        "id": "kqjLRpG1BhW2"
      },
      "execution_count": 42,
      "outputs": []
    },
    {
      "cell_type": "code",
      "source": [
        "def bf_10(dirichlet_alpha,theta,counts):\n",
        "  term1_numerator=beta(dirichlet_alpha+counts)\n",
        "  term1_denominator=beta(dirichlet_alpha)\n",
        "  term1=term1_numerator/term1_denominator\n",
        "\n",
        "  term2=1/(theta**counts)\n",
        "  if term1.any() is np.inf or term2.any() is np.inf:\n",
        "    return [np.inf,np.inf]\n",
        "  else:\n",
        "    return term1*term2\n"
      ],
      "metadata": {
        "id": "eCUPUpOyB7xh"
      },
      "execution_count": 43,
      "outputs": []
    },
    {
      "cell_type": "code",
      "source": [
        "bf_10(alpha_dirichlet,theta_null,s_n_null)"
      ],
      "metadata": {
        "colab": {
          "base_uri": "https://localhost:8080/"
        },
        "id": "Pvvh6KuiCvSD",
        "outputId": "435ffc2d-9de1-42f7-cf23-261e02199b72"
      },
      "execution_count": 44,
      "outputs": [
        {
          "output_type": "stream",
          "name": "stderr",
          "text": [
            "<ipython-input-42-2a308695fdf7>:8: RuntimeWarning: invalid value encountered in scalar divide\n",
            "  return numerator/denominator\n"
          ]
        },
        {
          "output_type": "execute_result",
          "data": {
            "text/plain": [
              "array([nan, nan])"
            ]
          },
          "metadata": {},
          "execution_count": 44
        }
      ]
    },
    {
      "cell_type": "code",
      "source": [
        "bf_10(alpha_dirichlet,theta_null,s_n_alt)"
      ],
      "metadata": {
        "colab": {
          "base_uri": "https://localhost:8080/"
        },
        "id": "DigAZ1X7C91D",
        "outputId": "2c78d145-bba8-4b77-b1cc-bd7e3c03e939"
      },
      "execution_count": 45,
      "outputs": [
        {
          "output_type": "stream",
          "name": "stderr",
          "text": [
            "<ipython-input-42-2a308695fdf7>:8: RuntimeWarning: invalid value encountered in scalar divide\n",
            "  return numerator/denominator\n"
          ]
        },
        {
          "output_type": "execute_result",
          "data": {
            "text/plain": [
              "array([nan, nan])"
            ]
          },
          "metadata": {},
          "execution_count": 45
        }
      ]
    },
    {
      "cell_type": "markdown",
      "source": [
        "For above bf_10, if theta_0 not equal theta then values will go to infinity (reject null hypothesis)\n",
        "otherwise value is zero(accept null hypothesis)\n",
        "\n",
        "Hyper paramters to play around with are K and vector size\n",
        "\n"
      ],
      "metadata": {
        "id": "pRZ4TCxbEgmC"
      }
    },
    {
      "cell_type": "code",
      "source": [
        "theta_null_arr=[]\n",
        "theta_alt_arr=[]\n",
        "dirichlet_alpha_arr=[]\n",
        "vetors_null_arr=[]\n",
        "vectors_alt_arr=[]\n",
        "for i in range(10):\n",
        "  if i==0:\n",
        "    K=10\n",
        "  else:\n",
        "    K=K#+(0.5*K)\n",
        "  #generate null vectors\n",
        "  theta_null=np.array([1/CLASSES]*CLASSES) #Simplex\n",
        "  rng = np.random.default_rng()\n",
        "  vectors_null=rng.multinomial(1,theta_null,size=VECTOR_SIZE)\n",
        "  #generate alt vectors\n",
        "\n",
        "  alpha_dirichlet=K*theta_null\n",
        "  rng = np.random.default_rng()\n",
        "  theta_alt=rng.dirichlet(alpha_dirichlet)\n",
        "  vectors_alt=rng.multinomial(1,theta_alt,size=VECTOR_SIZE)\n",
        "\n",
        "  theta_null_arr.append(theta_null)\n",
        "  theta_alt_arr.append(theta_alt)\n",
        "  dirichlet_alpha_arr.append(alpha_dirichlet)\n",
        "  vetors_null_arr.append(vectors_null)\n",
        "  vectors_alt_arr.append(vectors_alt)"
      ],
      "metadata": {
        "id": "MdBMfgn0EfiG"
      },
      "execution_count": 46,
      "outputs": []
    },
    {
      "cell_type": "code",
      "source": [
        "on_theta_hist_arr=[]\n",
        "for i in range(len(theta_null_arr)):\n",
        "  on_theta_prev = None\n",
        "  if i==0:\n",
        "    on_theta_prev = np.array([1,1])\n",
        "    on_theta_hist_arr.append(on_theta_prev)\n",
        "\n",
        "  else:\n",
        "    s_n_null=np.sum(vetors_null_arr[i],axis=0)\n",
        "    s_n_alt=np.sum(vectors_alt_arr[i],axis=0)\n",
        "    term1_numerator=beta(dirichlet_alpha_arr[i]+s_n_alt)\n",
        "    term1_denominator=beta(dirichlet_alpha_arr[i])\n",
        "    term1=term1_numerator/term1_denominator\n",
        "\n",
        "    term2=1/(theta_null_arr[i]**s_n_alt)\n",
        "\n",
        "    on_theta_hist_arr.append(on_theta_hist_arr[i-1]*term1*term2)"
      ],
      "metadata": {
        "id": "14ZPErlcHo8N"
      },
      "execution_count": 47,
      "outputs": []
    },
    {
      "cell_type": "markdown",
      "source": [
        "# Optimization problem for theta"
      ],
      "metadata": {
        "id": "l4nQW-e7QZA0"
      }
    },
    {
      "cell_type": "code",
      "source": [
        "def objective(theta, i,maximize=True):\n",
        "    \"\"\"\n",
        "    Objective function to maximize theta_i.\n",
        "\n",
        "    Parameters:\n",
        "    - theta (array): Probability vector (simplex).\n",
        "    - i (int): Index of the element to maximize.\n",
        "\n",
        "    Returns:\n",
        "    - float: Negative of theta[i] to convert minimization to maximization.\n",
        "    \"\"\"\n",
        "    if maximize:\n",
        "        return -theta[i]\n",
        "    else:\n",
        "      return theta[i]\n",
        "\n",
        "def constraint_sum(theta):\n",
        "    \"\"\"\n",
        "    Constraint ensuring that the sum of theta is 1.\n",
        "\n",
        "    Parameters:\n",
        "    - theta (array): Probability vector (simplex).\n",
        "\n",
        "    Returns:\n",
        "    - float: Sum of theta - 1 (should be 0).\n",
        "    \"\"\"\n",
        "    return np.sum(theta) - 1\n",
        "\n",
        "def constraint_log_likelihood(theta, Sn, c):\n",
        "    \"\"\"\n",
        "    Log-likelihood constraint.\n",
        "\n",
        "    Parameters:\n",
        "    - theta (array): Probability vector (simplex).\n",
        "    - Sn (array): Observed count vector S_{n,i}.\n",
        "    - c (float): Constant c + log u.\n",
        "\n",
        "    Returns:\n",
        "    - float: Left-hand side of the constraint.\n",
        "    \"\"\"\n",
        "    return np.sum(Sn * np.log(theta)) - c"
      ],
      "metadata": {
        "id": "K1upoofPRmmd"
      },
      "execution_count": 48,
      "outputs": []
    },
    {
      "cell_type": "markdown",
      "source": [
        "# Real simulation"
      ],
      "metadata": {
        "id": "IJ9GC-5P7F6U"
      }
    },
    {
      "cell_type": "code",
      "source": [
        "theta_null_arr=[]\n",
        "theta_alt_arr=[]\n",
        "dirichlet_alpha_arr=[]\n",
        "vetors_null_arr=[]\n",
        "vectors_alt_arr=[]\n",
        "on_theta_hist_arr=[]\n",
        "theta_alt_1max_arr=[]\n",
        "theta_alt_1min_arr=[]\n",
        "\n",
        "theta_alt_0max_arr=[]\n",
        "theta_alt_0min_arr=[]\n",
        "\n",
        "for i in range(10):\n",
        "  on_theta_prev = None\n",
        "  if i==0:\n",
        "    K=1\n",
        "    on_theta_prev = np.array([1,1])\n",
        "    #generate null vectors\n",
        "    theta_null=np.array([1/CLASSES]*CLASSES) #Simplex\n",
        "    rng = np.random.default_rng()\n",
        "    vectors_null=rng.multinomial(1,theta_null,size=VECTOR_SIZE)\n",
        "    #generate alt vectors\n",
        "\n",
        "    alpha_dirichlet=K*theta_null\n",
        "    rng = np.random.default_rng()\n",
        "    theta_alt=rng.dirichlet(alpha_dirichlet)\n",
        "    vectors_alt=rng.multinomial(1,theta_alt,size=VECTOR_SIZE)\n",
        "\n",
        "    theta_null_arr.append(theta_null)\n",
        "    theta_alt_arr.append(theta_alt)\n",
        "    dirichlet_alpha_arr.append(alpha_dirichlet)\n",
        "    vetors_null_arr.append(vectors_null)\n",
        "    vectors_alt_arr.append(vectors_alt)\n",
        "\n",
        "    on_theta_prev = np.array([1,1])\n",
        "    on_theta_hist_arr.append(on_theta_prev)\n",
        "\n",
        "    s_n_null=np.sum(vectors_null,axis=0)\n",
        "    s_n_alt=np.sum(vectors_alt,axis=0)\n",
        "\n",
        "    c = np.log(beta(alpha_dirichlet+s_n_alt)) - np.log(beta(alpha_dirichlet))  # Example constant for log Beta terms\n",
        "    u = 0.05  # Example confidence level\n",
        "    c += np.log(u)\n",
        "\n",
        "    # Initial guess for theta (uniform distribution)\n",
        "    initial_theta = np.full(len(s_n_alt), 1 / len(s_n_alt))\n",
        "\n",
        "    # Constraints\n",
        "    constraints = [\n",
        "        {'type': 'eq', 'fun': constraint_sum},\n",
        "        {'type': 'ineq', 'fun': constraint_log_likelihood, 'args': (s_n_alt, c)}\n",
        "    ]\n",
        "\n",
        "    # Index of theta to maximize\n",
        "    i = 0  # Change this to select a different element of theta\n",
        "\n",
        "    # Bounds to ensure theta remains within [0, 1]\n",
        "    bounds = [(0, 1) for _ in range(len(s_n_alt))]\n",
        "\n",
        "    # Solve the optimization problem\n",
        "    result0 = minimize(objective, initial_theta, args=(0,True), bounds=bounds, constraints=constraints, method='SLSQP')\n",
        "    result1 = minimize(objective, initial_theta, args=(1,True), bounds=bounds, constraints=constraints, method='SLSQP')\n",
        "\n",
        "    # Display the result\n",
        "    if result0.success:\n",
        "        theta_alt_0max_arr.append(result0.x[0])\n",
        "    else:\n",
        "        print(\"Optimization failed:\", result0.message)\n",
        "\n",
        "    if result1.success:\n",
        "        theta_alt_1max_arr.append(result1.x[0])\n",
        "    else:\n",
        "        print(\"Optimization failed:\", result1.message)\n",
        "\n",
        "\n",
        "\n",
        "\n",
        "    # Solve the optimization problem\n",
        "\n",
        "    result0 = minimize(objective, initial_theta, args=(0,False), bounds=bounds, constraints=constraints, method='SLSQP')\n",
        "    result1 = minimize(objective, initial_theta, args=(1,False), bounds=bounds, constraints=constraints, method='SLSQP')\n",
        "\n",
        "    # Display the result\n",
        "    if result0.success:\n",
        "        theta_alt_0min_arr.append(result0.x[0])\n",
        "    else:\n",
        "        print(\"Optimization failed:\", result0.message)\n",
        "\n",
        "    if result1.success:\n",
        "        theta_alt_1min_arr.append(result1.x[0])\n",
        "    else:\n",
        "        print(\"Optimization failed:\", result1.message)\n",
        "\n",
        "  else:\n",
        "\n",
        "    K=K+(0.5*K)\n",
        "\n",
        "    #generate null vectors\n",
        "    theta_null=np.array([1/CLASSES]*CLASSES) #Simplex\n",
        "    rng = np.random.default_rng()\n",
        "    vectors_null=rng.multinomial(1,theta_null,size=VECTOR_SIZE)\n",
        "    #generate alt vectors\n",
        "\n",
        "    alpha_dirichlet=K*theta_null\n",
        "    rng = np.random.default_rng()\n",
        "    theta_alt=rng.dirichlet(alpha_dirichlet)\n",
        "    vectors_alt=rng.multinomial(1,theta_alt,size=VECTOR_SIZE)\n",
        "\n",
        "    theta_null_arr.append(theta_null)\n",
        "    theta_alt_arr.append(theta_alt)\n",
        "    dirichlet_alpha_arr.append(alpha_dirichlet)\n",
        "    vetors_null_arr.append(vectors_null)\n",
        "    vectors_alt_arr.append(vectors_alt)\n",
        "\n",
        "    s_n_null=np.sum(vectors_null,axis=0)\n",
        "    s_n_alt=np.sum(vectors_alt,axis=0)\n",
        "    term1_numerator=beta(alpha_dirichlet+s_n_alt)\n",
        "    term1_denominator=beta(alpha_dirichlet)\n",
        "    term1=term1_numerator/term1_denominator\n",
        "\n",
        "    term2=1/(theta_null**s_n_alt)\n",
        "\n",
        "    on_theta_hist_arr.append(on_theta_hist_arr[i-1]*term1*term2)\n",
        "\n",
        "    # Example data\n",
        "    # Sn = np.sum(vectors_alt_arr[i],axis=0)  # Example counts for categories\n",
        "    c = np.log(beta(alpha_dirichlet+s_n_alt)) - np.log(beta(alpha_dirichlet))  # Example constant for log Beta terms\n",
        "    u = 0.05  # Example confidence level\n",
        "    c += np.log(u)\n",
        "\n",
        "    # Initial guess for theta (uniform distribution)\n",
        "    initial_theta = np.full(len(s_n_alt), 1 / len(s_n_alt))\n",
        "\n",
        "    # Constraints\n",
        "    constraints = [\n",
        "        {'type': 'eq', 'fun': constraint_sum},\n",
        "        {'type': 'ineq', 'fun': constraint_log_likelihood, 'args': (s_n_alt, c)}\n",
        "    ]\n",
        "\n",
        "    # Index of theta to maximize\n",
        "    i = 0  # Change this to select a different element of theta\n",
        "\n",
        "    # Bounds to ensure theta remains within [0, 1]\n",
        "    bounds = [(0, 1) for _ in range(len(s_n_alt))]\n",
        "\n",
        "    # Solve the optimization problem\n",
        "    result0 = minimize(objective, initial_theta, args=(0,True), bounds=bounds, constraints=constraints, method='SLSQP')\n",
        "    result1 = minimize(objective, initial_theta, args=(1,True), bounds=bounds, constraints=constraints, method='SLSQP')\n",
        "\n",
        "    # Display the result\n",
        "    if result0.success:\n",
        "        theta_alt_0max_arr.append(result0.x[0])\n",
        "    else:\n",
        "        print(\"Optimization failed:\", result0.message)\n",
        "\n",
        "    if result1.success:\n",
        "        theta_alt_1max_arr.append(result1.x[0])\n",
        "    else:\n",
        "        print(\"Optimization failed:\", result1.message)\n",
        "\n",
        "\n",
        "\n",
        "\n",
        "    # Solve the optimization problem\n",
        "\n",
        "    result0 = minimize(objective, initial_theta, args=(0,False), bounds=bounds, constraints=constraints, method='SLSQP')\n",
        "    result1 = minimize(objective, initial_theta, args=(1,False), bounds=bounds, constraints=constraints, method='SLSQP')\n",
        "\n",
        "    # Display the result\n",
        "    if result0.success:\n",
        "        theta_alt_0min_arr.append(result0.x[0])\n",
        "    else:\n",
        "        print(\"Optimization failed:\", result0.message)\n",
        "\n",
        "    if result1.success:\n",
        "        theta_alt_1min_arr.append(result1.x[0])\n",
        "    else:\n",
        "        print(\"Optimization failed:\", result1.message)"
      ],
      "metadata": {
        "id": "XimzYdsgdl-j"
      },
      "execution_count": 49,
      "outputs": []
    },
    {
      "cell_type": "code",
      "source": [
        "on_theta_hist_arr\n",
        "p_value_arr=1/np.array(on_theta_hist_arr)\n",
        "p_value_arr"
      ],
      "metadata": {
        "id": "FAXZV-wcLNZJ",
        "outputId": "87da03bf-2d5a-4fc5-bc56-70eca89ab0b8",
        "colab": {
          "base_uri": "https://localhost:8080/"
        }
      },
      "execution_count": 52,
      "outputs": [
        {
          "output_type": "execute_result",
          "data": {
            "text/plain": [
              "[array([1, 1]),\n",
              " array([1.88243312e-18, 8.47772512e-03]),\n",
              " array([5.83849495e-37, 1.12932917e-11]),\n",
              " array([2.76052910e-54, 2.18711648e-25]),\n",
              " array([3.43415917e-65, 1.62173581e-43]),\n",
              " array([1.02479634e-82, 3.17159106e-56]),\n",
              " array([6.10326644e-97, 7.37839639e-73]),\n",
              " array([2.43625917e-110, 7.19056789e-090]),\n",
              " array([1.97093557e-125, 1.45429376e-105]),\n",
              " array([9.18137137e-141, 6.77465632e-121])]"
            ]
          },
          "metadata": {},
          "execution_count": 52
        }
      ]
    },
    {
      "cell_type": "code",
      "source": [
        "plt.subplot(2,1,1)\n",
        "plt.title(\"CI for theta alt\")\n",
        "plt.plot(range(len(theta_alt_arr)),np.array(theta_alt_arr)[:,0],color='r',label=\"theta_alt for theta_1\")\n",
        "plt.plot(range(len(theta_alt_arr)),np.array(theta_alt_arr)[:,1],color='b',label=\"theta_alt for theta_2\")\n",
        "\n",
        "plt.fill_between(range(len(theta_alt_arr)),\n",
        "                 np.array(theta_alt_0min_arr),\n",
        "                 np.array(theta_alt_0max_arr), color='r',\n",
        "                 alpha=0.2, label=\"CI for theta_1\")  # alpha controls transparency\n",
        "\n",
        "\n",
        "plt.fill_between(range(len(theta_alt_arr)),\n",
        "                 np.array(theta_alt_1min_arr),\n",
        "                 np.array(theta_alt_1max_arr), color='b',\n",
        "                 alpha=0.2, label=\"CI for theta_2\")  # alpha controls transparency\n",
        "\n",
        "\n",
        "# plt.plot(range(len(theta_alt_arr)),np.array(theta_alt_min_arr)[:,0],label=\"theta_alt min for theta_1\")\n",
        "# plt.plot(range(len(theta_alt_arr)),np.array(theta_alt_max_arr)[:,0],label=\"theta_alt max for theta_1\")\n",
        "# plt.plot(range(len(theta_alt_arr)),np.array(theta_alt_min_arr)[:,1],label=\"theta_alt min for theta_2\")\n",
        "# plt.plot(range(len(theta_alt_arr)),np.array(theta_alt_max_arr)[:,1],label=\"theta_alt max for theta_2\")\n",
        "\n",
        "plt.legend()\n",
        "plt.subplot(3,1,2)\n",
        "plt.title(\"Bayes factor for M1|M0\")\n",
        "plt.plot(range(len(theta_alt_arr)),np.array(on_theta_hist_arr)[:,0],color='r',label=\"Bayes factor for theta 1\")\n",
        "plt.plot(range(len(theta_alt_arr)),[0.05]*len(theta_alt_arr),'--',color='b',label=\"0.05\")\n",
        "plt.legend()\n",
        "plt.plot()\n",
        "\n",
        "\n",
        "plt.subplot(3,1,3)\n",
        "plt.title(\"Bayes factor for M1|M0\")\n",
        "plt.plot(range(len(theta_alt_arr)),np.array(on_theta_hist_arr)[:,1],color='r',label=\"Bayes factor for theta 2\")\n",
        "plt.plot(range(len(theta_alt_arr)),[0.05]*len(theta_alt_arr),'--',color='b',label=\"0.05\")\n",
        "plt.legend()\n",
        "plt.plot()"
      ],
      "metadata": {
        "colab": {
          "base_uri": "https://localhost:8080/",
          "height": 646
        },
        "id": "GDCNb4ckADlW",
        "outputId": "ceb420de-51f7-41d4-e0dc-b2ac6d460ad5"
      },
      "execution_count": 51,
      "outputs": [
        {
          "output_type": "error",
          "ename": "TypeError",
          "evalue": "min() got multiple values for argument 'axis'",
          "traceback": [
            "\u001b[0;31m---------------------------------------------------------------------------\u001b[0m",
            "\u001b[0;31mTypeError\u001b[0m                                 Traceback (most recent call last)",
            "\u001b[0;32m<ipython-input-51-53aebe7cee07>\u001b[0m in \u001b[0;36m<cell line: 34>\u001b[0;34m()\u001b[0m\n\u001b[1;32m     32\u001b[0m \u001b[0mplt\u001b[0m\u001b[0;34m.\u001b[0m\u001b[0msubplot\u001b[0m\u001b[0;34m(\u001b[0m\u001b[0;36m3\u001b[0m\u001b[0;34m,\u001b[0m\u001b[0;36m1\u001b[0m\u001b[0;34m,\u001b[0m\u001b[0;36m3\u001b[0m\u001b[0;34m)\u001b[0m\u001b[0;34m\u001b[0m\u001b[0;34m\u001b[0m\u001b[0m\n\u001b[1;32m     33\u001b[0m \u001b[0mplt\u001b[0m\u001b[0;34m.\u001b[0m\u001b[0mtitle\u001b[0m\u001b[0;34m(\u001b[0m\u001b[0;34m\"Bayes factor for M1|M0\"\u001b[0m\u001b[0;34m)\u001b[0m\u001b[0;34m\u001b[0m\u001b[0;34m\u001b[0m\u001b[0m\n\u001b[0;32m---> 34\u001b[0;31m \u001b[0mplt\u001b[0m\u001b[0;34m.\u001b[0m\u001b[0mplot\u001b[0m\u001b[0;34m(\u001b[0m\u001b[0mrange\u001b[0m\u001b[0;34m(\u001b[0m\u001b[0mlen\u001b[0m\u001b[0;34m(\u001b[0m\u001b[0mtheta_alt_arr\u001b[0m\u001b[0;34m)\u001b[0m\u001b[0;34m)\u001b[0m\u001b[0;34m,\u001b[0m\u001b[0mnp\u001b[0m\u001b[0;34m.\u001b[0m\u001b[0mmin\u001b[0m\u001b[0;34m(\u001b[0m\u001b[0;36m1\u001b[0m\u001b[0;34m,\u001b[0m\u001b[0;36m1\u001b[0m\u001b[0;34m/\u001b[0m\u001b[0mnp\u001b[0m\u001b[0;34m.\u001b[0m\u001b[0marray\u001b[0m\u001b[0;34m(\u001b[0m\u001b[0mon_theta_hist_arr\u001b[0m\u001b[0;34m)\u001b[0m\u001b[0;34m[\u001b[0m\u001b[0;34m:\u001b[0m\u001b[0;34m,\u001b[0m\u001b[0;36m1\u001b[0m\u001b[0;34m]\u001b[0m\u001b[0;34m,\u001b[0m\u001b[0maxis\u001b[0m\u001b[0;34m=\u001b[0m\u001b[0;36m0\u001b[0m\u001b[0;34m)\u001b[0m\u001b[0;34m,\u001b[0m\u001b[0mcolor\u001b[0m\u001b[0;34m=\u001b[0m\u001b[0;34m'r'\u001b[0m\u001b[0;34m,\u001b[0m\u001b[0mlabel\u001b[0m\u001b[0;34m=\u001b[0m\u001b[0;34m\"Bayes factor for theta 2\"\u001b[0m\u001b[0;34m)\u001b[0m\u001b[0;34m\u001b[0m\u001b[0;34m\u001b[0m\u001b[0m\n\u001b[0m\u001b[1;32m     35\u001b[0m \u001b[0mplt\u001b[0m\u001b[0;34m.\u001b[0m\u001b[0mplot\u001b[0m\u001b[0;34m(\u001b[0m\u001b[0mrange\u001b[0m\u001b[0;34m(\u001b[0m\u001b[0mlen\u001b[0m\u001b[0;34m(\u001b[0m\u001b[0mtheta_alt_arr\u001b[0m\u001b[0;34m)\u001b[0m\u001b[0;34m)\u001b[0m\u001b[0;34m,\u001b[0m\u001b[0;34m[\u001b[0m\u001b[0;36m0.05\u001b[0m\u001b[0;34m]\u001b[0m\u001b[0;34m*\u001b[0m\u001b[0mlen\u001b[0m\u001b[0;34m(\u001b[0m\u001b[0mtheta_alt_arr\u001b[0m\u001b[0;34m)\u001b[0m\u001b[0;34m,\u001b[0m\u001b[0;34m'--'\u001b[0m\u001b[0;34m,\u001b[0m\u001b[0mcolor\u001b[0m\u001b[0;34m=\u001b[0m\u001b[0;34m'b'\u001b[0m\u001b[0;34m,\u001b[0m\u001b[0mlabel\u001b[0m\u001b[0;34m=\u001b[0m\u001b[0;34m\"0.05\"\u001b[0m\u001b[0;34m)\u001b[0m\u001b[0;34m\u001b[0m\u001b[0;34m\u001b[0m\u001b[0m\n\u001b[1;32m     36\u001b[0m \u001b[0mplt\u001b[0m\u001b[0;34m.\u001b[0m\u001b[0mlegend\u001b[0m\u001b[0;34m(\u001b[0m\u001b[0;34m)\u001b[0m\u001b[0;34m\u001b[0m\u001b[0;34m\u001b[0m\u001b[0m\n",
            "\u001b[0;31mTypeError\u001b[0m: min() got multiple values for argument 'axis'"
          ]
        },
        {
          "output_type": "display_data",
          "data": {
            "text/plain": [
              "<Figure size 640x480 with 3 Axes>"
            ],
            "image/png": "[encoded data removed]"
          },
          "metadata": {}
        }
      ]
    },
    {
      "cell_type": "code",
      "source": [
        "np.round(theta_alt_0min_arr,3)"
      ],
      "metadata": {
        "id": "szZ9ZJqmFonK"
      },
      "execution_count": null,
      "outputs": []
    },
    {
      "cell_type": "code",
      "source": [
        "np.round(theta_alt_1min_arr,3)"
      ],
      "metadata": {
        "id": "rfTOlWmiGWKP"
      },
      "execution_count": null,
      "outputs": []
    },
    {
      "cell_type": "code",
      "source": [
        "np.round(theta_alt_1max_arr,3)"
      ],
      "metadata": {
        "id": "ZMkI3jKhGqo9"
      },
      "execution_count": null,
      "outputs": []
    },
    {
      "cell_type": "code",
      "source": [
        "np.round(theta_alt_0max_arr,3)"
      ],
      "metadata": {
        "id": "05AVqjtwGxTG"
      },
      "execution_count": null,
      "outputs": []
    },
    {
      "cell_type": "code",
      "source": [
        "1/np.array(on_theta_hist_arr) < (1/0.05)"
      ],
      "metadata": {
        "id": "JZu5owN6H282"
      },
      "execution_count": null,
      "outputs": []
    }
  ]
}