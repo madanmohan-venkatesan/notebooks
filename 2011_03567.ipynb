{
  "nbformat": 4,
  "nbformat_minor": 0,
  "metadata": {
    "colab": {
      "provenance": [],
      "include_colab_link": true
    },
    "kernelspec": {
      "name": "python3",
      "display_name": "Python 3"
    },
    "language_info": {
      "name": "python"
    }
  },
  "cells": [
    {
      "cell_type": "markdown",
      "metadata": {
        "id": "view-in-github",
        "colab_type": "text"
      },
      "source": [
        "<a href=\"https://colab.research.google.com/github/madanmohan-venkatesan/notebooks/blob/main/2011_03567.ipynb\" target=\"_parent\"><img src=\"https://colab.research.google.com/assets/colab-badge.svg\" alt=\"Open In Colab\"/></a>"
      ]
    },
    {
      "cell_type": "code",
      "execution_count": 235,
      "metadata": {
        "id": "rSS6APsGMflA"
      },
      "outputs": [],
      "source": [
        "import numpy as np\n",
        "from scipy.special import gamma"
      ]
    },
    {
      "cell_type": "markdown",
      "source": [
        "# 2. A sequential multinomial test\n"
      ],
      "metadata": {
        "id": "In_91-jD8ApW"
      }
    },
    {
      "cell_type": "code",
      "source": [
        "#CONSTANTS\n",
        "CLASSES=2\n",
        "VECTOR_SIZE=100"
      ],
      "metadata": {
        "id": "36jKfhbXFmIj"
      },
      "execution_count": 236,
      "outputs": []
    },
    {
      "cell_type": "code",
      "source": [
        "theta_null=np.array([1/CLASSES]*CLASSES) #Simplex\n",
        "rng = np.random.default_rng()\n",
        "vectors_null=rng.multinomial(1,theta_null,size=VECTOR_SIZE)"
      ],
      "metadata": {
        "id": "s_dACvtO_NA2"
      },
      "execution_count": 237,
      "outputs": []
    },
    {
      "cell_type": "code",
      "source": [
        "K=100\n",
        "alpha_dirichlet=K*theta_null\n",
        "rng = np.random.default_rng()\n",
        "theta_alt=rng.dirichlet(alpha_dirichlet)\n",
        "vectors_alt=rng.multinomial(1,theta_alt,size=VECTOR_SIZE)"
      ],
      "metadata": {
        "id": "8zusc_0MGgm6"
      },
      "execution_count": 238,
      "outputs": []
    },
    {
      "cell_type": "code",
      "source": [
        "s_n_null=np.sum(vectors_null,axis=0)\n",
        "s_n_alt=np.sum(vectors_alt,axis=0)"
      ],
      "metadata": {
        "id": "h82N7rFpAB0f"
      },
      "execution_count": 239,
      "outputs": []
    },
    {
      "cell_type": "code",
      "source": [
        "#need some exceptions\n",
        "def beta(v):\n",
        "  numerator=np.prod(gamma(v))\n",
        "  denominator=gamma(np.sum(v))\n",
        "  return numerator/denominator"
      ],
      "metadata": {
        "id": "kqjLRpG1BhW2"
      },
      "execution_count": 240,
      "outputs": []
    },
    {
      "cell_type": "code",
      "source": [
        "#need some exceptions\n",
        "def bf_10(dirichlet_alpha,theta,counts):\n",
        "  term1_numerator=beta(dirichlet_alpha+counts)\n",
        "  term1_denominator=beta(dirichlet_alpha)\n",
        "  term1=term1_numerator/term1_denominator\n",
        "\n",
        "  term2=1/(theta**counts)\n",
        "\n",
        "  return term1*term2"
      ],
      "metadata": {
        "id": "eCUPUpOyB7xh"
      },
      "execution_count": 241,
      "outputs": []
    },
    {
      "cell_type": "code",
      "source": [
        "bf_10(alpha_dirichlet,theta_null,s_n_null)"
      ],
      "metadata": {
        "colab": {
          "base_uri": "https://localhost:8080/"
        },
        "id": "Pvvh6KuiCvSD",
        "outputId": "0ebde7d5-2f5b-4edb-dacd-05d5a971a379"
      },
      "execution_count": 242,
      "outputs": [
        {
          "output_type": "stream",
          "name": "stderr",
          "text": [
            "/usr/local/lib/python3.10/dist-packages/numpy/core/fromnumeric.py:88: RuntimeWarning: overflow encountered in reduce\n",
            "  return ufunc.reduce(obj, axis, dtype, out, **passkwargs)\n",
            "<ipython-input-240-c183c70bffb2>:5: RuntimeWarning: invalid value encountered in scalar divide\n",
            "  return numerator/denominator\n"
          ]
        },
        {
          "output_type": "execute_result",
          "data": {
            "text/plain": [
              "array([nan, nan])"
            ]
          },
          "metadata": {},
          "execution_count": 242
        }
      ]
    },
    {
      "cell_type": "code",
      "source": [
        "bf_10(alpha_dirichlet,theta_null,s_n_alt)"
      ],
      "metadata": {
        "colab": {
          "base_uri": "https://localhost:8080/"
        },
        "id": "DigAZ1X7C91D",
        "outputId": "de20b4a7-884b-482c-bff2-82314ab94344"
      },
      "execution_count": 243,
      "outputs": [
        {
          "output_type": "stream",
          "name": "stderr",
          "text": [
            "<ipython-input-240-c183c70bffb2>:5: RuntimeWarning: invalid value encountered in scalar divide\n",
            "  return numerator/denominator\n"
          ]
        },
        {
          "output_type": "execute_result",
          "data": {
            "text/plain": [
              "array([nan, nan])"
            ]
          },
          "metadata": {},
          "execution_count": 243
        }
      ]
    },
    {
      "cell_type": "markdown",
      "source": [
        "For above bf_10, if theta_0 not equal theta then values will go to infinity (reject null hypothesis)\n",
        "otherwise value is zero(accept null hypothesis)\n",
        "\n",
        "Hyper paramters to play around with are K and vector size\n",
        "\n"
      ],
      "metadata": {
        "id": "pRZ4TCxbEgmC"
      }
    },
    {
      "cell_type": "code",
      "source": [
        "theta_null_arr=[]\n",
        "theta_alt_arr=[]\n",
        "dirichlet_alpha_arr=[]\n",
        "vetors_null_arr=[]\n",
        "vectors_alt_arr=[]\n",
        "for i in range(10):\n",
        "  if i==0:\n",
        "    K=10\n",
        "  else:\n",
        "    K=K#+(0.5*K)\n",
        "  #generate null vectors\n",
        "  theta_null=np.array([1/CLASSES]*CLASSES) #Simplex\n",
        "  rng = np.random.default_rng()\n",
        "  vectors_null=rng.multinomial(1,theta_null,size=VECTOR_SIZE)\n",
        "  #generate alt vectors\n",
        "\n",
        "  alpha_dirichlet=K*theta_null\n",
        "  rng = np.random.default_rng()\n",
        "  theta_alt=rng.dirichlet(alpha_dirichlet)\n",
        "  vectors_alt=rng.multinomial(1,theta_alt,size=VECTOR_SIZE)\n",
        "\n",
        "  theta_null_arr.append(theta_null)\n",
        "  theta_alt_arr.append(theta_alt)\n",
        "  dirichlet_alpha_arr.append(alpha_dirichlet)\n",
        "  vetors_null_arr.append(vectors_null)\n",
        "  vectors_alt_arr.append(vectors_alt)"
      ],
      "metadata": {
        "id": "MdBMfgn0EfiG"
      },
      "execution_count": 244,
      "outputs": []
    },
    {
      "cell_type": "code",
      "source": [
        "#give some exceptions\n",
        "on_theta_hist_arr=[]\n",
        "for i in range(len(theta_null_arr)):\n",
        "  on_theta_prev = None\n",
        "  if i==0:\n",
        "    on_theta_prev = np.array([1,1])\n",
        "    on_theta_hist_arr.append(on_theta_prev)\n",
        "\n",
        "  else:\n",
        "    s_n_null=np.sum(vetors_null_arr[i],axis=0)\n",
        "    s_n_alt=np.sum(vectors_alt_arr[i],axis=0)\n",
        "    term1_numerator=beta(dirichlet_alpha_arr[i]+s_n_alt)\n",
        "    term1_denominator=beta(dirichlet_alpha_arr[i])\n",
        "    term1=term1_numerator/term1_denominator\n",
        "\n",
        "    term2=1/(theta_null_arr[i]**s_n_alt)\n",
        "\n",
        "    on_theta_hist_arr.append(on_theta_hist_arr[i-1]*term1*term2)"
      ],
      "metadata": {
        "id": "14ZPErlcHo8N"
      },
      "execution_count": 245,
      "outputs": []
    },
    {
      "cell_type": "code",
      "source": [
        "on_theta_hist_arr=np.array(on_theta_hist_arr)\n",
        "on_theta_hist_arr"
      ],
      "metadata": {
        "colab": {
          "base_uri": "https://localhost:8080/"
        },
        "id": "crT1HApBJBFW",
        "outputId": "2eaaf4f0-575c-44fb-8ecd-1da6993a04e9"
      },
      "execution_count": 246,
      "outputs": [
        {
          "output_type": "execute_result",
          "data": {
            "text/plain": [
              "array([[1.00000000e+000, 1.00000000e+000],\n",
              "       [3.86023753e-017, 2.47055202e-015],\n",
              "       [2.05856398e-032, 3.29370237e-031],\n",
              "       [1.88830525e-050, 5.06888080e-042],\n",
              "       [1.73212819e-068, 7.80081186e-053],\n",
              "       [1.21997952e-084, 8.79087892e-068],\n",
              "       [6.85503887e-094, 4.60033871e-086],\n",
              "       [1.49290209e-106, 1.52873174e-103],\n",
              "       [8.36040257e-124, 2.46755531e-103],\n",
              "       [1.82074278e-136, 8.19989648e-121]])"
            ]
          },
          "metadata": {},
          "execution_count": 246
        }
      ]
    },
    {
      "cell_type": "code",
      "source": [
        "np.where(on_theta_hist_arr<(1/0.05),on_theta_hist_arr,np.inf)"
      ],
      "metadata": {
        "id": "YNZ7aygOLFJX",
        "outputId": "de7173a7-9371-4101-a53e-d90bfe6b1a01",
        "colab": {
          "base_uri": "https://localhost:8080/"
        }
      },
      "execution_count": 247,
      "outputs": [
        {
          "output_type": "execute_result",
          "data": {
            "text/plain": [
              "array([[1.00000000e+000, 1.00000000e+000],\n",
              "       [3.86023753e-017, 2.47055202e-015],\n",
              "       [2.05856398e-032, 3.29370237e-031],\n",
              "       [1.88830525e-050, 5.06888080e-042],\n",
              "       [1.73212819e-068, 7.80081186e-053],\n",
              "       [1.21997952e-084, 8.79087892e-068],\n",
              "       [6.85503887e-094, 4.60033871e-086],\n",
              "       [1.49290209e-106, 1.52873174e-103],\n",
              "       [8.36040257e-124, 2.46755531e-103],\n",
              "       [1.82074278e-136, 8.19989648e-121]])"
            ]
          },
          "metadata": {},
          "execution_count": 247
        }
      ]
    },
    {
      "cell_type": "markdown",
      "source": [
        "# Optimization problem for theta"
      ],
      "metadata": {
        "id": "l4nQW-e7QZA0"
      }
    },
    {
      "cell_type": "code",
      "source": [
        "on_theta_hist_arr_=on_theta_hist_arr[on_theta_hist_arr<(1/0.05)].reshape(-1,2)"
      ],
      "metadata": {
        "id": "6dxrlgJVXncr"
      },
      "execution_count": 248,
      "outputs": []
    },
    {
      "cell_type": "code",
      "source": [
        "c = np.log(beta(alpha_dirichlet+s_n_alt)) - np.log(beta(alpha_dirichlet))\n",
        "u=0.05"
      ],
      "metadata": {
        "id": "tGcGN8h6Op_F"
      },
      "execution_count": 249,
      "outputs": []
    },
    {
      "cell_type": "code",
      "source": [
        "def constraint_1(theta,):\n",
        "  return c+np.log(u)-np.sum(np.sum(vectors_alt_arr[-1],axis=0)*np.log(theta))\n",
        "def constraint_2(theta):\n",
        "  return np.sum(theta)-1\n",
        "def objective(theta):\n",
        "  return -theta"
      ],
      "metadata": {
        "id": "O4J6duGmQ6oQ"
      },
      "execution_count": 258,
      "outputs": []
    },
    {
      "cell_type": "code",
      "source": [
        "constraints=({'type':'ineq','fun':constraint_1},\n",
        "             {'type':'eq','fun':constraint_2})"
      ],
      "metadata": {
        "id": "EdeG6GwhZUi2"
      },
      "execution_count": 259,
      "outputs": []
    },
    {
      "cell_type": "code",
      "source": [
        "from scipy.optimize import minimize\n",
        "\n",
        "def objective(theta, i):\n",
        "    \"\"\"\n",
        "    Objective function to maximize theta_i.\n",
        "\n",
        "    Parameters:\n",
        "    - theta (array): Probability vector (simplex).\n",
        "    - i (int): Index of the element to maximize.\n",
        "\n",
        "    Returns:\n",
        "    - float: Negative of theta[i] to convert minimization to maximization.\n",
        "    \"\"\"\n",
        "    return -theta[i]\n",
        "\n",
        "def constraint_sum(theta):\n",
        "    \"\"\"\n",
        "    Constraint ensuring that the sum of theta is 1.\n",
        "\n",
        "    Parameters:\n",
        "    - theta (array): Probability vector (simplex).\n",
        "\n",
        "    Returns:\n",
        "    - float: Sum of theta - 1 (should be 0).\n",
        "    \"\"\"\n",
        "    return np.sum(theta) - 1\n",
        "\n",
        "def constraint_log_likelihood(theta, Sn, c):\n",
        "    \"\"\"\n",
        "    Log-likelihood constraint.\n",
        "\n",
        "    Parameters:\n",
        "    - theta (array): Probability vector (simplex).\n",
        "    - Sn (array): Observed count vector S_{n,i}.\n",
        "    - c (float): Constant c + log u.\n",
        "\n",
        "    Returns:\n",
        "    - float: Left-hand side of the constraint.\n",
        "    \"\"\"\n",
        "    return np.sum(Sn * np.log(theta)) - c\n",
        "\n",
        "# Example data\n",
        "Sn = np.sum(vectors_alt_arr[i],axis=0)  # Example counts for categories\n",
        "c = np.log(beta(dirichlet_alpha_arr[-1]+np.sum(vectors_alt_arr[i],axis=0))) - np.log(beta(dirichlet_alpha_arr[-1]))  # Example constant for log Beta terms\n",
        "u = 0.05  # Example confidence level\n",
        "c += np.log(u)\n",
        "\n",
        "# Initial guess for theta (uniform distribution)\n",
        "initial_theta = np.full(len(Sn), 1 / len(Sn))\n",
        "\n",
        "# Constraints\n",
        "constraints = [\n",
        "    {'type': 'eq', 'fun': constraint_sum},\n",
        "    {'type': 'ineq', 'fun': constraint_log_likelihood, 'args': (Sn, c)}\n",
        "]\n",
        "\n",
        "# Index of theta to maximize\n",
        "i = 0  # Change this to select a different element of theta\n",
        "\n",
        "# Bounds to ensure theta remains within [0, 1]\n",
        "bounds = [(0, 1) for _ in range(len(Sn))]\n",
        "\n",
        "# Solve the optimization problem\n",
        "result = minimize(objective, initial_theta, args=(i,), bounds=bounds, constraints=constraints, method='SLSQP')\n",
        "\n",
        "# Display the result\n",
        "if result.success:\n",
        "    print(\"Optimal theta:\", result.x)\n",
        "    print(f\"Maximized theta[{i}]:\", result.x[i])\n",
        "else:\n",
        "    print(\"Optimization failed:\", result.message)"
      ],
      "metadata": {
        "id": "K1upoofPRmmd",
        "outputId": "9dd610e5-5988-4bae-f464-bf123284bc41",
        "colab": {
          "base_uri": "https://localhost:8080/"
        }
      },
      "execution_count": 269,
      "outputs": [
        {
          "output_type": "stream",
          "name": "stdout",
          "text": [
            "Optimal theta: [0.45350482 0.54649518]\n",
            "Maximized theta[0]: 0.45350482377083673\n"
          ]
        }
      ]
    },
    {
      "cell_type": "code",
      "source": [
        "from scipy.optimize import minimize\n",
        "\n",
        "def objective(theta, i):\n",
        "    \"\"\"\n",
        "    Objective function to maximize theta_i.\n",
        "\n",
        "    Parameters:\n",
        "    - theta (array): Probability vector (simplex).\n",
        "    - i (int): Index of the element to maximize.\n",
        "\n",
        "    Returns:\n",
        "    - float: Negative of theta[i] to convert minimization to maximization.\n",
        "    \"\"\"\n",
        "    return theta[i]\n",
        "\n",
        "def constraint_sum(theta):\n",
        "    \"\"\"\n",
        "    Constraint ensuring that the sum of theta is 1.\n",
        "\n",
        "    Parameters:\n",
        "    - theta (array): Probability vector (simplex).\n",
        "\n",
        "    Returns:\n",
        "    - float: Sum of theta - 1 (should be 0).\n",
        "    \"\"\"\n",
        "    return np.sum(theta) - 1\n",
        "\n",
        "def constraint_log_likelihood(theta, Sn, c):\n",
        "    \"\"\"\n",
        "    Log-likelihood constraint.\n",
        "\n",
        "    Parameters:\n",
        "    - theta (array): Probability vector (simplex).\n",
        "    - Sn (array): Observed count vector S_{n,i}.\n",
        "    - c (float): Constant c + log u.\n",
        "\n",
        "    Returns:\n",
        "    - float: Left-hand side of the constraint.\n",
        "    \"\"\"\n",
        "    return np.sum(Sn * np.log(theta)) - c\n",
        "\n",
        "# Example data\n",
        "Sn = np.sum(vectors_alt_arr[i],axis=0)  # Example counts for categories\n",
        "c = np.log(beta(dirichlet_alpha_arr[-1]+np.sum(vectors_alt_arr[i],axis=0))) - np.log(beta(dirichlet_alpha_arr[-1]))  # Example constant for log Beta terms\n",
        "u = 0.05  # Example confidence level\n",
        "c += np.log(u)\n",
        "\n",
        "# Initial guess for theta (uniform distribution)\n",
        "initial_theta = np.full(len(Sn), 1 / len(Sn))\n",
        "\n",
        "# Constraints\n",
        "constraints = [\n",
        "    {'type': 'eq', 'fun': constraint_sum},\n",
        "    {'type': 'ineq', 'fun': constraint_log_likelihood, 'args': (Sn, c)}\n",
        "]\n",
        "\n",
        "# Index of theta to maximize\n",
        "i = 0  # Change this to select a different element of theta\n",
        "\n",
        "# Bounds to ensure theta remains within [0, 1]\n",
        "bounds = [(0, 1) for _ in range(len(Sn))]\n",
        "\n",
        "# Solve the optimization problem\n",
        "result = minimize(objective, initial_theta, args=(i,), bounds=bounds, constraints=constraints, method='SLSQP')\n",
        "\n",
        "# Display the result\n",
        "if result.success:\n",
        "    print(\"Optimal theta:\", result.x)\n",
        "    print(f\"Maximized theta[{i}]:\", result.x[i])\n",
        "else:\n",
        "    print(\"Optimization failed:\", result.message)"
      ],
      "metadata": {
        "id": "Y8CbJ0_ydWf2",
        "outputId": "a9b6f90c-b0e3-49a0-e9d1-a94acb029d17",
        "colab": {
          "base_uri": "https://localhost:8080/"
        }
      },
      "execution_count": 268,
      "outputs": [
        {
          "output_type": "stream",
          "name": "stdout",
          "text": [
            "Optimal theta: [0.17201342 0.82798658]\n",
            "Maximized theta[0]: 0.17201341724726557\n"
          ]
        }
      ]
    },
    {
      "cell_type": "code",
      "source": [
        "theta_alt_arr[-1]"
      ],
      "metadata": {
        "id": "XimzYdsgdl-j",
        "outputId": "2b04427b-bd5f-4ce3-ec5c-901fa9accc45",
        "colab": {
          "base_uri": "https://localhost:8080/"
        }
      },
      "execution_count": 270,
      "outputs": [
        {
          "output_type": "execute_result",
          "data": {
            "text/plain": [
              "array([0.63899674, 0.36100326])"
            ]
          },
          "metadata": {},
          "execution_count": 270
        }
      ]
    }
  ]
}