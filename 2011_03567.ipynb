{
  "nbformat": 4,
  "nbformat_minor": 0,
  "metadata": {
    "colab": {
      "provenance": [],
      "include_colab_link": true
    },
    "kernelspec": {
      "name": "python3",
      "display_name": "Python 3"
    },
    "language_info": {
      "name": "python"
    }
  },
  "cells": [
    {
      "cell_type": "markdown",
      "metadata": {
        "id": "view-in-github",
        "colab_type": "text"
      },
      "source": [
        "<a href=\"https://colab.research.google.com/github/madanmohan-venkatesan/notebooks/blob/main/2011_03567.ipynb\" target=\"_parent\"><img src=\"https://colab.research.google.com/assets/colab-badge.svg\" alt=\"Open In Colab\"/></a>"
      ]
    },
    {
      "cell_type": "code",
      "execution_count": 1,
      "metadata": {
        "id": "rSS6APsGMflA"
      },
      "outputs": [],
      "source": [
        "import numpy as np\n",
        "from scipy.special import gamma\n",
        "from scipy.optimize import minimize\n",
        "from matplotlib import pyplot as plt\n",
        "import seaborn as sns"
      ]
    },
    {
      "cell_type": "markdown",
      "source": [
        "# 2. A sequential multinomial test\n"
      ],
      "metadata": {
        "id": "In_91-jD8ApW"
      }
    },
    {
      "cell_type": "code",
      "source": [
        "a=np.array([1,2,np.nan])\n",
        "np.prod(a,where=np.isfinite(a))"
      ],
      "metadata": {
        "id": "wLezFvQ0gbhy",
        "outputId": "e8d7ddcc-8ac2-47e5-ed52-c4ba6186acfd",
        "colab": {
          "base_uri": "https://localhost:8080/"
        }
      },
      "execution_count": 2,
      "outputs": [
        {
          "output_type": "execute_result",
          "data": {
            "text/plain": [
              "2.0"
            ]
          },
          "metadata": {},
          "execution_count": 2
        }
      ]
    },
    {
      "cell_type": "code",
      "source": [
        "#CONSTANTS\n",
        "CLASSES=2\n",
        "VECTOR_SIZE=100"
      ],
      "metadata": {
        "id": "36jKfhbXFmIj"
      },
      "execution_count": 3,
      "outputs": []
    },
    {
      "cell_type": "code",
      "source": [
        "theta_null=np.array([1/CLASSES]*CLASSES) #Simplex\n",
        "rng = np.random.default_rng()\n",
        "vectors_null=rng.multinomial(1,theta_null,size=VECTOR_SIZE)"
      ],
      "metadata": {
        "id": "s_dACvtO_NA2"
      },
      "execution_count": 4,
      "outputs": []
    },
    {
      "cell_type": "code",
      "source": [
        "K=100\n",
        "alpha_dirichlet=K*theta_null\n",
        "rng = np.random.default_rng()\n",
        "theta_alt=rng.dirichlet(alpha_dirichlet)\n",
        "vectors_alt=rng.multinomial(1,theta_alt,size=VECTOR_SIZE)"
      ],
      "metadata": {
        "id": "8zusc_0MGgm6"
      },
      "execution_count": 5,
      "outputs": []
    },
    {
      "cell_type": "code",
      "source": [
        "s_n_null=np.sum(vectors_null,axis=0)\n",
        "s_n_alt=np.sum(vectors_alt,axis=0)"
      ],
      "metadata": {
        "id": "h82N7rFpAB0f"
      },
      "execution_count": 6,
      "outputs": []
    },
    {
      "cell_type": "code",
      "source": [
        "def beta(v):\n",
        "\n",
        "  gamma_v=gamma(v)\n",
        "  numerator=np.prod(v,where=np.isfinite(gamma_v))\n",
        "  denominator=gamma(np.sum(v,where=np.isfinite(v)))\n",
        "  result=numerator/denominator\n",
        "  if np.isnan(result).any():\n",
        "    return np.array([np.inf])\n",
        "  else:\n",
        "    return result\n"
      ],
      "metadata": {
        "id": "kqjLRpG1BhW2"
      },
      "execution_count": 7,
      "outputs": []
    },
    {
      "cell_type": "code",
      "source": [
        "def bf_10(dirichlet_alpha,theta,counts):\n",
        "  term1_numerator=beta(dirichlet_alpha+counts)\n",
        "  term1_denominator=beta(dirichlet_alpha)\n",
        "  term1=term1_numerator/term1_denominator\n",
        "\n",
        "  term2=1/(theta**counts)\n",
        "  result=term1*term2\n",
        "\n",
        "  if np.isnan(result).any() or np.isinf(result).any():\n",
        "    return np.array([np.inf]*len(result))\n",
        "  else:\n",
        "    return result\n"
      ],
      "metadata": {
        "id": "eCUPUpOyB7xh"
      },
      "execution_count": 8,
      "outputs": []
    },
    {
      "cell_type": "code",
      "source": [
        "bf_10(alpha_dirichlet,theta_null,s_n_alt)"
      ],
      "metadata": {
        "colab": {
          "base_uri": "https://localhost:8080/"
        },
        "id": "DigAZ1X7C91D",
        "outputId": "8729d2d4-12e6-4de7-8749-26755ad50787"
      },
      "execution_count": 9,
      "outputs": [
        {
          "output_type": "execute_result",
          "data": {
            "text/plain": [
              "array([0., 0.])"
            ]
          },
          "metadata": {},
          "execution_count": 9
        }
      ]
    },
    {
      "cell_type": "markdown",
      "source": [
        "For above bf_10, if theta_0 not equal theta then values will go to infinity (reject null hypothesis)\n",
        "otherwise value is zero(accept null hypothesis)\n",
        "\n",
        "Hyper paramters to play around with are K and vector size\n",
        "\n"
      ],
      "metadata": {
        "id": "pRZ4TCxbEgmC"
      }
    },
    {
      "cell_type": "code",
      "source": [],
      "metadata": {
        "id": "WS_yGgxl6Z9w"
      },
      "execution_count": 9,
      "outputs": []
    },
    {
      "cell_type": "code",
      "source": [
        "theta_null_arr=[]\n",
        "theta_alt_arr=[]\n",
        "dirichlet_alpha_arr=[]\n",
        "vetors_null_arr=[]\n",
        "vectors_alt_arr=[]\n",
        "for i in range(10):\n",
        "  if i==0:\n",
        "    K=10\n",
        "  else:\n",
        "    K=K#+(0.5*K)\n",
        "  #generate null vectors\n",
        "  theta_null=np.array([1/CLASSES]*CLASSES) #Simplex\n",
        "  rng = np.random.default_rng()\n",
        "  vectors_null=rng.multinomial(1,theta_null,size=VECTOR_SIZE)\n",
        "  #generate alt vectors\n",
        "\n",
        "  alpha_dirichlet=K*theta_null\n",
        "  rng = np.random.default_rng()\n",
        "  theta_alt=rng.dirichlet(alpha_dirichlet)\n",
        "  vectors_alt=rng.multinomial(1,theta_alt,size=VECTOR_SIZE)\n",
        "\n",
        "  theta_null_arr.append(theta_null)\n",
        "  theta_alt_arr.append(theta_alt)\n",
        "  dirichlet_alpha_arr.append(alpha_dirichlet)\n",
        "  vetors_null_arr.append(vectors_null)\n",
        "  vectors_alt_arr.append(vectors_alt)"
      ],
      "metadata": {
        "id": "MdBMfgn0EfiG"
      },
      "execution_count": 10,
      "outputs": []
    },
    {
      "cell_type": "code",
      "source": [
        "on_theta_hist_arr=[]\n",
        "for i in range(len(theta_null_arr)):\n",
        "  on_theta_prev = None\n",
        "  if i==0:\n",
        "    on_theta_prev = np.array([1,1])\n",
        "    on_theta_hist_arr.append(on_theta_prev)\n",
        "\n",
        "  else:\n",
        "    s_n_null=np.sum(vetors_null_arr[i],axis=0)\n",
        "    s_n_alt=np.sum(vectors_alt_arr[i],axis=0)\n",
        "    term1_numerator=beta(dirichlet_alpha_arr[i]+s_n_alt)\n",
        "    term1_denominator=beta(dirichlet_alpha_arr[i])\n",
        "    term1=term1_numerator/term1_denominator\n",
        "\n",
        "    term2=1/(theta_null_arr[i]**s_n_alt)\n",
        "\n",
        "    on_theta_hist_arr.append(on_theta_hist_arr[i-1]*term1*term2)"
      ],
      "metadata": {
        "id": "14ZPErlcHo8N"
      },
      "execution_count": 11,
      "outputs": []
    },
    {
      "cell_type": "markdown",
      "source": [
        "# Optimization problem for theta"
      ],
      "metadata": {
        "id": "l4nQW-e7QZA0"
      }
    },
    {
      "cell_type": "code",
      "source": [
        "def objective(theta, i,maximize=True):\n",
        "    \"\"\"\n",
        "    Objective function to maximize theta_i.\n",
        "\n",
        "    Parameters:\n",
        "    - theta (array): Probability vector (simplex).\n",
        "    - i (int): Index of the element to maximize.\n",
        "\n",
        "    Returns:\n",
        "    - float: Negative of theta[i] to convert minimization to maximization.\n",
        "    \"\"\"\n",
        "    if maximize:\n",
        "        return -theta[i]\n",
        "    else:\n",
        "      return theta[i]\n",
        "\n",
        "def constraint_sum(theta):\n",
        "    \"\"\"\n",
        "    Constraint ensuring that the sum of theta is 1.\n",
        "\n",
        "    Parameters:\n",
        "    - theta (array): Probability vector (simplex).\n",
        "\n",
        "    Returns:\n",
        "    - float: Sum of theta - 1 (should be 0).\n",
        "    \"\"\"\n",
        "    return np.sum(theta) - 1\n",
        "\n",
        "def constraint_log_likelihood(theta, Sn, c):\n",
        "    \"\"\"\n",
        "    Log-likelihood constraint.\n",
        "\n",
        "    Parameters:\n",
        "    - theta (array): Probability vector (simplex).\n",
        "    - Sn (array): Observed count vector S_{n,i}.\n",
        "    - c (float): Constant c + log u.\n",
        "\n",
        "    Returns:\n",
        "    - float: Left-hand side of the constraint.\n",
        "    \"\"\"\n",
        "\n",
        "    epsilon = 1e-10\n",
        "    return np.sum(Sn * np.log(np.clip(theta, epsilon, None))) - c"
      ],
      "metadata": {
        "id": "K1upoofPRmmd"
      },
      "execution_count": 12,
      "outputs": []
    },
    {
      "cell_type": "markdown",
      "source": [
        "# Real simulation"
      ],
      "metadata": {
        "id": "IJ9GC-5P7F6U"
      }
    },
    {
      "cell_type": "code",
      "source": [
        "#CONSTANTS\n",
        "CLASSES=2\n",
        "VECTOR_SIZE=100\n",
        "\n",
        "theta_null=np.array([1/CLASSES]*CLASSES) #Simplex\n",
        "rng = np.random.default_rng()\n",
        "vectors_null=rng.multinomial(1,theta_null,size=VECTOR_SIZE)\n",
        "K=100\n",
        "alpha_dirichlet=K*theta_null\n",
        "rng = np.random.default_rng()\n",
        "theta_alt=rng.dirichlet(alpha_dirichlet)\n",
        "vectors_alt=rng.multinomial(1,theta_alt,size=VECTOR_SIZE)\n",
        "\n",
        "\n",
        "on_theta_hist_arr=[]\n",
        "theta_alt_1max_arr=[]\n",
        "theta_alt_1min_arr=[]\n",
        "\n",
        "theta_alt_0max_arr=[]\n",
        "theta_alt_0min_arr=[]\n",
        "\n",
        "seq_p_val_arr=[]\n",
        "counter=0\n",
        "for i in range(0,VECTOR_SIZE,int(VECTOR_SIZE/100)):\n",
        "\n",
        "  on_theta_prev = None\n",
        "  vectors_null_i=[]\n",
        "  vectors_alt_i=[]\n",
        "  if counter==0:\n",
        "    on_theta_prev = np.array([1]*CLASSES)\n",
        "    vectors_null_i=vectors_null[counter]\n",
        "    vectors_alt_i=vectors_alt[counter]\n",
        "    on_theta_hist_arr.append(on_theta_prev)\n",
        "    seq_p_val_arr.append(np.array([1]*CLASSES))\n",
        "  else:\n",
        "    vectors_null_i=vectors_null[:i]\n",
        "    vectors_alt_i=vectors_alt[:i]\n",
        "\n",
        "  s_n_null=np.sum(vectors_null_i,axis=0)\n",
        "  s_n_alt=np.sum(vectors_alt_i,axis=0)\n",
        "\n",
        "  term1_numerator=beta(alpha_dirichlet+s_n_alt)\n",
        "  term1_denominator=beta(alpha_dirichlet)\n",
        "  term1=term1_numerator/term1_denominator\n",
        "\n",
        "  term2=1/(theta_null**s_n_alt)\n",
        "  on_theta_curr=on_theta_hist_arr[-1]*term1*term2\n",
        "  print(counter)\n",
        "\n",
        "\n",
        "  if ((on_theta_curr >= 1/0.05).any()) or (np.isnan(on_theta_curr).any()):\n",
        "    print(\"Reject null hypothesis\")\n",
        "    break\n",
        "  else:\n",
        "    print(\"Accept null hypothesis\")\n",
        "\n",
        "  if ((on_theta_curr < 1/0.05).any()) or (np.isnan(on_theta_curr).any()):\n",
        "    print(\"proceeding with optimization\")\n",
        "  else:\n",
        "    print(\"Reject null hypothesis\")\n",
        "    break\n",
        "\n",
        "  c = np.log(beta(alpha_dirichlet+s_n_alt)) - np.log(beta(alpha_dirichlet))  # Example constant for log Beta terms\n",
        "  u = 0.05  # Example confidence level\n",
        "  c += np.log(u)\n",
        "\n",
        "  # Initial guess for theta (uniform distribution)\n",
        "  initial_theta = np.full(len(theta_alt), 1 / len(theta_alt))\n",
        "\n",
        "  # Constraints\n",
        "  constraints = [\n",
        "      {'type': 'eq', 'fun': constraint_sum},\n",
        "      {'type': 'ineq', 'fun': constraint_log_likelihood, 'args': (s_n_alt, c)}\n",
        "  ]\n",
        "\n",
        "  # Bounds to ensure theta remains within [0, 1]\n",
        "  bounds = [(0, 1) for _ in range(len(theta_alt))]\n",
        "\n",
        "  # Solve the optimization problem\n",
        "  result0 = minimize(objective, initial_theta, args=(0,True), bounds=bounds, constraints=constraints, method='SLSQP')\n",
        "  result1 = minimize(objective, initial_theta, args=(1,True), bounds=bounds, constraints=constraints, method='SLSQP')\n",
        "\n",
        "  # Display the result\n",
        "  if result0.success:\n",
        "      theta_alt_0max_arr.append(result0.x[0])\n",
        "  else:\n",
        "      print(\"Optimization failed:\", result0.message)\n",
        "      break\n",
        "\n",
        "  if result1.success:\n",
        "      theta_alt_1max_arr.append(result1.x[0])\n",
        "  else:\n",
        "      print(\"Optimization failed:\", result1.message)\n",
        "      break\n",
        "\n",
        "\n",
        "\n",
        "\n",
        "  # Solve the optimization problem\n",
        "\n",
        "  result0 = minimize(objective, initial_theta, args=(0,False), bounds=bounds, constraints=constraints, method='SLSQP')\n",
        "  result1 = minimize(objective, initial_theta, args=(1,False), bounds=bounds, constraints=constraints, method='SLSQP')\n",
        "\n",
        "  # Display the result\n",
        "  if result0.success:\n",
        "      theta_alt_0min_arr.append(result0.x[0])\n",
        "  else:\n",
        "      print(\"Optimization failed:\", result0.message)\n",
        "      break\n",
        "\n",
        "  if result1.success:\n",
        "      theta_alt_1min_arr.append(result1.x[0])\n",
        "  else:\n",
        "      print(\"Optimization failed:\", result1.message)\n",
        "      break\n",
        "  if counter>0:\n",
        "    on_theta_hist_arr.append(on_theta_curr)\n",
        "    # p_val=np.clip(1/on_theta_curr,1/on_theta_curr,seq_p_val_arr[counter-1])\n",
        "    p_val=np.minimum(seq_p_val_arr[-1],1/on_theta_curr+epsilon)\n",
        "    seq_p_val_arr.append(p_val)\n",
        "\n",
        "  counter+=1"
      ],
      "metadata": {
        "id": "XimzYdsgdl-j",
        "colab": {
          "base_uri": "https://localhost:8080/",
          "height": 315
        },
        "outputId": "19b30f3d-6fda-45ae-c568-031001e7fa5e"
      },
      "execution_count": 13,
      "outputs": [
        {
          "output_type": "stream",
          "name": "stdout",
          "text": [
            "0\n",
            "Accept null hypothesis\n",
            "proceeding with optimization\n",
            "1\n",
            "Accept null hypothesis\n",
            "proceeding with optimization\n"
          ]
        },
        {
          "output_type": "error",
          "ename": "NameError",
          "evalue": "name 'epsilon' is not defined",
          "traceback": [
            "\u001b[0;31m---------------------------------------------------------------------------\u001b[0m",
            "\u001b[0;31mNameError\u001b[0m                                 Traceback (most recent call last)",
            "\u001b[0;32m<ipython-input-13-c3f0d4618e27>\u001b[0m in \u001b[0;36m<cell line: 24>\u001b[0;34m()\u001b[0m\n\u001b[1;32m    117\u001b[0m     \u001b[0mon_theta_hist_arr\u001b[0m\u001b[0;34m.\u001b[0m\u001b[0mappend\u001b[0m\u001b[0;34m(\u001b[0m\u001b[0mon_theta_curr\u001b[0m\u001b[0;34m)\u001b[0m\u001b[0;34m\u001b[0m\u001b[0;34m\u001b[0m\u001b[0m\n\u001b[1;32m    118\u001b[0m     \u001b[0;31m# p_val=np.clip(1/on_theta_curr,1/on_theta_curr,seq_p_val_arr[counter-1])\u001b[0m\u001b[0;34m\u001b[0m\u001b[0;34m\u001b[0m\u001b[0m\n\u001b[0;32m--> 119\u001b[0;31m     \u001b[0mp_val\u001b[0m\u001b[0;34m=\u001b[0m\u001b[0mnp\u001b[0m\u001b[0;34m.\u001b[0m\u001b[0mminimum\u001b[0m\u001b[0;34m(\u001b[0m\u001b[0mseq_p_val_arr\u001b[0m\u001b[0;34m[\u001b[0m\u001b[0;34m-\u001b[0m\u001b[0;36m1\u001b[0m\u001b[0;34m]\u001b[0m\u001b[0;34m,\u001b[0m\u001b[0;36m1\u001b[0m\u001b[0;34m/\u001b[0m\u001b[0mon_theta_curr\u001b[0m\u001b[0;34m+\u001b[0m\u001b[0mepsilon\u001b[0m\u001b[0;34m)\u001b[0m\u001b[0;34m\u001b[0m\u001b[0;34m\u001b[0m\u001b[0m\n\u001b[0m\u001b[1;32m    120\u001b[0m     \u001b[0mseq_p_val_arr\u001b[0m\u001b[0;34m.\u001b[0m\u001b[0mappend\u001b[0m\u001b[0;34m(\u001b[0m\u001b[0mp_val\u001b[0m\u001b[0;34m)\u001b[0m\u001b[0;34m\u001b[0m\u001b[0;34m\u001b[0m\u001b[0m\n\u001b[1;32m    121\u001b[0m \u001b[0;34m\u001b[0m\u001b[0m\n",
            "\u001b[0;31mNameError\u001b[0m: name 'epsilon' is not defined"
          ]
        }
      ]
    },
    {
      "cell_type": "code",
      "source": [
        "theta_alt"
      ],
      "metadata": {
        "id": "DEck-d40LEaL"
      },
      "execution_count": null,
      "outputs": []
    },
    {
      "cell_type": "code",
      "source": [
        "print(len(on_theta_hist_arr))\n",
        "print(len(theta_alt_1max_arr))\n",
        "print(len(theta_alt_1min_arr))\n",
        "print(len(theta_alt_0max_arr))\n",
        "print(len(theta_alt_0min_arr))\n",
        "print(len(seq_p_val_arr))\n",
        "\n"
      ],
      "metadata": {
        "id": "jcfSmSn_H6Tj"
      },
      "execution_count": null,
      "outputs": []
    },
    {
      "cell_type": "code",
      "source": [
        "# seq_p_val_arr"
      ],
      "metadata": {
        "id": "G5rBwVUpqKbP"
      },
      "execution_count": null,
      "outputs": []
    },
    {
      "cell_type": "code",
      "source": [
        "print(len(np.array(seq_p_val_arr)[:-1,0]))"
      ],
      "metadata": {
        "id": "spSPXDDny4qE"
      },
      "execution_count": null,
      "outputs": []
    },
    {
      "cell_type": "code",
      "source": [
        "import numpy as np\n",
        "from scipy.optimize import minimize\n",
        "# from scipy.special import beta\n",
        "\n",
        "# Updated objective function\n",
        "def objective(theta, i, maximize=True):\n",
        "    \"\"\"\n",
        "    Objective function to maximize or minimize theta_i.\n",
        "\n",
        "    Parameters:\n",
        "    - theta (array): Probability vector (simplex).\n",
        "    - i (int): Index of the element to optimize.\n",
        "    - maximize (bool): True to maximize, False to minimize.\n",
        "\n",
        "    Returns:\n",
        "    - float: Optimized theta[i] (negative for maximization).\n",
        "    \"\"\"\n",
        "    if maximize:\n",
        "        return -theta[i]  # Maximize by minimizing the negative\n",
        "    else:\n",
        "        return theta[i]  # Minimize directly\n",
        "\n",
        "# Constraint for the sum of theta to be 1 (simplex condition)\n",
        "def constraint_sum(theta):\n",
        "    return np.sum(theta) - 1\n",
        "\n",
        "# Log-likelihood constraint with numerical stability\n",
        "\n",
        "def log_with_numerical_statibility(value):\n",
        "    \"\"\"\n",
        "    Logarithm with numerical stability.\n",
        "\n",
        "    Parameters:\n",
        "    - value (float): Input value.\n",
        "\n",
        "    Returns:\n",
        "    - float: Logarithm of the input value.\n",
        "    \"\"\"\n",
        "\n",
        "    epsilon = 1e-99  # Small constant for numerical stability\n",
        "    return np.log(np.clip(value, epsilon, None))\n",
        "epsilon = 1e-99  # Small constant for numerical stability\n",
        "\n",
        "def constraint_log_likelihood(theta, Sn, c):\n",
        "    \"\"\"\n",
        "    Log-likelihood constraint ensuring numerical stability.\n",
        "\n",
        "    Parameters:\n",
        "    - theta (array): Probability vector (simplex).\n",
        "    - Sn (array): Observed count vector S_{n,i}.\n",
        "    - c (float): Constant c + log u.\n",
        "\n",
        "    Returns:\n",
        "    - float: Result of the log-likelihood constraint.\n",
        "    \"\"\"\n",
        "    return np.sum(Sn * log_with_numerical_statibility(theta)) - c\n",
        "\n",
        "# Constants\n",
        "CLASSES = 2\n",
        "VECTOR_SIZE = 100\n",
        "theta_null = np.array([1 / CLASSES] * CLASSES)  # Initial null hypothesis (simplex)\n",
        "rng = np.random.default_rng()\n",
        "vectors_null = rng.multinomial(1, theta_null, size=VECTOR_SIZE)\n",
        "K = 100\n",
        "alpha_dirichlet = K * theta_null\n",
        "theta_alt = rng.dirichlet(alpha_dirichlet)\n",
        "vectors_alt = rng.multinomial(1, theta_alt, size=VECTOR_SIZE)\n",
        "\n",
        "# Storage for results\n",
        "theta_alt_1max_arr = []\n",
        "theta_alt_1min_arr = []\n",
        "theta_alt_0max_arr = []\n",
        "theta_alt_0min_arr = []\n",
        "\n",
        "seq_p_val_arr = []\n",
        "counter = 0\n",
        "NULL_REJECTED = False\n",
        "# Iterative procedure for calculating bounds\n",
        "for i in range(0, VECTOR_SIZE, 1):#VECTOR_SIZE // 100):\n",
        "  if not NULL_REJECTED:\n",
        "      vectors_null_i = []\n",
        "      vectors_alt_i = []\n",
        "\n",
        "      if counter == 0:\n",
        "          on_theta_prev = np.array([1] * CLASSES)\n",
        "          vectors_null_i = vectors_null[counter]\n",
        "          vectors_alt_i = vectors_alt[counter]\n",
        "          seq_p_val_arr.append(np.array([1] * CLASSES))\n",
        "      else:\n",
        "          vectors_null_i = vectors_null[:i]\n",
        "          vectors_alt_i = vectors_alt[:i]\n",
        "\n",
        "      s_n_null = np.sum(vectors_null_i, axis=0)\n",
        "      s_n_alt = np.sum(vectors_alt_i, axis=0)\n",
        "\n",
        "      # Calculate term1 for the Bayesian update\n",
        "      term1_numerator = beta(alpha_dirichlet + s_n_alt)\n",
        "      term1_denominator = beta(alpha_dirichlet)\n",
        "      term1 = term1_numerator / term1_denominator\n",
        "\n",
        "      # Ensure numerical stability for the term2 calculation\n",
        "      term2 = 1 / (theta_null**s_n_alt + epsilon)\n",
        "      on_theta_curr = seq_p_val_arr[-1] * term1 * term2\n",
        "\n",
        "      print(f\"Iteration {counter}\")\n",
        "\n",
        "      # Check and update p-values\n",
        "      if ((on_theta_curr >= 1 / 0.05).any()) or (np.isnan(on_theta_curr).any()):\n",
        "          print(\"Reject null hypothesis\")\n",
        "          break\n",
        "      else:\n",
        "          print(\"Accept null hypothesis\")\n",
        "      print(beta(alpha_dirichlet + s_n_alt))\n",
        "      print(beta(alpha_dirichlet))\n",
        "\n",
        "      c = log_with_numerical_statibility(beta(alpha_dirichlet + s_n_alt)) - log_with_numerical_statibility(beta(alpha_dirichlet)) + epsilon\n",
        "      print(c)\n",
        "      u = 0.05  # Confidence level\n",
        "      c += log_with_numerical_statibility(u)\n",
        "      print(c)\n",
        "\n",
        "      # Initial guess for theta (uniform distribution)\n",
        "      initial_theta = np.full(len(theta_alt), 1 / len(theta_alt))\n",
        "\n",
        "      # Constraints\n",
        "      constraints = [\n",
        "          {'type': 'eq', 'fun': constraint_sum},\n",
        "          {'type': 'ineq', 'fun': constraint_log_likelihood, 'args': (s_n_alt, c)}\n",
        "      ]\n",
        "\n",
        "      # Bounds to ensure theta remains in the range [0, 1]\n",
        "      # bounds = [(0, 1) for _ in range(len(theta_alt))]\n",
        "      bounds = [(epsilon, 1 - epsilon) for _ in range(len(theta_alt))]\n",
        "\n",
        "      # Maximize theta for both classes\n",
        "      for j in range(CLASSES):\n",
        "          result_max = minimize(objective, initial_theta, args=(j, True), bounds=bounds, constraints=constraints, method='trust-constr')\n",
        "          if result_max.success:\n",
        "              if j == 0:\n",
        "                  theta_alt_0max_arr.append(result_max.x[0])\n",
        "              else:\n",
        "                  theta_alt_1max_arr.append(result_max.x[1])\n",
        "          else:\n",
        "              print(f\"Optimization failed for max class {j}:\", result_max.message)\n",
        "              NULL_REJECTED = True\n",
        "              break\n",
        "\n",
        "      # Minimize theta for both classes\n",
        "      for j in range(CLASSES):\n",
        "          result_min = minimize(objective, initial_theta, args=(j, False), bounds=bounds, constraints=constraints, method='trust-constr')\n",
        "          if result_min.success:\n",
        "              if j == 0:\n",
        "                  theta_alt_0min_arr.append(result_min.x[0])\n",
        "              else:\n",
        "                  theta_alt_1min_arr.append(result_min.x[1])\n",
        "          else:\n",
        "              print(f\"Optimization failed for min class {j}:\", result_min.message)\n",
        "              NULL_REJECTED = True\n",
        "              break\n",
        "\n",
        "      if counter > 0 and not NULL_REJECTED:\n",
        "          p_val = np.minimum(seq_p_val_arr[-1], 1 / on_theta_curr)\n",
        "          seq_p_val_arr.append(p_val)\n",
        "\n",
        "\n",
        "      counter += 1\n",
        "\n",
        "  # Plot or further analysis can be done to visualize the non-overlapping nature of CIs\n"
      ],
      "metadata": {
        "id": "F-ftrm1z6x6d"
      },
      "execution_count": null,
      "outputs": []
    },
    {
      "cell_type": "code",
      "source": [
        "import numpy as np\n",
        "from scipy.optimize import minimize\n",
        "from scipy.special import gammaln\n",
        "\n",
        "# from scipy.special import beta\n",
        "\n",
        "# Updated objective function\n",
        "def objective(theta, i, maximize=True):\n",
        "    return -theta[i] if maximize else theta[i]\n",
        "\n",
        "def constraint_sum(theta):\n",
        "    return np.sum(theta) - 1\n",
        "\n",
        "epsilon = 1e-10  # Small constant for numerical stability\n",
        "\n",
        "def constraint_log_likelihood(theta, Sn, c):\n",
        "  clipped_theta = np.clip(theta, epsilon, 1 - epsilon)\n",
        "  return np.sum(Sn * np.log(np.clip(theta, epsilon, None))) - c\n",
        "\n",
        "# Constants\n",
        "CLASSES = 2\n",
        "VECTOR_SIZE = 10000\n",
        "theta_null = np.array([1 / CLASSES] * CLASSES)\n",
        "rng = np.random.default_rng()\n",
        "vectors_null = rng.multinomial(1, theta_null, size=VECTOR_SIZE)\n",
        "K = 10\n",
        "alpha_dirichlet = K * theta_null\n",
        "theta_alt = rng.dirichlet(alpha_dirichlet)\n",
        "vectors_alt = rng.multinomial(1, theta_alt, size=VECTOR_SIZE)\n",
        "\n",
        "theta_alt_1max_arr = []\n",
        "theta_alt_1min_arr = []\n",
        "theta_alt_0max_arr = []\n",
        "theta_alt_0min_arr = []\n",
        "\n",
        "seq_p_val_arr = []\n",
        "counter = 0\n",
        "\n",
        "for i in range(0, VECTOR_SIZE, VECTOR_SIZE // 100):\n",
        "    break_outer_loop = False\n",
        "    vectors_null_i = []\n",
        "    vectors_alt_i = []\n",
        "\n",
        "    if counter == 0:\n",
        "        on_theta_prev = np.array([1] * CLASSES)\n",
        "        vectors_null_i = vectors_null[counter]\n",
        "        vectors_alt_i = vectors_alt[counter]\n",
        "        seq_p_val_arr.append(np.array([1] * CLASSES))\n",
        "    else:\n",
        "        vectors_null_i = vectors_null[:i]\n",
        "        vectors_alt_i = vectors_alt[:i]\n",
        "\n",
        "    s_n_null = np.sum(vectors_null_i, axis=0)\n",
        "    s_n_alt = np.sum(vectors_alt_i, axis=0)\n",
        "\n",
        "    term1_numerator = beta(alpha_dirichlet + s_n_alt)\n",
        "    term1_denominator = beta(alpha_dirichlet)\n",
        "    term1 = term1_numerator / term1_denominator\n",
        "\n",
        "    term2 = 1 / (theta_null**s_n_alt + epsilon)\n",
        "    on_theta_curr = seq_p_val_arr[-1] * term1 * term2\n",
        "\n",
        "    print(f\"Iteration {counter}\")\n",
        "\n",
        "    if ((on_theta_curr >= 1 / 0.05).any()) or (np.isnan(on_theta_curr).any()):\n",
        "        print(\"Reject null hypothesis\")\n",
        "        break\n",
        "    else:\n",
        "        print(\"Accept null hypothesis\")\n",
        "\n",
        "\n",
        "    def calculate_log_beta(alpha):\n",
        "        \"\"\"\n",
        "        Numerically stable calculation of log(beta(alpha)).\n",
        "\n",
        "        Parameters:\n",
        "        - alpha (array-like): Array of alpha values.\n",
        "\n",
        "        Returns:\n",
        "        - float: Logarithm of the beta function value.\n",
        "        \"\"\"\n",
        "        return np.sum(gammaln(alpha)) - gammaln(np.sum(alpha))\n",
        "\n",
        "    # Replace the calculation of c with the new function\n",
        "    c = calculate_log_beta(alpha_dirichlet + s_n_alt) - calculate_log_beta(alpha_dirichlet)\n",
        "    u = 0.05  # Confidence level\n",
        "    c += np.log(u)\n",
        "\n",
        "    # c = np.log(np.clip(beta(alpha_dirichlet + s_n_alt), epsilon, None)) - np.log(np.clip(beta(alpha_dirichlet), epsilon, None))\n",
        "    # u = 0.05\n",
        "    # c += np.log(u)\n",
        "\n",
        "    # Randomized initial guess within the simplex\n",
        "    initial_theta = theta_alt#rng.dirichlet(np.ones(len(theta_alt)))\n",
        "\n",
        "    constraints = [\n",
        "        {'type': 'eq', 'fun': constraint_sum},\n",
        "        {'type': 'ineq', 'fun': constraint_log_likelihood, 'args': (s_n_alt, c)}\n",
        "    ]\n",
        "\n",
        "    bounds = [(epsilon, 1 - epsilon) for _ in range(len(theta_alt))]\n",
        "\n",
        "    # Maximize theta for both classes\n",
        "    for j in range(CLASSES):\n",
        "        result_max = minimize(objective, initial_theta, args=(j, True), bounds=bounds, \\\n",
        "                              constraints=constraints, method='SLSQP')#,\\options={'maxiter': 10000})#,'disp': True})\n",
        "        if result_max.success:\n",
        "            if j == 0:\n",
        "                theta_alt_0max_arr.append(result_max.x[0])\n",
        "            else:\n",
        "                theta_alt_1max_arr.append(result_max.x[1])\n",
        "        else:\n",
        "            print(f\"Optimization failed for max class {j}:\", result_max.message)\n",
        "            break_outer_loop = True\n",
        "            break\n",
        "\n",
        "    if break_outer_loop:\n",
        "        break\n",
        "\n",
        "    # Minimize theta for both classes\n",
        "    for j in range(CLASSES):\n",
        "        result_min = minimize(objective, initial_theta, args=(j, False), bounds=bounds, \\\n",
        "                              constraints=constraints, method='SLSQP')#,\\options={'maxiter': 10000})#,'disp': True})\n",
        "        if result_min.success:\n",
        "            if j == 0:\n",
        "                theta_alt_0min_arr.append(result_min.x[0])\n",
        "            else:\n",
        "                theta_alt_1min_arr.append(result_min.x[1])\n",
        "        else:\n",
        "            print(f\"Optimization failed for min class {j}:\", result_min.message)\n",
        "            break_outer_loop = True\n",
        "            break\n",
        "\n",
        "    if break_outer_loop:\n",
        "        break\n",
        "\n",
        "    if counter > 0:\n",
        "        p_val = np.minimum(seq_p_val_arr[-1], 1 / (on_theta_curr+epsilon))\n",
        "        seq_p_val_arr.append(p_val)\n",
        "\n",
        "    counter += 1\n"
      ],
      "metadata": {
        "id": "fE1bJLS9u_1k",
        "outputId": "944ee944-62dc-4b83-bcc3-dc304a74bb41",
        "colab": {
          "base_uri": "https://localhost:8080/"
        }
      },
      "execution_count": 14,
      "outputs": [
        {
          "output_type": "stream",
          "name": "stdout",
          "text": [
            "Iteration 0\n",
            "Accept null hypothesis\n",
            "Iteration 1\n",
            "Accept null hypothesis\n",
            "Iteration 2\n",
            "Accept null hypothesis\n",
            "Iteration 3\n",
            "Accept null hypothesis\n",
            "Iteration 4\n",
            "Accept null hypothesis\n",
            "Iteration 5\n",
            "Accept null hypothesis\n",
            "Iteration 6\n",
            "Accept null hypothesis\n",
            "Iteration 7\n",
            "Accept null hypothesis\n",
            "Iteration 8\n",
            "Accept null hypothesis\n",
            "Iteration 9\n",
            "Accept null hypothesis\n",
            "Iteration 10\n",
            "Accept null hypothesis\n",
            "Iteration 11\n",
            "Accept null hypothesis\n",
            "Iteration 12\n",
            "Accept null hypothesis\n",
            "Iteration 13\n",
            "Accept null hypothesis\n",
            "Iteration 14\n",
            "Accept null hypothesis\n",
            "Iteration 15\n",
            "Accept null hypothesis\n",
            "Iteration 16\n",
            "Accept null hypothesis\n",
            "Iteration 17\n",
            "Accept null hypothesis\n",
            "Iteration 18\n",
            "Accept null hypothesis\n",
            "Iteration 19\n",
            "Accept null hypothesis\n",
            "Iteration 20\n",
            "Accept null hypothesis\n",
            "Iteration 21\n",
            "Accept null hypothesis\n",
            "Iteration 22\n",
            "Accept null hypothesis\n",
            "Iteration 23\n",
            "Accept null hypothesis\n",
            "Iteration 24\n",
            "Accept null hypothesis\n",
            "Iteration 25\n",
            "Accept null hypothesis\n",
            "Iteration 26\n",
            "Accept null hypothesis\n",
            "Iteration 27\n",
            "Accept null hypothesis\n",
            "Iteration 28\n",
            "Accept null hypothesis\n",
            "Iteration 29\n",
            "Accept null hypothesis\n",
            "Iteration 30\n",
            "Accept null hypothesis\n",
            "Iteration 31\n",
            "Accept null hypothesis\n",
            "Iteration 32\n",
            "Accept null hypothesis\n",
            "Iteration 33\n",
            "Accept null hypothesis\n",
            "Iteration 34\n",
            "Accept null hypothesis\n",
            "Iteration 35\n",
            "Accept null hypothesis\n",
            "Iteration 36\n",
            "Accept null hypothesis\n",
            "Iteration 37\n",
            "Accept null hypothesis\n",
            "Iteration 38\n",
            "Accept null hypothesis\n",
            "Iteration 39\n",
            "Accept null hypothesis\n",
            "Iteration 40\n",
            "Accept null hypothesis\n",
            "Iteration 41\n",
            "Accept null hypothesis\n",
            "Iteration 42\n",
            "Accept null hypothesis\n",
            "Iteration 43\n",
            "Accept null hypothesis\n",
            "Iteration 44\n",
            "Accept null hypothesis\n",
            "Iteration 45\n",
            "Accept null hypothesis\n",
            "Iteration 46\n",
            "Accept null hypothesis\n",
            "Iteration 47\n",
            "Accept null hypothesis\n",
            "Iteration 48\n",
            "Accept null hypothesis\n",
            "Iteration 49\n",
            "Accept null hypothesis\n",
            "Iteration 50\n",
            "Accept null hypothesis\n",
            "Iteration 51\n",
            "Accept null hypothesis\n",
            "Iteration 52\n",
            "Accept null hypothesis\n",
            "Iteration 53\n",
            "Accept null hypothesis\n",
            "Iteration 54\n",
            "Accept null hypothesis\n",
            "Iteration 55\n",
            "Accept null hypothesis\n",
            "Iteration 56\n",
            "Accept null hypothesis\n",
            "Iteration 57\n",
            "Accept null hypothesis\n",
            "Iteration 58\n",
            "Accept null hypothesis\n",
            "Iteration 59\n",
            "Accept null hypothesis\n",
            "Iteration 60\n",
            "Accept null hypothesis\n",
            "Iteration 61\n",
            "Accept null hypothesis\n",
            "Iteration 62\n",
            "Accept null hypothesis\n",
            "Iteration 63\n",
            "Accept null hypothesis\n",
            "Iteration 64\n",
            "Accept null hypothesis\n",
            "Iteration 65\n",
            "Accept null hypothesis\n",
            "Iteration 66\n",
            "Accept null hypothesis\n",
            "Iteration 67\n",
            "Accept null hypothesis\n",
            "Iteration 68\n",
            "Accept null hypothesis\n",
            "Iteration 69\n",
            "Accept null hypothesis\n",
            "Iteration 70\n",
            "Accept null hypothesis\n",
            "Iteration 71\n",
            "Accept null hypothesis\n",
            "Iteration 72\n",
            "Accept null hypothesis\n",
            "Iteration 73\n",
            "Accept null hypothesis\n",
            "Iteration 74\n",
            "Accept null hypothesis\n",
            "Iteration 75\n",
            "Accept null hypothesis\n",
            "Iteration 76\n",
            "Accept null hypothesis\n",
            "Iteration 77\n",
            "Accept null hypothesis\n",
            "Iteration 78\n",
            "Accept null hypothesis\n",
            "Iteration 79\n",
            "Accept null hypothesis\n",
            "Iteration 80\n",
            "Accept null hypothesis\n",
            "Iteration 81\n",
            "Accept null hypothesis\n",
            "Iteration 82\n",
            "Accept null hypothesis\n",
            "Iteration 83\n",
            "Accept null hypothesis\n",
            "Iteration 84\n",
            "Accept null hypothesis\n",
            "Iteration 85\n",
            "Accept null hypothesis\n",
            "Iteration 86\n",
            "Accept null hypothesis\n",
            "Iteration 87\n",
            "Accept null hypothesis\n",
            "Iteration 88\n",
            "Accept null hypothesis\n",
            "Iteration 89\n",
            "Accept null hypothesis\n",
            "Iteration 90\n",
            "Accept null hypothesis\n",
            "Iteration 91\n",
            "Accept null hypothesis\n",
            "Iteration 92\n",
            "Accept null hypothesis\n",
            "Iteration 93\n",
            "Accept null hypothesis\n",
            "Iteration 94\n",
            "Accept null hypothesis\n",
            "Iteration 95\n",
            "Accept null hypothesis\n",
            "Iteration 96\n",
            "Accept null hypothesis\n",
            "Iteration 97\n",
            "Accept null hypothesis\n",
            "Iteration 98\n",
            "Accept null hypothesis\n",
            "Iteration 99\n",
            "Accept null hypothesis\n"
          ]
        }
      ]
    },
    {
      "cell_type": "code",
      "source": [
        "theta_alt"
      ],
      "metadata": {
        "id": "kEsmE28PqkQA"
      },
      "execution_count": null,
      "outputs": []
    },
    {
      "cell_type": "code",
      "source": [
        "plt.figure(figsize=(10, 15))\n",
        "plt.subplot(2,1,1)\n",
        "plt.title(\"CI for theta alt\")\n",
        "lenght=len(theta_alt_0min_arr)\n",
        "plt.plot(range(lenght),[theta_alt[0]]*lenght,color='r',label=\"theta_alt for theta_1\")\n",
        "plt.plot(range(lenght),[theta_alt[1]]*lenght,color='b',label=\"theta_alt for theta_2\")\n",
        "\n",
        "plt.fill_between(range(lenght),\n",
        "                 np.array(theta_alt_0min_arr),\n",
        "                 np.array(theta_alt_0max_arr), color='r',\n",
        "                 alpha=0.2, label=\"CI for theta_1\")  # alpha controls transparency\n",
        "\n",
        "\n",
        "plt.fill_between(range(lenght),\n",
        "                 np.array(theta_alt_1min_arr),\n",
        "                 np.array(theta_alt_1max_arr), color='b',\n",
        "                 alpha=0.2, label=\"CI for theta_2\")  # alpha controls transparency\n",
        "\n",
        "\n",
        "# plt.plot(range(len(theta_alt_arr)),np.array(theta_alt_min_arr)[:,0],label=\"theta_alt min for theta_1\")\n",
        "# plt.plot(range(len(theta_alt_arr)),np.array(theta_alt_max_arr)[:,0],label=\"theta_alt max for theta_1\")\n",
        "# plt.plot(range(len(theta_alt_arr)),np.array(theta_alt_min_arr)[:,1],label=\"theta_alt min for theta_2\")\n",
        "# plt.plot(range(len(theta_alt_arr)),np.array(theta_alt_max_arr)[:,1],label=\"theta_alt max for theta_2\")\n",
        "\n",
        "plt.legend()\n",
        "plt.subplot(3,1,2)\n",
        "plt.title(\"P-value for M1|M0\")\n",
        "plt.plot(range(lenght),np.array(seq_p_val_arr)[:,0],color='r',label=\"P-value for theta 1\")\n",
        "plt.plot(range(lenght),[0.05]*lenght,'--',color='b',label=\"0.05\")\n",
        "plt.legend()\n",
        "plt.plot()\n",
        "\n",
        "\n",
        "plt.subplot(3,1,3)\n",
        "plt.title(\"P-value for M1|M0\")\n",
        "plt.plot(range(lenght),np.array(seq_p_val_arr)[:,1],color='r',label=\"P-value for theta 2\")\n",
        "plt.plot(range(lenght),[0.05]*lenght,'--',color='b',label=\"0.05\")\n",
        "plt.legend()\n",
        "plt.plot()"
      ],
      "metadata": {
        "colab": {
          "base_uri": "https://localhost:8080/",
          "height": 1000
        },
        "id": "GDCNb4ckADlW",
        "outputId": "ac09c6a2-5c67-411d-9187-4c0adedd77a2"
      },
      "execution_count": 15,
      "outputs": [
        {
          "output_type": "execute_result",
          "data": {
            "text/plain": [
              "[]"
            ]
          },
          "metadata": {},
          "execution_count": 15
        },
        {
          "output_type": "display_data",
          "data": {
            "text/plain": [
              "<Figure size 1000x1500 with 3 Axes>"
            ],
            "image/png": "[encoded data removed]"
          },
          "metadata": {}
        }
      ]
    },
    {
      "cell_type": "code",
      "source": [
        "np.round(theta_alt_0min_arr,3)"
      ],
      "metadata": {
        "id": "szZ9ZJqmFonK"
      },
      "execution_count": null,
      "outputs": []
    },
    {
      "cell_type": "code",
      "source": [
        "np.round(theta_alt_1min_arr,3)"
      ],
      "metadata": {
        "id": "rfTOlWmiGWKP"
      },
      "execution_count": null,
      "outputs": []
    },
    {
      "cell_type": "code",
      "source": [
        "np.round(theta_alt_1max_arr,3)"
      ],
      "metadata": {
        "id": "ZMkI3jKhGqo9"
      },
      "execution_count": null,
      "outputs": []
    },
    {
      "cell_type": "code",
      "source": [
        "np.round(theta_alt_0max_arr,3)"
      ],
      "metadata": {
        "id": "05AVqjtwGxTG"
      },
      "execution_count": null,
      "outputs": []
    },
    {
      "cell_type": "code",
      "source": [
        "1/np.array(on_theta_hist_arr) < (1/0.05)"
      ],
      "metadata": {
        "id": "JZu5owN6H282"
      },
      "execution_count": null,
      "outputs": []
    },
    {
      "cell_type": "code",
      "source": [
        "from scipy.stats import gaussian_kde\n",
        "\n",
        "event_timestamps=np.array([1,2])\n",
        "kde=gaussian_kde(vectors_alt[:100,1])\n",
        "time_points=np.linspace(0,100,100)\n",
        "plt.plot(time_points,kde(time_points))"
      ],
      "metadata": {
        "id": "S9CjbOI4Khqw"
      },
      "execution_count": null,
      "outputs": []
    },
    {
      "cell_type": "code",
      "source": [
        "time_points"
      ],
      "metadata": {
        "id": "cW3ST3FtK880"
      },
      "execution_count": null,
      "outputs": []
    },
    {
      "cell_type": "code",
      "source": [
        "num_time_points=100\n",
        "probabilities=np.random.dirichlet(alpha=[1,2,3,4],size=1).flatten()\n",
        "num_samples=1000\n",
        "event_times=np.random.choice(np.arange(1,5),size=num_samples,p=probabilities/np.sum(probabilities))\n",
        "kde=gaussian_kde(event_times,bw_method='scott')\n",
        "time_grid=np.linspace(1,num_time_points,1000)\n",
        "mu_t=kde(time_grid)\n",
        "plt.plot(time_grid,mu_t)\n"
      ],
      "metadata": {
        "id": "j7zqKolERl5S"
      },
      "execution_count": null,
      "outputs": []
    }
  ]
}