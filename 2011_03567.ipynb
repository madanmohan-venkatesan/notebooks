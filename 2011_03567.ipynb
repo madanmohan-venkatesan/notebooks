{
  "nbformat": 4,
  "nbformat_minor": 0,
  "metadata": {
    "colab": {
      "provenance": [],
      "include_colab_link": true
    },
    "kernelspec": {
      "name": "python3",
      "display_name": "Python 3"
    },
    "language_info": {
      "name": "python"
    }
  },
  "cells": [
    {
      "cell_type": "markdown",
      "metadata": {
        "id": "view-in-github",
        "colab_type": "text"
      },
      "source": [
        "<a href=\"https://colab.research.google.com/github/madanmohan-venkatesan/notebooks/blob/main/2011_03567.ipynb\" target=\"_parent\"><img src=\"https://colab.research.google.com/assets/colab-badge.svg\" alt=\"Open In Colab\"/></a>"
      ]
    },
    {
      "cell_type": "code",
      "execution_count": 1,
      "metadata": {
        "id": "rSS6APsGMflA"
      },
      "outputs": [],
      "source": [
        "import numpy as np"
      ]
    },
    {
      "cell_type": "code",
      "source": [
        "rng = np.random.default_rng()\n",
        "null_vectors=rng.multinomial(1,[1/100]*100)"
      ],
      "metadata": {
        "id": "36jKfhbXFmIj"
      },
      "execution_count": 13,
      "outputs": []
    },
    {
      "cell_type": "code",
      "source": [
        "theta=rng.dirichlet([1/100]*100)\n",
        "alt_vectors=rng.multinomial(1,theta)"
      ],
      "metadata": {
        "id": "8zusc_0MGgm6",
        "outputId": "e974e3ab-d044-4da3-eeb6-afa095da722c",
        "colab": {
          "base_uri": "https://localhost:8080/",
          "height": 263
        }
      },
      "execution_count": 24,
      "outputs": [
        {
          "output_type": "error",
          "ename": "ValueError",
          "evalue": "pvals < 0, pvals > 1 or pvals contains NaNs",
          "traceback": [
            "\u001b[0;31m---------------------------------------------------------------------------\u001b[0m",
            "\u001b[0;31mValueError\u001b[0m                                Traceback (most recent call last)",
            "\u001b[0;32m<ipython-input-24-fbad9cd24ffb>\u001b[0m in \u001b[0;36m<cell line: 2>\u001b[0;34m()\u001b[0m\n\u001b[1;32m      1\u001b[0m \u001b[0mtheta\u001b[0m\u001b[0;34m=\u001b[0m\u001b[0mrng\u001b[0m\u001b[0;34m.\u001b[0m\u001b[0mdirichlet\u001b[0m\u001b[0;34m(\u001b[0m\u001b[0;34m[\u001b[0m\u001b[0;36m1\u001b[0m\u001b[0;34m/\u001b[0m\u001b[0;36m100\u001b[0m\u001b[0;34m]\u001b[0m\u001b[0;34m*\u001b[0m\u001b[0;36m100\u001b[0m\u001b[0;34m)\u001b[0m\u001b[0;34m\u001b[0m\u001b[0;34m\u001b[0m\u001b[0m\n\u001b[0;32m----> 2\u001b[0;31m \u001b[0malt_vectors\u001b[0m\u001b[0;34m=\u001b[0m\u001b[0mrng\u001b[0m\u001b[0;34m.\u001b[0m\u001b[0mmultinomial\u001b[0m\u001b[0;34m(\u001b[0m\u001b[0;36m1\u001b[0m\u001b[0;34m,\u001b[0m\u001b[0mtheta\u001b[0m\u001b[0;34m*\u001b[0m\u001b[0;36m15\u001b[0m\u001b[0;34m)\u001b[0m\u001b[0;34m\u001b[0m\u001b[0;34m\u001b[0m\u001b[0m\n\u001b[0m",
            "\u001b[0;32mnumpy/random/_generator.pyx\u001b[0m in \u001b[0;36mnumpy.random._generator.Generator.multinomial\u001b[0;34m()\u001b[0m\n",
            "\u001b[0;32m_common.pyx\u001b[0m in \u001b[0;36mnumpy.random._common.check_array_constraint\u001b[0;34m()\u001b[0m\n",
            "\u001b[0;32m_common.pyx\u001b[0m in \u001b[0;36mnumpy.random._common._check_array_cons_bounded_0_1\u001b[0;34m()\u001b[0m\n",
            "\u001b[0;31mValueError\u001b[0m: pvals < 0, pvals > 1 or pvals contains NaNs"
          ]
        }
      ]
    },
    {
      "cell_type": "code",
      "source": [
        "alt_vectors"
      ],
      "metadata": {
        "id": "Zvbz-TLWHcqP",
        "outputId": "3b076787-e6ba-415f-9543-64093302bbdf",
        "colab": {
          "base_uri": "https://localhost:8080/"
        }
      },
      "execution_count": 23,
      "outputs": [
        {
          "output_type": "execute_result",
          "data": {
            "text/plain": [
              "array([1.75837729e-027, 1.83668449e-014, 3.13165134e+001, 3.82908028e-007,\n",
              "       7.10016801e-016, 8.29221050e-047, 1.42600291e-073, 5.82620035e-024,\n",
              "       1.16089506e-004, 1.67306305e-028, 3.60866016e-105, 5.55329701e-015,\n",
              "       5.89862626e-038, 2.60995821e-120, 1.21434067e-093, 6.66117335e-093,\n",
              "       4.41417165e-011, 6.70808287e-008, 3.25978966e-020, 1.22951557e-037,\n",
              "       7.05109799e-009, 2.27882154e-016, 6.12940678e-035, 2.70387648e-045,\n",
              "       3.77605617e-015, 4.16461737e-007, 1.42780819e-010, 6.83914946e-003,\n",
              "       5.96691492e-055, 4.32984806e-062, 2.21978928e-005, 8.04622720e-059,\n",
              "       3.09006599e-010, 4.38944886e-031, 1.23868827e-040, 5.16542586e-009,\n",
              "       1.89613227e-028, 3.99027744e-029, 6.77645922e-119, 1.13561436e-048,\n",
              "       3.47432418e-026, 1.25616290e-091, 2.40161415e-004, 4.75953155e-024,\n",
              "       4.06731063e-070, 4.89940636e-024, 2.01500006e-097, 2.29500676e-105,\n",
              "       4.79705899e-176, 1.60885588e-087, 2.78698455e-083, 1.60686567e-013,\n",
              "       1.99589519e-014, 2.25900845e-009, 6.45089741e-120, 3.90336144e-017,\n",
              "       5.92771847e-045, 2.11055700e-003, 1.04460895e-052, 8.21601093e-027,\n",
              "       1.29189559e-026, 7.05624174e+000, 8.90957614e-027, 7.11239051e-070,\n",
              "       2.96430907e-141, 2.19004070e-074, 4.39265982e-011, 5.78883803e-019,\n",
              "       9.99673782e-018, 2.23716825e-043, 3.07380095e-017, 4.29031019e-007,\n",
              "       5.19929399e-112, 7.82361749e-051, 7.87498871e-016, 2.71999672e-044,\n",
              "       5.18036326e-060, 5.36029828e-010, 6.57768608e-010, 9.26397855e-008,\n",
              "       4.10142920e-057, 1.32274929e-049, 7.09678379e-102, 5.76640507e-030,\n",
              "       6.17661683e-057, 1.27646883e-030, 1.20470079e-099, 1.25827469e-066,\n",
              "       3.19629980e-003, 7.43311070e-082, 1.03064660e-091, 1.68054644e-083,\n",
              "       2.57564286e-029, 7.42943375e-156, 2.99988046e-173, 4.26814201e-019,\n",
              "       2.46147188e+001, 2.07636298e-052, 1.72122631e-007, 8.58905416e-017])"
            ]
          },
          "metadata": {},
          "execution_count": 23
        }
      ]
    }
  ]
}