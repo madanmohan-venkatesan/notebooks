{
  "nbformat": 4,
  "nbformat_minor": 0,
  "metadata": {
    "colab": {
      "provenance": [],
      "include_colab_link": true
    },
    "kernelspec": {
      "name": "python3",
      "display_name": "Python 3"
    },
    "language_info": {
      "name": "python"
    }
  },
  "cells": [
    {
      "cell_type": "markdown",
      "metadata": {
        "id": "view-in-github",
        "colab_type": "text"
      },
      "source": [
        "<a href=\"https://colab.research.google.com/github/madanmohan-venkatesan/notebooks/blob/main/2011_03567.ipynb\" target=\"_parent\"><img src=\"https://colab.research.google.com/assets/colab-badge.svg\" alt=\"Open In Colab\"/></a>"
      ]
    },
    {
      "cell_type": "code",
      "execution_count": 1,
      "metadata": {
        "id": "rSS6APsGMflA"
      },
      "outputs": [],
      "source": [
        "import numpy as np\n",
        "from scipy.special import gamma\n",
        "from scipy.optimize import minimize\n",
        "from matplotlib import pyplot as plt\n",
        "import seaborn as sns"
      ]
    },
    {
      "cell_type": "markdown",
      "source": [
        "# 2. A sequential multinomial test\n"
      ],
      "metadata": {
        "id": "In_91-jD8ApW"
      }
    },
    {
      "cell_type": "code",
      "source": [
        "#CONSTANTS\n",
        "CLASSES=2\n",
        "VECTOR_SIZE=100"
      ],
      "metadata": {
        "id": "36jKfhbXFmIj"
      },
      "execution_count": 2,
      "outputs": []
    },
    {
      "cell_type": "code",
      "source": [
        "theta_null=np.array([1/CLASSES]*CLASSES) #Simplex\n",
        "rng = np.random.default_rng()\n",
        "vectors_null=rng.multinomial(1,theta_null,size=VECTOR_SIZE)"
      ],
      "metadata": {
        "id": "s_dACvtO_NA2"
      },
      "execution_count": 3,
      "outputs": []
    },
    {
      "cell_type": "code",
      "source": [
        "K=100\n",
        "alpha_dirichlet=K*theta_null\n",
        "rng = np.random.default_rng()\n",
        "theta_alt=rng.dirichlet(alpha_dirichlet)\n",
        "vectors_alt=rng.multinomial(1,theta_alt,size=VECTOR_SIZE)"
      ],
      "metadata": {
        "id": "8zusc_0MGgm6"
      },
      "execution_count": 4,
      "outputs": []
    },
    {
      "cell_type": "code",
      "source": [
        "s_n_null=np.sum(vectors_null,axis=0)\n",
        "s_n_alt=np.sum(vectors_alt,axis=0)"
      ],
      "metadata": {
        "id": "h82N7rFpAB0f"
      },
      "execution_count": 5,
      "outputs": []
    },
    {
      "cell_type": "code",
      "source": [
        "def beta(v):\n",
        "\n",
        "  numerator=np.prod(gamma(v))\n",
        "  denominator=gamma(np.sum(v))\n",
        "  result=numerator/denominator\n",
        "  if np.isnan(result).any():\n",
        "    return np.array([np.inf])\n",
        "  else:\n",
        "    return result\n"
      ],
      "metadata": {
        "id": "kqjLRpG1BhW2"
      },
      "execution_count": 6,
      "outputs": []
    },
    {
      "cell_type": "code",
      "source": [
        "def bf_10(dirichlet_alpha,theta,counts):\n",
        "  term1_numerator=beta(dirichlet_alpha+counts)\n",
        "  term1_denominator=beta(dirichlet_alpha)\n",
        "  term1=term1_numerator/term1_denominator\n",
        "\n",
        "  term2=1/(theta**counts)\n",
        "  result=term1*term2\n",
        "\n",
        "  if np.isnan(result).any() or np.isinf(result).any():\n",
        "    return np.array([np.inf]*len(result))\n",
        "  else:\n",
        "    return result\n"
      ],
      "metadata": {
        "id": "eCUPUpOyB7xh"
      },
      "execution_count": 7,
      "outputs": []
    },
    {
      "cell_type": "code",
      "source": [
        "bf_10(alpha_dirichlet,theta_null,s_n_alt)"
      ],
      "metadata": {
        "colab": {
          "base_uri": "https://localhost:8080/"
        },
        "id": "DigAZ1X7C91D",
        "outputId": "5cada38f-7508-4d93-b6a2-56684f03b244"
      },
      "execution_count": 8,
      "outputs": [
        {
          "output_type": "stream",
          "name": "stderr",
          "text": [
            "/usr/local/lib/python3.10/dist-packages/numpy/core/fromnumeric.py:88: RuntimeWarning: overflow encountered in reduce\n",
            "  return ufunc.reduce(obj, axis, dtype, out, **passkwargs)\n",
            "<ipython-input-6-ffb25cde8259>:5: RuntimeWarning: invalid value encountered in scalar divide\n",
            "  result=numerator/denominator\n"
          ]
        },
        {
          "output_type": "execute_result",
          "data": {
            "text/plain": [
              "array([inf, inf])"
            ]
          },
          "metadata": {},
          "execution_count": 8
        }
      ]
    },
    {
      "cell_type": "markdown",
      "source": [
        "For above bf_10, if theta_0 not equal theta then values will go to infinity (reject null hypothesis)\n",
        "otherwise value is zero(accept null hypothesis)\n",
        "\n",
        "Hyper paramters to play around with are K and vector size\n",
        "\n"
      ],
      "metadata": {
        "id": "pRZ4TCxbEgmC"
      }
    },
    {
      "cell_type": "code",
      "source": [],
      "metadata": {
        "id": "WS_yGgxl6Z9w"
      },
      "execution_count": 8,
      "outputs": []
    },
    {
      "cell_type": "code",
      "source": [
        "theta_null_arr=[]\n",
        "theta_alt_arr=[]\n",
        "dirichlet_alpha_arr=[]\n",
        "vetors_null_arr=[]\n",
        "vectors_alt_arr=[]\n",
        "for i in range(10):\n",
        "  if i==0:\n",
        "    K=10\n",
        "  else:\n",
        "    K=K#+(0.5*K)\n",
        "  #generate null vectors\n",
        "  theta_null=np.array([1/CLASSES]*CLASSES) #Simplex\n",
        "  rng = np.random.default_rng()\n",
        "  vectors_null=rng.multinomial(1,theta_null,size=VECTOR_SIZE)\n",
        "  #generate alt vectors\n",
        "\n",
        "  alpha_dirichlet=K*theta_null\n",
        "  rng = np.random.default_rng()\n",
        "  theta_alt=rng.dirichlet(alpha_dirichlet)\n",
        "  vectors_alt=rng.multinomial(1,theta_alt,size=VECTOR_SIZE)\n",
        "\n",
        "  theta_null_arr.append(theta_null)\n",
        "  theta_alt_arr.append(theta_alt)\n",
        "  dirichlet_alpha_arr.append(alpha_dirichlet)\n",
        "  vetors_null_arr.append(vectors_null)\n",
        "  vectors_alt_arr.append(vectors_alt)"
      ],
      "metadata": {
        "id": "MdBMfgn0EfiG"
      },
      "execution_count": 9,
      "outputs": []
    },
    {
      "cell_type": "code",
      "source": [
        "on_theta_hist_arr=[]\n",
        "for i in range(len(theta_null_arr)):\n",
        "  on_theta_prev = None\n",
        "  if i==0:\n",
        "    on_theta_prev = np.array([1,1])\n",
        "    on_theta_hist_arr.append(on_theta_prev)\n",
        "\n",
        "  else:\n",
        "    s_n_null=np.sum(vetors_null_arr[i],axis=0)\n",
        "    s_n_alt=np.sum(vectors_alt_arr[i],axis=0)\n",
        "    term1_numerator=beta(dirichlet_alpha_arr[i]+s_n_alt)\n",
        "    term1_denominator=beta(dirichlet_alpha_arr[i])\n",
        "    term1=term1_numerator/term1_denominator\n",
        "\n",
        "    term2=1/(theta_null_arr[i]**s_n_alt)\n",
        "\n",
        "    on_theta_hist_arr.append(on_theta_hist_arr[i-1]*term1*term2)"
      ],
      "metadata": {
        "id": "14ZPErlcHo8N"
      },
      "execution_count": 10,
      "outputs": []
    },
    {
      "cell_type": "markdown",
      "source": [
        "# Optimization problem for theta"
      ],
      "metadata": {
        "id": "l4nQW-e7QZA0"
      }
    },
    {
      "cell_type": "code",
      "source": [
        "def objective(theta, i,maximize=True):\n",
        "    \"\"\"\n",
        "    Objective function to maximize theta_i.\n",
        "\n",
        "    Parameters:\n",
        "    - theta (array): Probability vector (simplex).\n",
        "    - i (int): Index of the element to maximize.\n",
        "\n",
        "    Returns:\n",
        "    - float: Negative of theta[i] to convert minimization to maximization.\n",
        "    \"\"\"\n",
        "    if maximize:\n",
        "        return -theta[i]\n",
        "    else:\n",
        "      return theta[i]\n",
        "\n",
        "def constraint_sum(theta):\n",
        "    \"\"\"\n",
        "    Constraint ensuring that the sum of theta is 1.\n",
        "\n",
        "    Parameters:\n",
        "    - theta (array): Probability vector (simplex).\n",
        "\n",
        "    Returns:\n",
        "    - float: Sum of theta - 1 (should be 0).\n",
        "    \"\"\"\n",
        "    return np.sum(theta) - 1\n",
        "\n",
        "def constraint_log_likelihood(theta, Sn, c):\n",
        "    \"\"\"\n",
        "    Log-likelihood constraint.\n",
        "\n",
        "    Parameters:\n",
        "    - theta (array): Probability vector (simplex).\n",
        "    - Sn (array): Observed count vector S_{n,i}.\n",
        "    - c (float): Constant c + log u.\n",
        "\n",
        "    Returns:\n",
        "    - float: Left-hand side of the constraint.\n",
        "    \"\"\"\n",
        "\n",
        "    epsilon = 1e-10\n",
        "    return np.sum(Sn * np.log(np.clip(theta, epsilon, None))) - c"
      ],
      "metadata": {
        "id": "K1upoofPRmmd"
      },
      "execution_count": 11,
      "outputs": []
    },
    {
      "cell_type": "markdown",
      "source": [
        "# Real simulation"
      ],
      "metadata": {
        "id": "IJ9GC-5P7F6U"
      }
    },
    {
      "cell_type": "code",
      "source": [
        "#CONSTANTS\n",
        "CLASSES=2\n",
        "VECTOR_SIZE=100\n",
        "\n",
        "theta_null=np.array([1/CLASSES]*CLASSES) #Simplex\n",
        "rng = np.random.default_rng()\n",
        "vectors_null=rng.multinomial(1,theta_null,size=VECTOR_SIZE)\n",
        "K=15\n",
        "alpha_dirichlet=K*theta_null\n",
        "rng = np.random.default_rng()\n",
        "theta_alt=rng.dirichlet(alpha_dirichlet)\n",
        "vectors_alt=rng.multinomial(1,theta_alt,size=VECTOR_SIZE)\n",
        "\n",
        "\n",
        "on_theta_hist_arr=[]\n",
        "theta_alt_1max_arr=[]\n",
        "theta_alt_1min_arr=[]\n",
        "\n",
        "theta_alt_0max_arr=[]\n",
        "theta_alt_0min_arr=[]\n",
        "\n",
        "seq_p_val_arr=[]\n",
        "counter=0\n",
        "for i in range(0,VECTOR_SIZE,int(VECTOR_SIZE/100)):\n",
        "\n",
        "  on_theta_prev = None\n",
        "  vectors_null_i=[]\n",
        "  vectors_alt_i=[]\n",
        "  if counter==0:\n",
        "    on_theta_prev = np.array([1]*CLASSES)\n",
        "    vectors_null_i=vectors_null[counter]\n",
        "    vectors_alt_i=vectors_alt[counter]\n",
        "    on_theta_hist_arr.append(on_theta_prev)\n",
        "    seq_p_val_arr.append(np.array([1]*CLASSES))\n",
        "  else:\n",
        "    vectors_null_i=vectors_null[:i]\n",
        "    vectors_alt_i=vectors_alt[:i]\n",
        "\n",
        "  s_n_null=np.sum(vectors_null_i,axis=0)\n",
        "  s_n_alt=np.sum(vectors_alt_i,axis=0)\n",
        "\n",
        "  term1_numerator=beta(alpha_dirichlet+s_n_alt)\n",
        "  term1_denominator=beta(alpha_dirichlet)\n",
        "  term1=term1_numerator/term1_denominator\n",
        "\n",
        "  term2=1/(theta_null**s_n_alt)\n",
        "  on_theta_curr=on_theta_hist_arr[-1]*term1*term2\n",
        "  print(counter)\n",
        "\n",
        "\n",
        "  if ((on_theta_curr >= 1/0.05).any()) or (np.isnan(on_theta_curr).any()):\n",
        "    print(\"Reject null hypothesis\")\n",
        "    break\n",
        "  else:\n",
        "    print(\"Accept null hypothesis\")\n",
        "\n",
        "  if ((on_theta_curr < 1/0.05).any()) or (np.isnan(on_theta_curr).any()):\n",
        "    print(\"proceeding with optimization\")\n",
        "  else:\n",
        "    print(\"Reject null hypothesis\")\n",
        "    break\n",
        "\n",
        "  c = np.log(beta(alpha_dirichlet+s_n_alt)) - np.log(beta(alpha_dirichlet))  # Example constant for log Beta terms\n",
        "  u = 0.05  # Example confidence level\n",
        "  c += np.log(u)\n",
        "\n",
        "  # Initial guess for theta (uniform distribution)\n",
        "  initial_theta = np.full(len(theta_alt), 1 / len(theta_alt))\n",
        "\n",
        "  # Constraints\n",
        "  constraints = [\n",
        "      {'type': 'eq', 'fun': constraint_sum},\n",
        "      {'type': 'ineq', 'fun': constraint_log_likelihood, 'args': (s_n_alt, c)}\n",
        "  ]\n",
        "\n",
        "  # Bounds to ensure theta remains within [0, 1]\n",
        "  bounds = [(0, 1) for _ in range(len(theta_alt))]\n",
        "\n",
        "  # Solve the optimization problem\n",
        "  result0 = minimize(objective, initial_theta, args=(0,True), bounds=bounds, constraints=constraints, method='SLSQP')\n",
        "  result1 = minimize(objective, initial_theta, args=(1,True), bounds=bounds, constraints=constraints, method='SLSQP')\n",
        "\n",
        "  # Display the result\n",
        "  if result0.success:\n",
        "      theta_alt_0max_arr.append(result0.x[0])\n",
        "  else:\n",
        "      print(\"Optimization failed:\", result0.message)\n",
        "      break\n",
        "\n",
        "  if result1.success:\n",
        "      theta_alt_1max_arr.append(result1.x[0])\n",
        "  else:\n",
        "      print(\"Optimization failed:\", result1.message)\n",
        "      break\n",
        "\n",
        "\n",
        "\n",
        "\n",
        "  # Solve the optimization problem\n",
        "\n",
        "  result0 = minimize(objective, initial_theta, args=(0,False), bounds=bounds, constraints=constraints, method='SLSQP')\n",
        "  result1 = minimize(objective, initial_theta, args=(1,False), bounds=bounds, constraints=constraints, method='SLSQP')\n",
        "\n",
        "  # Display the result\n",
        "  if result0.success:\n",
        "      theta_alt_0min_arr.append(result0.x[0])\n",
        "  else:\n",
        "      print(\"Optimization failed:\", result0.message)\n",
        "      break\n",
        "\n",
        "  if result1.success:\n",
        "      theta_alt_1min_arr.append(result1.x[0])\n",
        "  else:\n",
        "      print(\"Optimization failed:\", result1.message)\n",
        "      break\n",
        "  if counter>0:\n",
        "    on_theta_hist_arr.append(on_theta_curr)\n",
        "    # p_val=np.clip(1/on_theta_curr,1/on_theta_curr,seq_p_val_arr[counter-1])\n",
        "    p_val=np.minimum(seq_p_val_arr[-1],1/on_theta_curr)\n",
        "    seq_p_val_arr.append(p_val)\n",
        "\n",
        "  counter+=1"
      ],
      "metadata": {
        "id": "XimzYdsgdl-j",
        "colab": {
          "base_uri": "https://localhost:8080/"
        },
        "outputId": "8db1a595-ed18-448b-bca5-d6364032ce62"
      },
      "execution_count": 12,
      "outputs": [
        {
          "output_type": "stream",
          "name": "stdout",
          "text": [
            "0\n",
            "Accept null hypothesis\n",
            "proceeding with optimization\n",
            "1\n",
            "Accept null hypothesis\n",
            "proceeding with optimization\n",
            "2\n",
            "Accept null hypothesis\n",
            "proceeding with optimization\n",
            "3\n",
            "Accept null hypothesis\n",
            "proceeding with optimization\n",
            "4\n",
            "Accept null hypothesis\n",
            "proceeding with optimization\n",
            "5\n",
            "Accept null hypothesis\n",
            "proceeding with optimization\n",
            "6\n",
            "Accept null hypothesis\n",
            "proceeding with optimization\n",
            "7\n",
            "Accept null hypothesis\n",
            "proceeding with optimization\n",
            "8\n",
            "Accept null hypothesis\n",
            "proceeding with optimization\n",
            "9\n",
            "Accept null hypothesis\n",
            "proceeding with optimization\n",
            "10\n",
            "Accept null hypothesis\n",
            "proceeding with optimization\n",
            "11\n",
            "Accept null hypothesis\n",
            "proceeding with optimization\n",
            "12\n",
            "Accept null hypothesis\n",
            "proceeding with optimization\n",
            "13\n",
            "Accept null hypothesis\n",
            "proceeding with optimization\n",
            "14\n",
            "Accept null hypothesis\n",
            "proceeding with optimization\n",
            "15\n",
            "Accept null hypothesis\n",
            "proceeding with optimization\n",
            "16\n",
            "Accept null hypothesis\n",
            "proceeding with optimization\n",
            "17\n",
            "Accept null hypothesis\n",
            "proceeding with optimization\n",
            "18\n",
            "Accept null hypothesis\n",
            "proceeding with optimization\n",
            "19\n",
            "Accept null hypothesis\n",
            "proceeding with optimization\n",
            "20\n",
            "Accept null hypothesis\n",
            "proceeding with optimization\n",
            "21\n",
            "Accept null hypothesis\n",
            "proceeding with optimization\n",
            "22\n",
            "Accept null hypothesis\n",
            "proceeding with optimization\n",
            "23\n",
            "Accept null hypothesis\n",
            "proceeding with optimization\n",
            "24\n",
            "Accept null hypothesis\n",
            "proceeding with optimization\n",
            "25\n",
            "Accept null hypothesis\n",
            "proceeding with optimization\n",
            "26\n",
            "Accept null hypothesis\n",
            "proceeding with optimization\n",
            "27\n",
            "Accept null hypothesis\n",
            "proceeding with optimization\n",
            "28\n",
            "Accept null hypothesis\n",
            "proceeding with optimization\n",
            "29\n",
            "Accept null hypothesis\n",
            "proceeding with optimization\n",
            "30\n",
            "Accept null hypothesis\n",
            "proceeding with optimization\n",
            "31\n",
            "Accept null hypothesis\n",
            "proceeding with optimization\n",
            "32\n",
            "Accept null hypothesis\n",
            "proceeding with optimization\n",
            "33\n",
            "Accept null hypothesis\n",
            "proceeding with optimization\n",
            "34\n",
            "Accept null hypothesis\n",
            "proceeding with optimization\n",
            "35\n",
            "Accept null hypothesis\n",
            "proceeding with optimization\n",
            "36\n",
            "Accept null hypothesis\n",
            "proceeding with optimization\n",
            "37\n",
            "Accept null hypothesis\n",
            "proceeding with optimization\n",
            "38\n",
            "Accept null hypothesis\n",
            "proceeding with optimization\n",
            "39\n",
            "Accept null hypothesis\n",
            "proceeding with optimization\n",
            "40\n",
            "Accept null hypothesis\n",
            "proceeding with optimization\n",
            "41\n",
            "Accept null hypothesis\n",
            "proceeding with optimization\n",
            "42\n",
            "Accept null hypothesis\n",
            "proceeding with optimization\n",
            "43\n",
            "Accept null hypothesis\n",
            "proceeding with optimization\n",
            "44\n",
            "Accept null hypothesis\n",
            "proceeding with optimization\n",
            "45\n",
            "Accept null hypothesis\n",
            "proceeding with optimization\n",
            "46\n",
            "Accept null hypothesis\n",
            "proceeding with optimization\n",
            "47\n",
            "Accept null hypothesis\n",
            "proceeding with optimization\n",
            "48\n",
            "Accept null hypothesis\n",
            "proceeding with optimization\n",
            "49\n",
            "Accept null hypothesis\n",
            "proceeding with optimization\n",
            "50\n",
            "Accept null hypothesis\n",
            "proceeding with optimization\n",
            "51\n",
            "Accept null hypothesis\n",
            "proceeding with optimization\n",
            "52\n",
            "Accept null hypothesis\n",
            "proceeding with optimization\n",
            "53\n",
            "Accept null hypothesis\n",
            "proceeding with optimization\n",
            "54\n",
            "Accept null hypothesis\n",
            "proceeding with optimization\n",
            "55\n",
            "Accept null hypothesis\n",
            "proceeding with optimization\n",
            "56\n",
            "Accept null hypothesis\n",
            "proceeding with optimization\n",
            "57\n",
            "Accept null hypothesis\n",
            "proceeding with optimization\n",
            "58\n",
            "Accept null hypothesis\n",
            "proceeding with optimization\n",
            "59\n",
            "Accept null hypothesis\n",
            "proceeding with optimization\n",
            "60\n",
            "Accept null hypothesis\n",
            "proceeding with optimization\n"
          ]
        },
        {
          "output_type": "stream",
          "name": "stderr",
          "text": [
            "<ipython-input-12-18f765b229a9>:119: RuntimeWarning: overflow encountered in divide\n",
            "  p_val=np.minimum(seq_p_val_arr[-1],1/on_theta_curr)\n"
          ]
        },
        {
          "output_type": "stream",
          "name": "stdout",
          "text": [
            "61\n",
            "Accept null hypothesis\n",
            "proceeding with optimization\n"
          ]
        },
        {
          "output_type": "stream",
          "name": "stderr",
          "text": [
            "<ipython-input-12-18f765b229a9>:119: RuntimeWarning: divide by zero encountered in divide\n",
            "  p_val=np.minimum(seq_p_val_arr[-1],1/on_theta_curr)\n"
          ]
        },
        {
          "output_type": "stream",
          "name": "stdout",
          "text": [
            "62\n",
            "Accept null hypothesis\n",
            "proceeding with optimization\n",
            "63\n",
            "Accept null hypothesis\n",
            "proceeding with optimization\n",
            "64\n",
            "Accept null hypothesis\n",
            "proceeding with optimization\n",
            "65\n",
            "Accept null hypothesis\n",
            "proceeding with optimization\n",
            "66\n",
            "Accept null hypothesis\n",
            "proceeding with optimization\n",
            "67\n",
            "Accept null hypothesis\n",
            "proceeding with optimization\n",
            "68\n",
            "Accept null hypothesis\n",
            "proceeding with optimization\n",
            "69\n",
            "Accept null hypothesis\n",
            "proceeding with optimization\n",
            "70\n",
            "Accept null hypothesis\n",
            "proceeding with optimization\n",
            "71\n",
            "Accept null hypothesis\n",
            "proceeding with optimization\n",
            "72\n",
            "Accept null hypothesis\n",
            "proceeding with optimization\n",
            "73\n",
            "Accept null hypothesis\n",
            "proceeding with optimization\n",
            "74\n",
            "Accept null hypothesis\n",
            "proceeding with optimization\n",
            "75\n",
            "Accept null hypothesis\n",
            "proceeding with optimization\n",
            "76\n",
            "Accept null hypothesis\n",
            "proceeding with optimization\n",
            "77\n",
            "Accept null hypothesis\n",
            "proceeding with optimization\n",
            "78\n",
            "Accept null hypothesis\n",
            "proceeding with optimization\n",
            "79\n",
            "Accept null hypothesis\n",
            "proceeding with optimization\n",
            "80\n",
            "Accept null hypothesis\n",
            "proceeding with optimization\n",
            "81\n",
            "Accept null hypothesis\n",
            "proceeding with optimization\n",
            "82\n",
            "Accept null hypothesis\n",
            "proceeding with optimization\n",
            "83\n",
            "Accept null hypothesis\n",
            "proceeding with optimization\n",
            "84\n",
            "Accept null hypothesis\n",
            "proceeding with optimization\n",
            "85\n",
            "Accept null hypothesis\n",
            "proceeding with optimization\n",
            "86\n",
            "Accept null hypothesis\n",
            "proceeding with optimization\n",
            "87\n",
            "Accept null hypothesis\n",
            "proceeding with optimization\n",
            "88\n",
            "Accept null hypothesis\n",
            "proceeding with optimization\n",
            "89\n",
            "Accept null hypothesis\n",
            "proceeding with optimization\n",
            "90\n",
            "Accept null hypothesis\n",
            "proceeding with optimization\n",
            "91\n",
            "Accept null hypothesis\n",
            "proceeding with optimization\n",
            "92\n",
            "Accept null hypothesis\n",
            "proceeding with optimization\n",
            "93\n",
            "Accept null hypothesis\n",
            "proceeding with optimization\n",
            "94\n",
            "Accept null hypothesis\n",
            "proceeding with optimization\n",
            "95\n",
            "Accept null hypothesis\n",
            "proceeding with optimization\n",
            "96\n",
            "Accept null hypothesis\n",
            "proceeding with optimization\n",
            "97\n",
            "Accept null hypothesis\n",
            "proceeding with optimization\n",
            "98\n",
            "Accept null hypothesis\n",
            "proceeding with optimization\n",
            "99\n",
            "Accept null hypothesis\n",
            "proceeding with optimization\n"
          ]
        }
      ]
    },
    {
      "cell_type": "code",
      "source": [
        "theta_alt"
      ],
      "metadata": {
        "id": "DEck-d40LEaL",
        "outputId": "0d986cc6-ef24-483f-a4bb-923721d36d86",
        "colab": {
          "base_uri": "https://localhost:8080/"
        }
      },
      "execution_count": 13,
      "outputs": [
        {
          "output_type": "execute_result",
          "data": {
            "text/plain": [
              "array([0.42856979, 0.57143021])"
            ]
          },
          "metadata": {},
          "execution_count": 13
        }
      ]
    },
    {
      "cell_type": "code",
      "source": [
        "print(len(on_theta_hist_arr))\n",
        "print(len(theta_alt_1max_arr))\n",
        "print(len(theta_alt_1min_arr))\n",
        "print(len(theta_alt_0max_arr))\n",
        "print(len(theta_alt_0min_arr))\n",
        "print(len(seq_p_val_arr))\n",
        "\n"
      ],
      "metadata": {
        "id": "jcfSmSn_H6Tj",
        "outputId": "7fb0543f-c7cd-4b03-e83c-e4f5990ce145",
        "colab": {
          "base_uri": "https://localhost:8080/"
        }
      },
      "execution_count": 14,
      "outputs": [
        {
          "output_type": "stream",
          "name": "stdout",
          "text": [
            "100\n",
            "100\n",
            "100\n",
            "100\n",
            "100\n",
            "100\n"
          ]
        }
      ]
    },
    {
      "cell_type": "code",
      "source": [
        "# seq_p_val_arr"
      ],
      "metadata": {
        "id": "G5rBwVUpqKbP"
      },
      "execution_count": 15,
      "outputs": []
    },
    {
      "cell_type": "code",
      "source": [
        "print(len(np.array(seq_p_val_arr)[:-1,0]))"
      ],
      "metadata": {
        "id": "spSPXDDny4qE",
        "outputId": "dbba97c2-4de9-4ae5-890a-dbd4bdab00e2",
        "colab": {
          "base_uri": "https://localhost:8080/"
        }
      },
      "execution_count": 16,
      "outputs": [
        {
          "output_type": "stream",
          "name": "stdout",
          "text": [
            "99\n"
          ]
        }
      ]
    },
    {
      "cell_type": "code",
      "source": [
        "import numpy as np\n",
        "from scipy.optimize import minimize\n",
        "# from scipy.special import beta\n",
        "\n",
        "# Updated objective function\n",
        "def objective(theta, i, maximize=True):\n",
        "    \"\"\"\n",
        "    Objective function to maximize or minimize theta_i.\n",
        "\n",
        "    Parameters:\n",
        "    - theta (array): Probability vector (simplex).\n",
        "    - i (int): Index of the element to optimize.\n",
        "    - maximize (bool): True to maximize, False to minimize.\n",
        "\n",
        "    Returns:\n",
        "    - float: Optimized theta[i] (negative for maximization).\n",
        "    \"\"\"\n",
        "    if maximize:\n",
        "        return -theta[i]  # Maximize by minimizing the negative\n",
        "    else:\n",
        "        return theta[i]  # Minimize directly\n",
        "\n",
        "# Constraint for the sum of theta to be 1 (simplex condition)\n",
        "def constraint_sum(theta):\n",
        "    return np.sum(theta) - 1\n",
        "\n",
        "# Log-likelihood constraint with numerical stability\n",
        "epsilon = 1e-10  # Small constant for numerical stability\n",
        "\n",
        "def constraint_log_likelihood(theta, Sn, c):\n",
        "    \"\"\"\n",
        "    Log-likelihood constraint ensuring numerical stability.\n",
        "\n",
        "    Parameters:\n",
        "    - theta (array): Probability vector (simplex).\n",
        "    - Sn (array): Observed count vector S_{n,i}.\n",
        "    - c (float): Constant c + log u.\n",
        "\n",
        "    Returns:\n",
        "    - float: Result of the log-likelihood constraint.\n",
        "    \"\"\"\n",
        "    return np.sum(Sn * np.log(np.clip(theta, epsilon, None))) - c\n",
        "\n",
        "# Constants\n",
        "CLASSES = 2\n",
        "VECTOR_SIZE = 100\n",
        "theta_null = np.array([1 / CLASSES] * CLASSES)  # Initial null hypothesis (simplex)\n",
        "rng = np.random.default_rng()\n",
        "vectors_null = rng.multinomial(1, theta_null, size=VECTOR_SIZE)\n",
        "K = 0.1\n",
        "alpha_dirichlet = K * theta_null\n",
        "theta_alt = rng.dirichlet(alpha_dirichlet)\n",
        "vectors_alt = rng.multinomial(1, theta_alt, size=VECTOR_SIZE)\n",
        "\n",
        "# Storage for results\n",
        "theta_alt_1max_arr = []\n",
        "theta_alt_1min_arr = []\n",
        "theta_alt_0max_arr = []\n",
        "theta_alt_0min_arr = []\n",
        "\n",
        "seq_p_val_arr = []\n",
        "counter = 0\n",
        "\n",
        "# Iterative procedure for calculating bounds\n",
        "for i in range(0, VECTOR_SIZE, VECTOR_SIZE // 100):\n",
        "    vectors_null_i = []\n",
        "    vectors_alt_i = []\n",
        "\n",
        "    if counter == 0:\n",
        "        on_theta_prev = np.array([1] * CLASSES)\n",
        "        vectors_null_i = vectors_null[counter]\n",
        "        vectors_alt_i = vectors_alt[counter]\n",
        "        seq_p_val_arr.append(np.array([1] * CLASSES))\n",
        "    else:\n",
        "        vectors_null_i = vectors_null[:i]\n",
        "        vectors_alt_i = vectors_alt[:i]\n",
        "\n",
        "    s_n_null = np.sum(vectors_null_i, axis=0)\n",
        "    s_n_alt = np.sum(vectors_alt_i, axis=0)\n",
        "\n",
        "    # Calculate term1 for the Bayesian update\n",
        "    term1_numerator = beta(alpha_dirichlet + s_n_alt)\n",
        "    term1_denominator = beta(alpha_dirichlet)\n",
        "    term1 = term1_numerator / term1_denominator\n",
        "\n",
        "    # Ensure numerical stability for the term2 calculation\n",
        "    term2 = 1 / (theta_null**s_n_alt + epsilon)\n",
        "    on_theta_curr = seq_p_val_arr[-1] * term1 * term2\n",
        "\n",
        "    print(f\"Iteration {counter}\")\n",
        "\n",
        "    # Check and update p-values\n",
        "    if ((on_theta_curr >= 1 / 0.05).any()) or (np.isnan(on_theta_curr).any()):\n",
        "        print(\"Reject null hypothesis\")\n",
        "        break\n",
        "    else:\n",
        "        print(\"Accept null hypothesis\")\n",
        "\n",
        "    c = np.log(beta(alpha_dirichlet + s_n_alt)) - np.log(beta(alpha_dirichlet))\n",
        "    u = 0.05  # Confidence level\n",
        "    c += np.log(u)\n",
        "\n",
        "    # Initial guess for theta (uniform distribution)\n",
        "    initial_theta = np.full(len(theta_alt), 1 / len(theta_alt))\n",
        "\n",
        "    # Constraints\n",
        "    constraints = [\n",
        "        {'type': 'eq', 'fun': constraint_sum},\n",
        "        {'type': 'ineq', 'fun': constraint_log_likelihood, 'args': (s_n_alt, c)}\n",
        "    ]\n",
        "\n",
        "    # Bounds to ensure theta remains in the range [0, 1]\n",
        "    bounds = [(0, 1) for _ in range(len(theta_alt))]\n",
        "\n",
        "    # Maximize theta for both classes\n",
        "    for j in range(CLASSES):\n",
        "        result_max = minimize(objective, initial_theta, args=(j, True), bounds=bounds, constraints=constraints, method='SLSQP')\n",
        "        if result_max.success:\n",
        "            if j == 0:\n",
        "                theta_alt_0max_arr.append(result_max.x[0])\n",
        "            else:\n",
        "                theta_alt_1max_arr.append(result_max.x[1])\n",
        "        else:\n",
        "            print(f\"Optimization failed for max class {j}:\", result_max.message)\n",
        "            break\n",
        "\n",
        "    # Minimize theta for both classes\n",
        "    for j in range(CLASSES):\n",
        "        result_min = minimize(objective, initial_theta, args=(j, False), bounds=bounds, constraints=constraints, method='SLSQP')\n",
        "        if result_min.success:\n",
        "            if j == 0:\n",
        "                theta_alt_0min_arr.append(result_min.x[0])\n",
        "            else:\n",
        "                theta_alt_1min_arr.append(result_min.x[1])\n",
        "        else:\n",
        "            print(f\"Optimization failed for min class {j}:\", result_min.message)\n",
        "            break\n",
        "\n",
        "    if counter > 0:\n",
        "        p_val = np.minimum(seq_p_val_arr[-1], 1 / on_theta_curr)\n",
        "        seq_p_val_arr.append(p_val)\n",
        "\n",
        "    counter += 1\n",
        "\n",
        "# Plot or further analysis can be done to visualize the non-overlapping nature of CIs\n"
      ],
      "metadata": {
        "id": "F-ftrm1z6x6d",
        "outputId": "b8263a12-2ba7-4adf-b128-953c2a9431ba",
        "colab": {
          "base_uri": "https://localhost:8080/"
        }
      },
      "execution_count": 33,
      "outputs": [
        {
          "output_type": "stream",
          "name": "stdout",
          "text": [
            "Iteration 0\n",
            "Accept null hypothesis\n",
            "Iteration 1\n",
            "Accept null hypothesis\n",
            "Iteration 2\n",
            "Accept null hypothesis\n",
            "Iteration 3\n",
            "Accept null hypothesis\n",
            "Iteration 4\n",
            "Accept null hypothesis\n",
            "Iteration 5\n",
            "Accept null hypothesis\n",
            "Iteration 6\n",
            "Accept null hypothesis\n",
            "Iteration 7\n",
            "Accept null hypothesis\n",
            "Iteration 8\n",
            "Accept null hypothesis\n",
            "Iteration 9\n",
            "Accept null hypothesis\n",
            "Iteration 10\n",
            "Accept null hypothesis\n",
            "Iteration 11\n",
            "Accept null hypothesis\n",
            "Iteration 12\n",
            "Accept null hypothesis\n",
            "Iteration 13\n",
            "Accept null hypothesis\n",
            "Iteration 14\n",
            "Accept null hypothesis\n",
            "Iteration 15\n",
            "Accept null hypothesis\n",
            "Iteration 16\n",
            "Accept null hypothesis\n",
            "Iteration 17\n",
            "Accept null hypothesis\n",
            "Iteration 18\n",
            "Accept null hypothesis\n",
            "Iteration 19\n",
            "Accept null hypothesis\n",
            "Iteration 20\n",
            "Accept null hypothesis\n",
            "Iteration 21\n",
            "Accept null hypothesis\n",
            "Iteration 22\n",
            "Accept null hypothesis\n",
            "Iteration 23\n",
            "Accept null hypothesis\n",
            "Iteration 24\n",
            "Accept null hypothesis\n",
            "Iteration 25\n",
            "Accept null hypothesis\n",
            "Iteration 26\n",
            "Accept null hypothesis\n",
            "Iteration 27\n",
            "Accept null hypothesis\n",
            "Iteration 28\n",
            "Accept null hypothesis\n",
            "Iteration 29\n",
            "Accept null hypothesis\n",
            "Iteration 30\n",
            "Accept null hypothesis\n",
            "Iteration 31\n",
            "Reject null hypothesis\n"
          ]
        }
      ]
    },
    {
      "cell_type": "code",
      "source": [
        "plt.figure(figsize=(10, 15))\n",
        "plt.subplot(2,1,1)\n",
        "plt.title(\"CI for theta alt\")\n",
        "lenght=len(theta_alt_0min_arr)\n",
        "plt.plot(range(lenght),[theta_alt[0]]*lenght,color='r',label=\"theta_alt for theta_1\")\n",
        "plt.plot(range(lenght),[theta_alt[1]]*lenght,color='b',label=\"theta_alt for theta_2\")\n",
        "\n",
        "plt.fill_between(range(lenght),\n",
        "                 np.array(theta_alt_0min_arr),\n",
        "                 np.array(theta_alt_0max_arr), color='r',\n",
        "                 alpha=0.2, label=\"CI for theta_1\")  # alpha controls transparency\n",
        "\n",
        "\n",
        "plt.fill_between(range(lenght),\n",
        "                 np.array(theta_alt_1min_arr),\n",
        "                 np.array(theta_alt_1max_arr), color='b',\n",
        "                 alpha=0.2, label=\"CI for theta_2\")  # alpha controls transparency\n",
        "\n",
        "\n",
        "# plt.plot(range(len(theta_alt_arr)),np.array(theta_alt_min_arr)[:,0],label=\"theta_alt min for theta_1\")\n",
        "# plt.plot(range(len(theta_alt_arr)),np.array(theta_alt_max_arr)[:,0],label=\"theta_alt max for theta_1\")\n",
        "# plt.plot(range(len(theta_alt_arr)),np.array(theta_alt_min_arr)[:,1],label=\"theta_alt min for theta_2\")\n",
        "# plt.plot(range(len(theta_alt_arr)),np.array(theta_alt_max_arr)[:,1],label=\"theta_alt max for theta_2\")\n",
        "\n",
        "plt.legend()\n",
        "plt.subplot(3,1,2)\n",
        "plt.title(\"P-value for M1|M0\")\n",
        "plt.plot(range(lenght),np.array(seq_p_val_arr)[:,0],color='r',label=\"P-value for theta 1\")\n",
        "plt.plot(range(lenght),[0.05]*lenght,'--',color='b',label=\"0.05\")\n",
        "plt.legend()\n",
        "plt.plot()\n",
        "\n",
        "\n",
        "plt.subplot(3,1,3)\n",
        "plt.title(\"P-value for M1|M0\")\n",
        "plt.plot(range(lenght),np.array(seq_p_val_arr)[:,1],color='r',label=\"P-value for theta 2\")\n",
        "plt.plot(range(lenght),[0.05]*lenght,'--',color='b',label=\"0.05\")\n",
        "plt.legend()\n",
        "plt.plot()"
      ],
      "metadata": {
        "colab": {
          "base_uri": "https://localhost:8080/",
          "height": 1000
        },
        "id": "GDCNb4ckADlW",
        "outputId": "86f252bb-bb98-48fd-ce98-c0a4d658621b"
      },
      "execution_count": 34,
      "outputs": [
        {
          "output_type": "execute_result",
          "data": {
            "text/plain": [
              "[]"
            ]
          },
          "metadata": {},
          "execution_count": 34
        },
        {
          "output_type": "display_data",
          "data": {
            "text/plain": [
              "<Figure size 1000x1500 with 3 Axes>"
            ],
            "image/png": "[encoded data removed]"
          },
          "metadata": {}
        }
      ]
    },
    {
      "cell_type": "code",
      "source": [
        "np.round(theta_alt_0min_arr,3)"
      ],
      "metadata": {
        "id": "szZ9ZJqmFonK",
        "outputId": "b2c9f8b2-b750-4864-8131-1edcde4a5cc1",
        "colab": {
          "base_uri": "https://localhost:8080/"
        }
      },
      "execution_count": 19,
      "outputs": [
        {
          "output_type": "execute_result",
          "data": {
            "text/plain": [
              "array([0.012, 0.025, 0.012, 0.08 , 0.056, 0.121, 0.181, 0.232, 0.275,\n",
              "       0.245, 0.282, 0.256, 0.288, 0.317, 0.343, 0.32 , 0.344, 0.365,\n",
              "       0.384, 0.365, 0.383, 0.365, 0.348, 0.365, 0.349, 0.366, 0.381,\n",
              "       0.395, 0.381, 0.394, 0.407, 0.419, 0.43 , 0.441, 0.428, 0.439,\n",
              "       0.449, 0.458, 0.467, 0.476, 0.484, 0.492, 0.499, 0.507, 0.496,\n",
              "       0.485, 0.492, 0.499, 0.506, 0.496, 0.503, 0.509, 0.515, 0.521,\n",
              "       0.527, 0.533, 0.523, 0.529, 0.534, 0.54 , 0.545, 0.55 , 0.541,\n",
              "       0.546, 0.551, 0.555, 0.56 , 0.564, 0.568, 0.573, 0.577, 0.569,\n",
              "       0.561, 0.565, 0.569, 0.573, 0.566, 0.559, 0.563, 0.566, 0.559,\n",
              "       0.563, 0.567, 0.56 , 0.564, 0.557, 0.561, 0.565, 0.568, 0.572,\n",
              "       0.575, 0.578, 0.572, 0.575, 0.579, 0.582, 0.576, 0.579, 0.573,\n",
              "       0.576])"
            ]
          },
          "metadata": {},
          "execution_count": 19
        }
      ]
    },
    {
      "cell_type": "code",
      "source": [
        "np.round(theta_alt_1min_arr,3)"
      ],
      "metadata": {
        "id": "rfTOlWmiGWKP",
        "outputId": "2403ae28-c5bb-4ae1-9263-010d84c68bda",
        "colab": {
          "base_uri": "https://localhost:8080/"
        }
      },
      "execution_count": 20,
      "outputs": [
        {
          "output_type": "execute_result",
          "data": {
            "text/plain": [
              "array([0.012, 0.   , 0.012, 0.006, 0.056, 0.04 , 0.029, 0.021, 0.016,\n",
              "       0.05 , 0.041, 0.079, 0.068, 0.059, 0.052, 0.083, 0.074, 0.067,\n",
              "       0.06 , 0.087, 0.08 , 0.106, 0.131, 0.123, 0.147, 0.138, 0.13 ,\n",
              "       0.123, 0.144, 0.137, 0.13 , 0.123, 0.117, 0.112, 0.13 , 0.124,\n",
              "       0.119, 0.114, 0.109, 0.105, 0.101, 0.097, 0.093, 0.09 , 0.104,\n",
              "       0.118, 0.114, 0.111, 0.107, 0.12 , 0.117, 0.113, 0.11 , 0.107,\n",
              "       0.104, 0.101, 0.113, 0.11 , 0.107, 0.104, 0.101, 0.099, 0.11 ,\n",
              "       0.107, 0.104, 0.102, 0.1  , 0.097, 0.095, 0.093, 0.091, 0.101,\n",
              "       0.11 , 0.108, 0.106, 0.104, 0.113, 0.121, 0.119, 0.117, 0.126,\n",
              "       0.123, 0.121, 0.13 , 0.127, 0.136, 0.133, 0.131, 0.129, 0.127,\n",
              "       0.125, 0.123, 0.131, 0.129, 0.127, 0.125, 0.132, 0.13 , 0.138,\n",
              "       0.136])"
            ]
          },
          "metadata": {},
          "execution_count": 20
        }
      ]
    },
    {
      "cell_type": "code",
      "source": [
        "np.round(theta_alt_1max_arr,3)"
      ],
      "metadata": {
        "id": "ZMkI3jKhGqo9",
        "outputId": "54472f7c-55ca-4f9e-d979-dfb20e85935a",
        "colab": {
          "base_uri": "https://localhost:8080/"
        }
      },
      "execution_count": 21,
      "outputs": [
        {
          "output_type": "execute_result",
          "data": {
            "text/plain": [
              "array([0.988, 0.975, 0.988, 0.92 , 0.944, 0.879, 0.819, 0.768, 0.725,\n",
              "       0.755, 0.718, 0.744, 0.712, 0.683, 0.657, 0.68 , 0.656, 0.635,\n",
              "       0.616, 0.635, 0.617, 0.635, 0.652, 0.635, 0.651, 0.634, 0.619,\n",
              "       0.605, 0.619, 0.606, 0.593, 0.581, 0.57 , 0.559, 0.572, 0.561,\n",
              "       0.551, 0.542, 0.533, 0.524, 0.516, 0.508, 0.501, 0.493, 0.504,\n",
              "       0.515, 0.508, 0.501, 0.494, 0.504, 0.497, 0.491, 0.485, 0.479,\n",
              "       0.473, 0.467, 0.477, 0.471, 0.466, 0.46 , 0.455, 0.45 , 0.459,\n",
              "       0.454, 0.449, 0.445, 0.44 , 0.436, 0.432, 0.427, 0.423, 0.431,\n",
              "       0.439, 0.435, 0.431, 0.427, 0.434, 0.441, 0.437, 0.434, 0.441,\n",
              "       0.437, 0.433, 0.44 , 0.436, 0.443, 0.439, 0.435, 0.432, 0.428,\n",
              "       0.425, 0.422, 0.428, 0.425, 0.421, 0.418, 0.424, 0.421, 0.427,\n",
              "       0.424])"
            ]
          },
          "metadata": {},
          "execution_count": 21
        }
      ]
    },
    {
      "cell_type": "code",
      "source": [
        "np.round(theta_alt_0max_arr,3)"
      ],
      "metadata": {
        "id": "05AVqjtwGxTG",
        "outputId": "e27fa1f2-f0b2-4c52-e1b3-b86bb7149c29",
        "colab": {
          "base_uri": "https://localhost:8080/"
        }
      },
      "execution_count": 22,
      "outputs": [
        {
          "output_type": "execute_result",
          "data": {
            "text/plain": [
              "array([0.988, 1.   , 0.988, 0.994, 0.944, 0.96 , 0.971, 0.979, 0.984,\n",
              "       0.95 , 0.959, 0.921, 0.932, 0.941, 0.948, 0.917, 0.926, 0.933,\n",
              "       0.94 , 0.913, 0.92 , 0.894, 0.869, 0.877, 0.853, 0.862, 0.87 ,\n",
              "       0.877, 0.856, 0.863, 0.87 , 0.877, 0.883, 0.888, 0.87 , 0.876,\n",
              "       0.881, 0.886, 0.891, 0.895, 0.899, 0.903, 0.907, 0.91 , 0.896,\n",
              "       0.882, 0.886, 0.889, 0.893, 0.88 , 0.883, 0.887, 0.89 , 0.893,\n",
              "       0.896, 0.899, 0.887, 0.89 , 0.893, 0.896, 0.899, 0.901, 0.89 ,\n",
              "       0.893, 0.896, 0.898, 0.9  , 0.903, 0.905, 0.907, 0.909, 0.899,\n",
              "       0.89 , 0.892, 0.894, 0.896, 0.887, 0.879, 0.881, 0.883, 0.874,\n",
              "       0.877, 0.879, 0.87 , 0.873, 0.864, 0.867, 0.869, 0.871, 0.873,\n",
              "       0.875, 0.877, 0.869, 0.871, 0.873, 0.875, 0.868, 0.87 , 0.862,\n",
              "       0.864])"
            ]
          },
          "metadata": {},
          "execution_count": 22
        }
      ]
    },
    {
      "cell_type": "code",
      "source": [
        "1/np.array(on_theta_hist_arr) < (1/0.05)"
      ],
      "metadata": {
        "id": "JZu5owN6H282",
        "outputId": "f26b41a5-b5a1-41e4-fea1-d0703357b794",
        "colab": {
          "base_uri": "https://localhost:8080/"
        }
      },
      "execution_count": 23,
      "outputs": [
        {
          "output_type": "stream",
          "name": "stderr",
          "text": [
            "<ipython-input-23-be1f40693832>:1: RuntimeWarning: divide by zero encountered in divide\n",
            "  1/np.array(on_theta_hist_arr) < (1/0.05)\n",
            "<ipython-input-23-be1f40693832>:1: RuntimeWarning: overflow encountered in divide\n",
            "  1/np.array(on_theta_hist_arr) < (1/0.05)\n"
          ]
        },
        {
          "output_type": "execute_result",
          "data": {
            "text/plain": [
              "array([[ True,  True],\n",
              "       [ True,  True],\n",
              "       [ True,  True],\n",
              "       [ True,  True],\n",
              "       [False, False],\n",
              "       [False, False],\n",
              "       [False, False],\n",
              "       [False, False],\n",
              "       [False, False],\n",
              "       [False, False],\n",
              "       [False, False],\n",
              "       [False, False],\n",
              "       [False, False],\n",
              "       [False, False],\n",
              "       [False, False],\n",
              "       [False, False],\n",
              "       [False, False],\n",
              "       [False, False],\n",
              "       [False, False],\n",
              "       [False, False],\n",
              "       [False, False],\n",
              "       [False, False],\n",
              "       [False, False],\n",
              "       [False, False],\n",
              "       [False, False],\n",
              "       [False, False],\n",
              "       [False, False],\n",
              "       [False, False],\n",
              "       [False, False],\n",
              "       [False, False],\n",
              "       [False, False],\n",
              "       [False, False],\n",
              "       [False, False],\n",
              "       [False, False],\n",
              "       [False, False],\n",
              "       [False, False],\n",
              "       [False, False],\n",
              "       [False, False],\n",
              "       [False, False],\n",
              "       [False, False],\n",
              "       [False, False],\n",
              "       [False, False],\n",
              "       [False, False],\n",
              "       [False, False],\n",
              "       [False, False],\n",
              "       [False, False],\n",
              "       [False, False],\n",
              "       [False, False],\n",
              "       [False, False],\n",
              "       [False, False],\n",
              "       [False, False],\n",
              "       [False, False],\n",
              "       [False, False],\n",
              "       [False, False],\n",
              "       [False, False],\n",
              "       [False, False],\n",
              "       [False, False],\n",
              "       [False, False],\n",
              "       [False, False],\n",
              "       [False, False],\n",
              "       [False, False],\n",
              "       [False, False],\n",
              "       [False, False],\n",
              "       [False, False],\n",
              "       [False, False],\n",
              "       [False, False],\n",
              "       [False, False],\n",
              "       [False, False],\n",
              "       [False, False],\n",
              "       [False, False],\n",
              "       [False, False],\n",
              "       [False, False],\n",
              "       [False, False],\n",
              "       [False, False],\n",
              "       [False, False],\n",
              "       [False, False],\n",
              "       [False, False],\n",
              "       [False, False],\n",
              "       [False, False],\n",
              "       [False, False],\n",
              "       [False, False],\n",
              "       [False, False],\n",
              "       [False, False],\n",
              "       [False, False],\n",
              "       [False, False],\n",
              "       [False, False],\n",
              "       [False, False],\n",
              "       [False, False],\n",
              "       [False, False],\n",
              "       [False, False],\n",
              "       [False, False],\n",
              "       [False, False],\n",
              "       [False, False],\n",
              "       [False, False],\n",
              "       [False, False],\n",
              "       [False, False],\n",
              "       [False, False],\n",
              "       [False, False],\n",
              "       [False, False],\n",
              "       [False, False]])"
            ]
          },
          "metadata": {},
          "execution_count": 23
        }
      ]
    },
    {
      "cell_type": "code",
      "source": [
        "from scipy.stats import gaussian_kde\n",
        "\n",
        "event_timestamps=np.array([1,2])\n",
        "kde=gaussian_kde(vectors_alt[:100,1])\n",
        "time_points=np.linspace(0,100,100)\n",
        "plt.plot(time_points,kde(time_points))"
      ],
      "metadata": {
        "id": "S9CjbOI4Khqw",
        "outputId": "f091491e-2303-4740-b176-11d08f2decda",
        "colab": {
          "base_uri": "https://localhost:8080/",
          "height": 449
        }
      },
      "execution_count": 24,
      "outputs": [
        {
          "output_type": "execute_result",
          "data": {
            "text/plain": [
              "[<matplotlib.lines.Line2D at 0x7ed1a7ed3160>]"
            ]
          },
          "metadata": {},
          "execution_count": 24
        },
        {
          "output_type": "display_data",
          "data": {
            "text/plain": [
              "<Figure size 640x480 with 1 Axes>"
            ],
            "image/png": "[encoded data removed]"
          },
          "metadata": {}
        }
      ]
    },
    {
      "cell_type": "code",
      "source": [
        "time_points"
      ],
      "metadata": {
        "id": "cW3ST3FtK880",
        "outputId": "be795dc6-57a2-4468-c6ae-e399a39c8e40",
        "colab": {
          "base_uri": "https://localhost:8080/"
        }
      },
      "execution_count": 25,
      "outputs": [
        {
          "output_type": "execute_result",
          "data": {
            "text/plain": [
              "array([  0.        ,   1.01010101,   2.02020202,   3.03030303,\n",
              "         4.04040404,   5.05050505,   6.06060606,   7.07070707,\n",
              "         8.08080808,   9.09090909,  10.1010101 ,  11.11111111,\n",
              "        12.12121212,  13.13131313,  14.14141414,  15.15151515,\n",
              "        16.16161616,  17.17171717,  18.18181818,  19.19191919,\n",
              "        20.2020202 ,  21.21212121,  22.22222222,  23.23232323,\n",
              "        24.24242424,  25.25252525,  26.26262626,  27.27272727,\n",
              "        28.28282828,  29.29292929,  30.3030303 ,  31.31313131,\n",
              "        32.32323232,  33.33333333,  34.34343434,  35.35353535,\n",
              "        36.36363636,  37.37373737,  38.38383838,  39.39393939,\n",
              "        40.4040404 ,  41.41414141,  42.42424242,  43.43434343,\n",
              "        44.44444444,  45.45454545,  46.46464646,  47.47474747,\n",
              "        48.48484848,  49.49494949,  50.50505051,  51.51515152,\n",
              "        52.52525253,  53.53535354,  54.54545455,  55.55555556,\n",
              "        56.56565657,  57.57575758,  58.58585859,  59.5959596 ,\n",
              "        60.60606061,  61.61616162,  62.62626263,  63.63636364,\n",
              "        64.64646465,  65.65656566,  66.66666667,  67.67676768,\n",
              "        68.68686869,  69.6969697 ,  70.70707071,  71.71717172,\n",
              "        72.72727273,  73.73737374,  74.74747475,  75.75757576,\n",
              "        76.76767677,  77.77777778,  78.78787879,  79.7979798 ,\n",
              "        80.80808081,  81.81818182,  82.82828283,  83.83838384,\n",
              "        84.84848485,  85.85858586,  86.86868687,  87.87878788,\n",
              "        88.88888889,  89.8989899 ,  90.90909091,  91.91919192,\n",
              "        92.92929293,  93.93939394,  94.94949495,  95.95959596,\n",
              "        96.96969697,  97.97979798,  98.98989899, 100.        ])"
            ]
          },
          "metadata": {},
          "execution_count": 25
        }
      ]
    },
    {
      "cell_type": "code",
      "source": [
        "num_time_points=100\n",
        "probabilities=np.random.dirichlet(alpha=[1,2,3,4],size=1).flatten()\n",
        "num_samples=1000\n",
        "event_times=np.random.choice(np.arange(1,5),size=num_samples,p=probabilities/np.sum(probabilities))\n",
        "kde=gaussian_kde(event_times,bw_method='scott')\n",
        "time_grid=np.linspace(1,num_time_points,1000)\n",
        "mu_t=kde(time_grid)\n",
        "plt.plot(time_grid,mu_t)\n"
      ],
      "metadata": {
        "id": "j7zqKolERl5S",
        "outputId": "bef2bfce-d723-4f48-ebcf-ac5e5b8f1b37",
        "colab": {
          "base_uri": "https://localhost:8080/",
          "height": 447
        }
      },
      "execution_count": 26,
      "outputs": [
        {
          "output_type": "execute_result",
          "data": {
            "text/plain": [
              "[<matplotlib.lines.Line2D at 0x7ed1aa411f00>]"
            ]
          },
          "metadata": {},
          "execution_count": 26
        },
        {
          "output_type": "display_data",
          "data": {
            "text/plain": [
              "<Figure size 640x480 with 1 Axes>"
            ],
            "image/png": "[encoded data removed]"
          },
          "metadata": {}
        }
      ]
    }
  ]
}