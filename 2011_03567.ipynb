{
  "nbformat": 4,
  "nbformat_minor": 0,
  "metadata": {
    "colab": {
      "provenance": [],
      "include_colab_link": true
    },
    "kernelspec": {
      "name": "python3",
      "display_name": "Python 3"
    },
    "language_info": {
      "name": "python"
    }
  },
  "cells": [
    {
      "cell_type": "markdown",
      "metadata": {
        "id": "view-in-github",
        "colab_type": "text"
      },
      "source": [
        "<a href=\"https://colab.research.google.com/github/madanmohan-venkatesan/notebooks/blob/main/2011_03567.ipynb\" target=\"_parent\"><img src=\"https://colab.research.google.com/assets/colab-badge.svg\" alt=\"Open In Colab\"/></a>"
      ]
    },
    {
      "cell_type": "code",
      "execution_count": 218,
      "metadata": {
        "id": "rSS6APsGMflA"
      },
      "outputs": [],
      "source": [
        "import numpy as np\n",
        "from scipy.special import gamma\n",
        "from scipy.optimize import minimize\n",
        "from matplotlib import pyplot as plt\n",
        "import seaborn as sns"
      ]
    },
    {
      "cell_type": "markdown",
      "source": [
        "# 2. A sequential multinomial test\n"
      ],
      "metadata": {
        "id": "In_91-jD8ApW"
      }
    },
    {
      "cell_type": "code",
      "source": [
        "#CONSTANTS\n",
        "CLASSES=2\n",
        "VECTOR_SIZE=100"
      ],
      "metadata": {
        "id": "36jKfhbXFmIj"
      },
      "execution_count": 219,
      "outputs": []
    },
    {
      "cell_type": "code",
      "source": [
        "theta_null=np.array([1/CLASSES]*CLASSES) #Simplex\n",
        "rng = np.random.default_rng()\n",
        "vectors_null=rng.multinomial(1,theta_null,size=VECTOR_SIZE)"
      ],
      "metadata": {
        "id": "s_dACvtO_NA2"
      },
      "execution_count": 220,
      "outputs": []
    },
    {
      "cell_type": "code",
      "source": [
        "K=100\n",
        "alpha_dirichlet=K*theta_null\n",
        "rng = np.random.default_rng()\n",
        "theta_alt=rng.dirichlet(alpha_dirichlet)\n",
        "vectors_alt=rng.multinomial(1,theta_alt,size=VECTOR_SIZE)"
      ],
      "metadata": {
        "id": "8zusc_0MGgm6"
      },
      "execution_count": 221,
      "outputs": []
    },
    {
      "cell_type": "code",
      "source": [
        "s_n_null=np.sum(vectors_null,axis=0)\n",
        "s_n_alt=np.sum(vectors_alt,axis=0)"
      ],
      "metadata": {
        "id": "h82N7rFpAB0f"
      },
      "execution_count": 222,
      "outputs": []
    },
    {
      "cell_type": "code",
      "source": [
        "#need some exceptions\n",
        "def beta(v):\n",
        "\n",
        "  numerator=np.prod(gamma(v))\n",
        "  denominator=gamma(np.sum(v))\n",
        "  if numerator.any() is np.nan or denominator.any() is np.nan:\n",
        "    return [np.inf,np.inf]\n",
        "  else:\n",
        "    return numerator/denominator\n"
      ],
      "metadata": {
        "id": "kqjLRpG1BhW2"
      },
      "execution_count": 223,
      "outputs": []
    },
    {
      "cell_type": "code",
      "source": [
        "#need some exceptions\n",
        "def bf_10(dirichlet_alpha,theta,counts):\n",
        "  term1_numerator=beta(dirichlet_alpha+counts)\n",
        "  term1_denominator=beta(dirichlet_alpha)\n",
        "  term1=term1_numerator/term1_denominator\n",
        "\n",
        "  term2=1/(theta**counts)\n",
        "  if term1.any() is np.inf or term2.any() is np.inf:\n",
        "    return [np.inf,np.inf]\n",
        "  else:\n",
        "    return term1*term2\n"
      ],
      "metadata": {
        "id": "eCUPUpOyB7xh"
      },
      "execution_count": 224,
      "outputs": []
    },
    {
      "cell_type": "code",
      "source": [
        "bf_10(alpha_dirichlet,theta_null,s_n_null)"
      ],
      "metadata": {
        "colab": {
          "base_uri": "https://localhost:8080/"
        },
        "id": "Pvvh6KuiCvSD",
        "outputId": "48834d61-9eee-4c77-d6a2-34913e486d97"
      },
      "execution_count": 225,
      "outputs": [
        {
          "output_type": "stream",
          "name": "stderr",
          "text": [
            "/usr/local/lib/python3.10/dist-packages/numpy/core/fromnumeric.py:88: RuntimeWarning: overflow encountered in reduce\n",
            "  return ufunc.reduce(obj, axis, dtype, out, **passkwargs)\n",
            "<ipython-input-223-c9ac9219823d>:9: RuntimeWarning: invalid value encountered in scalar divide\n",
            "  return numerator/denominator\n"
          ]
        },
        {
          "output_type": "execute_result",
          "data": {
            "text/plain": [
              "array([nan, nan])"
            ]
          },
          "metadata": {},
          "execution_count": 225
        }
      ]
    },
    {
      "cell_type": "code",
      "source": [
        "bf_10(alpha_dirichlet,theta_null,s_n_alt)"
      ],
      "metadata": {
        "colab": {
          "base_uri": "https://localhost:8080/"
        },
        "id": "DigAZ1X7C91D",
        "outputId": "bed22498-c74f-4658-e163-7560358ee3f8"
      },
      "execution_count": 226,
      "outputs": [
        {
          "output_type": "stream",
          "name": "stderr",
          "text": [
            "<ipython-input-223-c9ac9219823d>:9: RuntimeWarning: invalid value encountered in scalar divide\n",
            "  return numerator/denominator\n"
          ]
        },
        {
          "output_type": "execute_result",
          "data": {
            "text/plain": [
              "array([nan, nan])"
            ]
          },
          "metadata": {},
          "execution_count": 226
        }
      ]
    },
    {
      "cell_type": "markdown",
      "source": [
        "For above bf_10, if theta_0 not equal theta then values will go to infinity (reject null hypothesis)\n",
        "otherwise value is zero(accept null hypothesis)\n",
        "\n",
        "Hyper paramters to play around with are K and vector size\n",
        "\n"
      ],
      "metadata": {
        "id": "pRZ4TCxbEgmC"
      }
    },
    {
      "cell_type": "code",
      "source": [
        "theta_null_arr=[]\n",
        "theta_alt_arr=[]\n",
        "dirichlet_alpha_arr=[]\n",
        "vetors_null_arr=[]\n",
        "vectors_alt_arr=[]\n",
        "for i in range(10):\n",
        "  if i==0:\n",
        "    K=10\n",
        "  else:\n",
        "    K=K#+(0.5*K)\n",
        "  #generate null vectors\n",
        "  theta_null=np.array([1/CLASSES]*CLASSES) #Simplex\n",
        "  rng = np.random.default_rng()\n",
        "  vectors_null=rng.multinomial(1,theta_null,size=VECTOR_SIZE)\n",
        "  #generate alt vectors\n",
        "\n",
        "  alpha_dirichlet=K*theta_null\n",
        "  rng = np.random.default_rng()\n",
        "  theta_alt=rng.dirichlet(alpha_dirichlet)\n",
        "  vectors_alt=rng.multinomial(1,theta_alt,size=VECTOR_SIZE)\n",
        "\n",
        "  theta_null_arr.append(theta_null)\n",
        "  theta_alt_arr.append(theta_alt)\n",
        "  dirichlet_alpha_arr.append(alpha_dirichlet)\n",
        "  vetors_null_arr.append(vectors_null)\n",
        "  vectors_alt_arr.append(vectors_alt)"
      ],
      "metadata": {
        "id": "MdBMfgn0EfiG"
      },
      "execution_count": 227,
      "outputs": []
    },
    {
      "cell_type": "code",
      "source": [
        "#give some exceptions\n",
        "on_theta_hist_arr=[]\n",
        "for i in range(len(theta_null_arr)):\n",
        "  on_theta_prev = None\n",
        "  if i==0:\n",
        "    on_theta_prev = np.array([1,1])\n",
        "    on_theta_hist_arr.append(on_theta_prev)\n",
        "\n",
        "  else:\n",
        "    s_n_null=np.sum(vetors_null_arr[i],axis=0)\n",
        "    s_n_alt=np.sum(vectors_alt_arr[i],axis=0)\n",
        "    term1_numerator=beta(dirichlet_alpha_arr[i]+s_n_alt)\n",
        "    term1_denominator=beta(dirichlet_alpha_arr[i])\n",
        "    term1=term1_numerator/term1_denominator\n",
        "\n",
        "    term2=1/(theta_null_arr[i]**s_n_alt)\n",
        "\n",
        "    on_theta_hist_arr.append(on_theta_hist_arr[i-1]*term1*term2)"
      ],
      "metadata": {
        "id": "14ZPErlcHo8N"
      },
      "execution_count": 228,
      "outputs": []
    },
    {
      "cell_type": "code",
      "source": [
        "on_theta_hist_arr=np.array(on_theta_hist_arr)\n",
        "on_theta_hist_arr"
      ],
      "metadata": {
        "colab": {
          "base_uri": "https://localhost:8080/"
        },
        "id": "crT1HApBJBFW",
        "outputId": "3e2429f8-8d70-4b0e-cc74-533ac77d5612"
      },
      "execution_count": 229,
      "outputs": [
        {
          "output_type": "execute_result",
          "data": {
            "text/plain": [
              "array([[1.00000000e+000, 1.00000000e+000],\n",
              "       [5.01328333e-012, 1.19525989e-018],\n",
              "       [1.90934921e-007, 1.54236001e-034],\n",
              "       [1.79634815e-024, 1.67297959e-033],\n",
              "       [9.05040784e-042, 1.38098264e-046],\n",
              "       [6.37441981e-058, 1.55625484e-061],\n",
              "       [1.66875307e-073, 4.07410418e-077],\n",
              "       [8.19361044e-084, 2.98081811e-095],\n",
              "       [5.77095681e-100, 3.35913897e-110],\n",
              "       [3.24287075e-114, 7.37343441e-127]])"
            ]
          },
          "metadata": {},
          "execution_count": 229
        }
      ]
    },
    {
      "cell_type": "code",
      "source": [
        "np.where(on_theta_hist_arr<(1/0.05),on_theta_hist_arr,np.inf)"
      ],
      "metadata": {
        "id": "YNZ7aygOLFJX",
        "outputId": "f359646e-4c7b-41f6-95ad-7f4194728a3c",
        "colab": {
          "base_uri": "https://localhost:8080/"
        }
      },
      "execution_count": 230,
      "outputs": [
        {
          "output_type": "execute_result",
          "data": {
            "text/plain": [
              "array([[1.00000000e+000, 1.00000000e+000],\n",
              "       [5.01328333e-012, 1.19525989e-018],\n",
              "       [1.90934921e-007, 1.54236001e-034],\n",
              "       [1.79634815e-024, 1.67297959e-033],\n",
              "       [9.05040784e-042, 1.38098264e-046],\n",
              "       [6.37441981e-058, 1.55625484e-061],\n",
              "       [1.66875307e-073, 4.07410418e-077],\n",
              "       [8.19361044e-084, 2.98081811e-095],\n",
              "       [5.77095681e-100, 3.35913897e-110],\n",
              "       [3.24287075e-114, 7.37343441e-127]])"
            ]
          },
          "metadata": {},
          "execution_count": 230
        }
      ]
    },
    {
      "cell_type": "markdown",
      "source": [
        "# Optimization problem for theta"
      ],
      "metadata": {
        "id": "l4nQW-e7QZA0"
      }
    },
    {
      "cell_type": "code",
      "source": [
        "on_theta_hist_arr_=on_theta_hist_arr[on_theta_hist_arr<(1/0.05)].reshape(-1,2)"
      ],
      "metadata": {
        "id": "6dxrlgJVXncr"
      },
      "execution_count": 231,
      "outputs": []
    },
    {
      "cell_type": "code",
      "source": [
        "def objective(theta, i,maximize=True):\n",
        "    \"\"\"\n",
        "    Objective function to maximize theta_i.\n",
        "\n",
        "    Parameters:\n",
        "    - theta (array): Probability vector (simplex).\n",
        "    - i (int): Index of the element to maximize.\n",
        "\n",
        "    Returns:\n",
        "    - float: Negative of theta[i] to convert minimization to maximization.\n",
        "    \"\"\"\n",
        "    if maximize:\n",
        "        return -theta[i]\n",
        "    else:\n",
        "      return theta[i]\n",
        "\n",
        "def constraint_sum(theta):\n",
        "    \"\"\"\n",
        "    Constraint ensuring that the sum of theta is 1.\n",
        "\n",
        "    Parameters:\n",
        "    - theta (array): Probability vector (simplex).\n",
        "\n",
        "    Returns:\n",
        "    - float: Sum of theta - 1 (should be 0).\n",
        "    \"\"\"\n",
        "    return np.sum(theta) - 1\n",
        "\n",
        "def constraint_log_likelihood(theta, Sn, c):\n",
        "    \"\"\"\n",
        "    Log-likelihood constraint.\n",
        "\n",
        "    Parameters:\n",
        "    - theta (array): Probability vector (simplex).\n",
        "    - Sn (array): Observed count vector S_{n,i}.\n",
        "    - c (float): Constant c + log u.\n",
        "\n",
        "    Returns:\n",
        "    - float: Left-hand side of the constraint.\n",
        "    \"\"\"\n",
        "    return np.sum(Sn * np.log(theta)) - c\n",
        "\n",
        "# Example data\n",
        "Sn = np.sum(vectors_alt_arr[i],axis=0)  # Example counts for categories\n",
        "c = np.log(beta(dirichlet_alpha_arr[-1]+np.sum(vectors_alt_arr[i],axis=0))) - np.log(beta(dirichlet_alpha_arr[-1]))  # Example constant for log Beta terms\n",
        "u = 0.05  # Example confidence level\n",
        "c += np.log(u)\n",
        "\n",
        "# Initial guess for theta (uniform distribution)\n",
        "initial_theta = np.full(len(Sn), 1 / len(Sn))\n",
        "\n",
        "# Constraints\n",
        "constraints = [\n",
        "    {'type': 'eq', 'fun': constraint_sum},\n",
        "    {'type': 'ineq', 'fun': constraint_log_likelihood, 'args': (Sn, c)}\n",
        "]\n",
        "\n",
        "# Index of theta to maximize\n",
        "i = 0  # Change this to select a different element of theta\n",
        "\n",
        "# Bounds to ensure theta remains within [0, 1]\n",
        "bounds = [(0, 1) for _ in range(len(Sn))]\n",
        "\n",
        "# Solve the optimization problem\n",
        "result = minimize(objective, initial_theta, args=(i,True), bounds=bounds, constraints=constraints, method='SLSQP')\n",
        "\n",
        "# Display the result\n",
        "if result.success:\n",
        "    print(\"Optimal theta:\", result.x)\n",
        "    print(f\"Maximized theta[{i}]:\", result.x[i])\n",
        "else:\n",
        "    print(\"Optimization failed:\", result.message)"
      ],
      "metadata": {
        "id": "K1upoofPRmmd",
        "outputId": "d28c7469-a187-4093-a8bc-df3e3eaf78e4",
        "colab": {
          "base_uri": "https://localhost:8080/"
        }
      },
      "execution_count": 232,
      "outputs": [
        {
          "output_type": "stream",
          "name": "stdout",
          "text": [
            "Optimal theta: [0.67997668 0.32002332]\n",
            "Maximized theta[0]: 0.6799766827729306\n"
          ]
        }
      ]
    },
    {
      "cell_type": "markdown",
      "source": [
        "# Real simulation"
      ],
      "metadata": {
        "id": "IJ9GC-5P7F6U"
      }
    },
    {
      "cell_type": "code",
      "source": [
        "theta_null_arr=[]\n",
        "theta_alt_arr=[]\n",
        "dirichlet_alpha_arr=[]\n",
        "vetors_null_arr=[]\n",
        "vectors_alt_arr=[]\n",
        "on_theta_hist_arr=[]\n",
        "theta_alt_1max_arr=[]\n",
        "theta_alt_1min_arr=[]\n",
        "\n",
        "theta_alt_0max_arr=[]\n",
        "theta_alt_0min_arr=[]\n",
        "\n",
        "for i in range(100):\n",
        "  on_theta_prev = None\n",
        "  if i==0:\n",
        "    K=10\n",
        "    on_theta_prev = np.array([1,1])\n",
        "    #generate null vectors\n",
        "    theta_null=np.array([1/CLASSES]*CLASSES) #Simplex\n",
        "    rng = np.random.default_rng()\n",
        "    vectors_null=rng.multinomial(1,theta_null,size=VECTOR_SIZE)\n",
        "    #generate alt vectors\n",
        "\n",
        "    alpha_dirichlet=K*theta_null\n",
        "    rng = np.random.default_rng()\n",
        "    theta_alt=rng.dirichlet(alpha_dirichlet)\n",
        "    vectors_alt=rng.multinomial(1,theta_alt,size=VECTOR_SIZE)\n",
        "\n",
        "    theta_null_arr.append(theta_null)\n",
        "    theta_alt_arr.append(theta_alt)\n",
        "    dirichlet_alpha_arr.append(alpha_dirichlet)\n",
        "    vetors_null_arr.append(vectors_null)\n",
        "    vectors_alt_arr.append(vectors_alt)\n",
        "\n",
        "    on_theta_prev = np.array([1,1])\n",
        "    on_theta_hist_arr.append(on_theta_prev)\n",
        "\n",
        "    s_n_null=np.sum(vectors_null,axis=0)\n",
        "    s_n_alt=np.sum(vectors_alt,axis=0)\n",
        "\n",
        "    c = np.log(beta(alpha_dirichlet+s_n_alt)) - np.log(beta(alpha_dirichlet))  # Example constant for log Beta terms\n",
        "    u = 0.05  # Example confidence level\n",
        "    c += np.log(u)\n",
        "\n",
        "    # Initial guess for theta (uniform distribution)\n",
        "    initial_theta = np.full(len(s_n_alt), 1 / len(s_n_alt))\n",
        "\n",
        "    # Constraints\n",
        "    constraints = [\n",
        "        {'type': 'eq', 'fun': constraint_sum},\n",
        "        {'type': 'ineq', 'fun': constraint_log_likelihood, 'args': (s_n_alt, c)}\n",
        "    ]\n",
        "\n",
        "    # Index of theta to maximize\n",
        "    i = 0  # Change this to select a different element of theta\n",
        "\n",
        "    # Bounds to ensure theta remains within [0, 1]\n",
        "    bounds = [(0, 1) for _ in range(len(s_n_alt))]\n",
        "\n",
        "    # Solve the optimization problem\n",
        "    result0 = minimize(objective, initial_theta, args=(0,True), bounds=bounds, constraints=constraints, method='SLSQP')\n",
        "    result1 = minimize(objective, initial_theta, args=(1,True), bounds=bounds, constraints=constraints, method='SLSQP')\n",
        "\n",
        "    # Display the result\n",
        "    if result0.success:\n",
        "        theta_alt_0max_arr.append(result0.x[0])\n",
        "    else:\n",
        "        print(\"Optimization failed:\", result0.message)\n",
        "\n",
        "    if result1.success:\n",
        "        theta_alt_1max_arr.append(result1.x[0])\n",
        "    else:\n",
        "        print(\"Optimization failed:\", result1.message)\n",
        "\n",
        "\n",
        "\n",
        "\n",
        "    # Solve the optimization problem\n",
        "\n",
        "    result0 = minimize(objective, initial_theta, args=(0,False), bounds=bounds, constraints=constraints, method='SLSQP')\n",
        "    result1 = minimize(objective, initial_theta, args=(1,False), bounds=bounds, constraints=constraints, method='SLSQP')\n",
        "\n",
        "    # Display the result\n",
        "    if result0.success:\n",
        "        theta_alt_0min_arr.append(result0.x[0])\n",
        "    else:\n",
        "        print(\"Optimization failed:\", result0.message)\n",
        "\n",
        "    if result1.success:\n",
        "        theta_alt_1min_arr.append(result1.x[0])\n",
        "    else:\n",
        "        print(\"Optimization failed:\", result1.message)\n",
        "\n",
        "  else:\n",
        "\n",
        "    K=K#+(0.5*K)\n",
        "\n",
        "    #generate null vectors\n",
        "    theta_null=np.array([1/CLASSES]*CLASSES) #Simplex\n",
        "    rng = np.random.default_rng()\n",
        "    vectors_null=rng.multinomial(1,theta_null,size=VECTOR_SIZE)\n",
        "    #generate alt vectors\n",
        "\n",
        "    alpha_dirichlet=K*theta_null\n",
        "    rng = np.random.default_rng()\n",
        "    theta_alt=rng.dirichlet(alpha_dirichlet)\n",
        "    vectors_alt=rng.multinomial(1,theta_alt,size=VECTOR_SIZE)\n",
        "\n",
        "    theta_null_arr.append(theta_null)\n",
        "    theta_alt_arr.append(theta_alt)\n",
        "    dirichlet_alpha_arr.append(alpha_dirichlet)\n",
        "    vetors_null_arr.append(vectors_null)\n",
        "    vectors_alt_arr.append(vectors_alt)\n",
        "\n",
        "    s_n_null=np.sum(vectors_null,axis=0)\n",
        "    s_n_alt=np.sum(vectors_alt,axis=0)\n",
        "    term1_numerator=beta(alpha_dirichlet+s_n_alt)\n",
        "    term1_denominator=beta(alpha_dirichlet)\n",
        "    term1=term1_numerator/term1_denominator\n",
        "\n",
        "    term2=1/(theta_null**s_n_alt)\n",
        "\n",
        "    on_theta_hist_arr.append(on_theta_hist_arr[i-1]*term1*term2)\n",
        "\n",
        "    # Example data\n",
        "    # Sn = np.sum(vectors_alt_arr[i],axis=0)  # Example counts for categories\n",
        "    c = np.log(beta(alpha_dirichlet+s_n_alt)) - np.log(beta(alpha_dirichlet))  # Example constant for log Beta terms\n",
        "    u = 0.05  # Example confidence level\n",
        "    c += np.log(u)\n",
        "\n",
        "    # Initial guess for theta (uniform distribution)\n",
        "    initial_theta = np.full(len(s_n_alt), 1 / len(s_n_alt))\n",
        "\n",
        "    # Constraints\n",
        "    constraints = [\n",
        "        {'type': 'eq', 'fun': constraint_sum},\n",
        "        {'type': 'ineq', 'fun': constraint_log_likelihood, 'args': (s_n_alt, c)}\n",
        "    ]\n",
        "\n",
        "    # Index of theta to maximize\n",
        "    i = 0  # Change this to select a different element of theta\n",
        "\n",
        "    # Bounds to ensure theta remains within [0, 1]\n",
        "    bounds = [(0, 1) for _ in range(len(s_n_alt))]\n",
        "\n",
        "    # Solve the optimization problem\n",
        "    result0 = minimize(objective, initial_theta, args=(0,True), bounds=bounds, constraints=constraints, method='SLSQP')\n",
        "    result1 = minimize(objective, initial_theta, args=(1,True), bounds=bounds, constraints=constraints, method='SLSQP')\n",
        "\n",
        "    # Display the result\n",
        "    if result0.success:\n",
        "        theta_alt_0max_arr.append(result0.x[0])\n",
        "    else:\n",
        "        print(\"Optimization failed:\", result0.message)\n",
        "\n",
        "    if result1.success:\n",
        "        theta_alt_1max_arr.append(result1.x[0])\n",
        "    else:\n",
        "        print(\"Optimization failed:\", result1.message)\n",
        "\n",
        "\n",
        "\n",
        "\n",
        "    # Solve the optimization problem\n",
        "\n",
        "    result0 = minimize(objective, initial_theta, args=(0,False), bounds=bounds, constraints=constraints, method='SLSQP')\n",
        "    result1 = minimize(objective, initial_theta, args=(1,False), bounds=bounds, constraints=constraints, method='SLSQP')\n",
        "\n",
        "    # Display the result\n",
        "    if result0.success:\n",
        "        theta_alt_0min_arr.append(result0.x[0])\n",
        "    else:\n",
        "        print(\"Optimization failed:\", result0.message)\n",
        "\n",
        "    if result1.success:\n",
        "        theta_alt_1min_arr.append(result1.x[0])\n",
        "    else:\n",
        "        print(\"Optimization failed:\", result1.message)"
      ],
      "metadata": {
        "id": "XimzYdsgdl-j"
      },
      "execution_count": 233,
      "outputs": []
    },
    {
      "cell_type": "code",
      "source": [
        "theta_alt_arr"
      ],
      "metadata": {
        "colab": {
          "base_uri": "https://localhost:8080/"
        },
        "id": "ua7RFYL9BKPn",
        "outputId": "8a0f3851-326a-4148-ed70-e53f8b92683e"
      },
      "execution_count": 234,
      "outputs": [
        {
          "output_type": "execute_result",
          "data": {
            "text/plain": [
              "[array([0.62474102, 0.37525898]),\n",
              " array([0.75089782, 0.24910218]),\n",
              " array([0.20042353, 0.79957647]),\n",
              " array([0.57929032, 0.42070968]),\n",
              " array([0.51418062, 0.48581938]),\n",
              " array([0.38628436, 0.61371564]),\n",
              " array([0.55790852, 0.44209148]),\n",
              " array([0.76903916, 0.23096084]),\n",
              " array([0.35277794, 0.64722206]),\n",
              " array([0.60838773, 0.39161227]),\n",
              " array([0.30212895, 0.69787105]),\n",
              " array([0.61985989, 0.38014011]),\n",
              " array([0.77515031, 0.22484969]),\n",
              " array([0.44981037, 0.55018963]),\n",
              " array([0.32169448, 0.67830552]),\n",
              " array([0.36338456, 0.63661544]),\n",
              " array([0.53769684, 0.46230316]),\n",
              " array([0.50752636, 0.49247364]),\n",
              " array([0.49187174, 0.50812826]),\n",
              " array([0.57206438, 0.42793562]),\n",
              " array([0.52011082, 0.47988918]),\n",
              " array([0.67067816, 0.32932184]),\n",
              " array([0.5665121, 0.4334879]),\n",
              " array([0.34205764, 0.65794236]),\n",
              " array([0.55641947, 0.44358053]),\n",
              " array([0.45728347, 0.54271653]),\n",
              " array([0.30709928, 0.69290072]),\n",
              " array([0.67334328, 0.32665672]),\n",
              " array([0.49983894, 0.50016106]),\n",
              " array([0.54416543, 0.45583457]),\n",
              " array([0.56885646, 0.43114354]),\n",
              " array([0.18334744, 0.81665256]),\n",
              " array([0.67336428, 0.32663572]),\n",
              " array([0.52550678, 0.47449322]),\n",
              " array([0.63483178, 0.36516822]),\n",
              " array([0.51751593, 0.48248407]),\n",
              " array([0.60756654, 0.39243346]),\n",
              " array([0.58255896, 0.41744104]),\n",
              " array([0.24094628, 0.75905372]),\n",
              " array([0.52956941, 0.47043059]),\n",
              " array([0.62849282, 0.37150718]),\n",
              " array([0.4197333, 0.5802667]),\n",
              " array([0.28261554, 0.71738446]),\n",
              " array([0.18170486, 0.81829514]),\n",
              " array([0.65468028, 0.34531972]),\n",
              " array([0.26936309, 0.73063691]),\n",
              " array([0.29650451, 0.70349549]),\n",
              " array([0.30108984, 0.69891016]),\n",
              " array([0.2454027, 0.7545973]),\n",
              " array([0.43380506, 0.56619494]),\n",
              " array([0.40439828, 0.59560172]),\n",
              " array([0.69038523, 0.30961477]),\n",
              " array([0.33406367, 0.66593633]),\n",
              " array([0.51779762, 0.48220238]),\n",
              " array([0.35695316, 0.64304684]),\n",
              " array([0.60014627, 0.39985373]),\n",
              " array([0.6257525, 0.3742475]),\n",
              " array([0.33319163, 0.66680837]),\n",
              " array([0.58770683, 0.41229317]),\n",
              " array([0.7161772, 0.2838228]),\n",
              " array([0.49490049, 0.50509951]),\n",
              " array([0.55249592, 0.44750408]),\n",
              " array([0.3654543, 0.6345457]),\n",
              " array([0.68397767, 0.31602233]),\n",
              " array([0.65997544, 0.34002456]),\n",
              " array([0.70327306, 0.29672694]),\n",
              " array([0.74480457, 0.25519543]),\n",
              " array([0.36281664, 0.63718336]),\n",
              " array([0.77228455, 0.22771545]),\n",
              " array([0.40579782, 0.59420218]),\n",
              " array([0.4856592, 0.5143408]),\n",
              " array([0.22531394, 0.77468606]),\n",
              " array([0.47303251, 0.52696749]),\n",
              " array([0.62446184, 0.37553816]),\n",
              " array([0.74078408, 0.25921592]),\n",
              " array([0.45188314, 0.54811686]),\n",
              " array([0.48144174, 0.51855826]),\n",
              " array([0.63424303, 0.36575697]),\n",
              " array([0.56940896, 0.43059104]),\n",
              " array([0.33535327, 0.66464673]),\n",
              " array([0.44120958, 0.55879042]),\n",
              " array([0.49133833, 0.50866167]),\n",
              " array([0.67071982, 0.32928018]),\n",
              " array([0.56598664, 0.43401336]),\n",
              " array([0.31850633, 0.68149367]),\n",
              " array([0.69282271, 0.30717729]),\n",
              " array([0.64857762, 0.35142238]),\n",
              " array([0.22985036, 0.77014964]),\n",
              " array([0.64797035, 0.35202965]),\n",
              " array([0.55818289, 0.44181711]),\n",
              " array([0.41182038, 0.58817962]),\n",
              " array([0.6817719, 0.3182281]),\n",
              " array([0.17419623, 0.82580377]),\n",
              " array([0.38797447, 0.61202553]),\n",
              " array([0.59445164, 0.40554836]),\n",
              " array([0.39234891, 0.60765109]),\n",
              " array([0.44625544, 0.55374456]),\n",
              " array([0.31482494, 0.68517506]),\n",
              " array([0.36888813, 0.63111187]),\n",
              " array([0.28428234, 0.71571766])]"
            ]
          },
          "metadata": {},
          "execution_count": 234
        }
      ]
    },
    {
      "cell_type": "code",
      "source": [
        "on_theta_hist_arr"
      ],
      "metadata": {
        "colab": {
          "base_uri": "https://localhost:8080/"
        },
        "id": "dqFDzctzIevW",
        "outputId": "04380bbc-88e2-4648-8295-279b3996b658"
      },
      "execution_count": 235,
      "outputs": [
        {
          "output_type": "execute_result",
          "data": {
            "text/plain": [
              "[array([1, 1]),\n",
              " array([7.19389020e-03, 1.59736451e-18]),\n",
              " array([4.02865121e-20, 2.57833677e-18]),\n",
              " array([4.79287771e-27, 1.11592880e-36]),\n",
              " array([2.69325927e-41, 2.44950504e-53]),\n",
              " array([3.21914478e-59, 1.22800628e-64]),\n",
              " array([4.26908034e-73, 1.59035636e-81]),\n",
              " array([4.63062074e-72, 1.49623426e-98]),\n",
              " array([2.42324164e-090, 8.40730833e-108]),\n",
              " array([1.82651095e-098, 3.68860949e-126]),\n",
              " array([1.27698432e-116, 1.81470386e-130]),\n",
              " array([2.07981089e-126, 1.10104272e-148]),\n",
              " array([8.65654591e-128, 2.54393020e-166]),\n",
              " array([6.86378503e-145, 8.26198070e-180]),\n",
              " array([3.22347734e-163, 1.66649872e-188]),\n",
              " array([1.62670011e-181, 3.69868783e-194]),\n",
              " array([8.15510855e-193, 4.42089320e-212]),\n",
              " array([4.58233807e-202, 2.31348951e-230]),\n",
              " array([1.48821649e-215, 1.83436844e-247]),\n",
              " array([4.83331495e-229, 1.45447281e-264]),\n",
              " array([1.56972682e-242, 1.15325313e-281]),\n",
              " array([1.86750064e-249, 4.99138981e-300]),\n",
              " array([2.48972345e-265, 0.00000000e+000]),\n",
              " array([1.06281479e-283, 0.00000000e+000]),\n",
              " array([6.34003579e-296, 0.00000000e+000]),\n",
              " array([3.18299369e-314, 0.00000000e+000]),\n",
              " array([0., 0.]),\n",
              " array([0., 0.]),\n",
              " array([0., 0.]),\n",
              " array([0., 0.]),\n",
              " array([0., 0.]),\n",
              " array([0., 0.]),\n",
              " array([0., 0.]),\n",
              " array([0., 0.]),\n",
              " array([0., 0.]),\n",
              " array([0., 0.]),\n",
              " array([0., 0.]),\n",
              " array([0., 0.]),\n",
              " array([0., 0.]),\n",
              " array([0., 0.]),\n",
              " array([0., 0.]),\n",
              " array([0., 0.]),\n",
              " array([0., 0.]),\n",
              " array([0., 0.]),\n",
              " array([0., 0.]),\n",
              " array([0., 0.]),\n",
              " array([0., 0.]),\n",
              " array([0., 0.]),\n",
              " array([0., 0.]),\n",
              " array([0., 0.]),\n",
              " array([0., 0.]),\n",
              " array([0., 0.]),\n",
              " array([0., 0.]),\n",
              " array([0., 0.]),\n",
              " array([0., 0.]),\n",
              " array([0., 0.]),\n",
              " array([0., 0.]),\n",
              " array([0., 0.]),\n",
              " array([0., 0.]),\n",
              " array([0., 0.]),\n",
              " array([0., 0.]),\n",
              " array([0., 0.]),\n",
              " array([0., 0.]),\n",
              " array([0., 0.]),\n",
              " array([0., 0.]),\n",
              " array([0., 0.]),\n",
              " array([0., 0.]),\n",
              " array([0., 0.]),\n",
              " array([0., 0.]),\n",
              " array([0., 0.]),\n",
              " array([0., 0.]),\n",
              " array([0., 0.]),\n",
              " array([0., 0.]),\n",
              " array([0., 0.]),\n",
              " array([0., 0.]),\n",
              " array([0., 0.]),\n",
              " array([0., 0.]),\n",
              " array([0., 0.]),\n",
              " array([0., 0.]),\n",
              " array([0., 0.]),\n",
              " array([0., 0.]),\n",
              " array([0., 0.]),\n",
              " array([0., 0.]),\n",
              " array([0., 0.]),\n",
              " array([0., 0.]),\n",
              " array([0., 0.]),\n",
              " array([0., 0.]),\n",
              " array([0., 0.]),\n",
              " array([0., 0.]),\n",
              " array([0., 0.]),\n",
              " array([0., 0.]),\n",
              " array([0., 0.]),\n",
              " array([0., 0.]),\n",
              " array([0., 0.]),\n",
              " array([0., 0.]),\n",
              " array([0., 0.]),\n",
              " array([0., 0.]),\n",
              " array([0., 0.]),\n",
              " array([0., 0.]),\n",
              " array([0., 0.])]"
            ]
          },
          "metadata": {},
          "execution_count": 235
        }
      ]
    },
    {
      "cell_type": "code",
      "source": [
        "plt.subplot(2,1,1)\n",
        "plt.title(\"CI for theta alt\")\n",
        "plt.plot(range(len(theta_alt_arr)),np.array(theta_alt_arr)[:,0],color='r',label=\"theta_alt for theta_1\")\n",
        "plt.plot(range(len(theta_alt_arr)),np.array(theta_alt_arr)[:,1],color='b',label=\"theta_alt for theta_2\")\n",
        "\n",
        "plt.fill_between(range(len(theta_alt_arr)),\n",
        "                 np.array(theta_alt_0min_arr),\n",
        "                 np.array(theta_alt_0max_arr), color='r',\n",
        "                 alpha=0.2, label=\"CI for theta_1\")  # alpha controls transparency\n",
        "\n",
        "\n",
        "plt.fill_between(range(len(theta_alt_arr)),\n",
        "                 np.array(theta_alt_1min_arr),\n",
        "                 np.array(theta_alt_1max_arr), color='b',\n",
        "                 alpha=0.2, label=\"CI for theta_2\")  # alpha controls transparency\n",
        "\n",
        "\n",
        "# plt.plot(range(len(theta_alt_arr)),np.array(theta_alt_min_arr)[:,0],label=\"theta_alt min for theta_1\")\n",
        "# plt.plot(range(len(theta_alt_arr)),np.array(theta_alt_max_arr)[:,0],label=\"theta_alt max for theta_1\")\n",
        "# plt.plot(range(len(theta_alt_arr)),np.array(theta_alt_min_arr)[:,1],label=\"theta_alt min for theta_2\")\n",
        "# plt.plot(range(len(theta_alt_arr)),np.array(theta_alt_max_arr)[:,1],label=\"theta_alt max for theta_2\")\n",
        "\n",
        "plt.legend()\n",
        "plt.subplot(3,1,2)\n",
        "plt.title(\"Bayes factor for M1|M0\")\n",
        "plt.plot(range(len(theta_alt_arr)),np.array(on_theta_hist_arr)[:,0],color='r',label=\"Bayes factor for theta 1\")\n",
        "plt.plot(range(len(theta_alt_arr)),[0.05]*len(theta_alt_arr),'--',color='b',label=\"0.05\")\n",
        "plt.legend()\n",
        "plt.plot()\n",
        "\n",
        "\n",
        "plt.subplot(3,1,3)\n",
        "plt.title(\"Bayes factor for M1|M0\")\n",
        "plt.plot(range(len(theta_alt_arr)),np.array(on_theta_hist_arr)[:,1],color='r',label=\"Bayes factor for theta 2\")\n",
        "plt.plot(range(len(theta_alt_arr)),[0.05]*len(theta_alt_arr),'--',color='b',label=\"0.05\")\n",
        "plt.legend()\n",
        "plt.plot()"
      ],
      "metadata": {
        "colab": {
          "base_uri": "https://localhost:8080/",
          "height": 469
        },
        "id": "GDCNb4ckADlW",
        "outputId": "6da0de37-6b13-4b67-f672-0cb4a29f4f98"
      },
      "execution_count": 236,
      "outputs": [
        {
          "output_type": "execute_result",
          "data": {
            "text/plain": [
              "[]"
            ]
          },
          "metadata": {},
          "execution_count": 236
        },
        {
          "output_type": "display_data",
          "data": {
            "text/plain": [
              "<Figure size 640x480 with 3 Axes>"
            ],
            "image/png": "[encoded data removed]"
          },
          "metadata": {}
        }
      ]
    },
    {
      "cell_type": "code",
      "source": [
        "np.round(theta_alt_0min_arr,3)"
      ],
      "metadata": {
        "colab": {
          "base_uri": "https://localhost:8080/"
        },
        "id": "szZ9ZJqmFonK",
        "outputId": "ad2f78ae-9c4e-4b6a-b105-ff0a41b55dbe"
      },
      "execution_count": 237,
      "outputs": [
        {
          "output_type": "execute_result",
          "data": {
            "text/plain": [
              "array([0.348, 0.603, 0.095, 0.537, 0.396, 0.254, 0.405, 0.641, 0.217,\n",
              "       0.518, 0.146, 0.49 , 0.613, 0.301, 0.208, 0.163, 0.462, 0.499,\n",
              "       0.415, 0.415, 0.415, 0.537, 0.348, 0.19 , 0.443, 0.163, 0.172,\n",
              "       0.575, 0.32 , 0.348, 0.424, 0.072, 0.499, 0.348, 0.546, 0.311,\n",
              "       0.49 , 0.481, 0.12 , 0.386, 0.49 , 0.208, 0.12 , 0.021, 0.452,\n",
              "       0.172, 0.254, 0.217, 0.12 , 0.217, 0.264, 0.528, 0.236, 0.358,\n",
              "       0.163, 0.509, 0.424, 0.19 , 0.433, 0.565, 0.386, 0.499, 0.217,\n",
              "       0.556, 0.528, 0.565, 0.499, 0.163, 0.622, 0.181, 0.311, 0.072,\n",
              "       0.358, 0.509, 0.613, 0.32 , 0.329, 0.546, 0.405, 0.254, 0.264,\n",
              "       0.348, 0.509, 0.348, 0.181, 0.528, 0.528, 0.146, 0.462, 0.396,\n",
              "       0.264, 0.518, 0.095, 0.236, 0.49 , 0.217, 0.32 , 0.227, 0.227,\n",
              "       0.154])"
            ]
          },
          "metadata": {},
          "execution_count": 237
        }
      ]
    },
    {
      "cell_type": "code",
      "source": [
        "np.round(theta_alt_1min_arr,3)"
      ],
      "metadata": {
        "colab": {
          "base_uri": "https://localhost:8080/"
        },
        "id": "rfTOlWmiGWKP",
        "outputId": "7bcb52b8-2931-4a9c-a167-edc1770d4f4a"
      },
      "execution_count": 238,
      "outputs": [
        {
          "output_type": "execute_result",
          "data": {
            "text/plain": [
              "array([0.633, 0.88 , 0.368, 0.819, 0.68 , 0.538, 0.689, 0.913, 0.501,\n",
              "       0.801, 0.425, 0.773, 0.888, 0.585, 0.491, 0.444, 0.746, 0.783,\n",
              "       0.699, 0.699, 0.699, 0.819, 0.633, 0.472, 0.727, 0.444, 0.454,\n",
              "       0.854, 0.604, 0.633, 0.708, 0.34 , 0.783, 0.633, 0.828, 0.595,\n",
              "       0.773, 0.764, 0.397, 0.671, 0.773, 0.491, 0.397, 0.262, 0.736,\n",
              "       0.454, 0.538, 0.501, 0.397, 0.501, 0.548, 0.81 , 0.519, 0.642,\n",
              "       0.444, 0.792, 0.708, 0.472, 0.718, 0.846, 0.671, 0.783, 0.501,\n",
              "       0.837, 0.81 , 0.846, 0.783, 0.444, 0.897, 0.463, 0.595, 0.34 ,\n",
              "       0.642, 0.792, 0.888, 0.604, 0.614, 0.828, 0.689, 0.538, 0.548,\n",
              "       0.633, 0.792, 0.633, 0.463, 0.81 , 0.81 , 0.425, 0.746, 0.68 ,\n",
              "       0.548, 0.801, 0.368, 0.519, 0.773, 0.501, 0.604, 0.51 , 0.51 ,\n",
              "       0.435])"
            ]
          },
          "metadata": {},
          "execution_count": 238
        }
      ]
    },
    {
      "cell_type": "code",
      "source": [
        "np.round(theta_alt_1max_arr,3)"
      ],
      "metadata": {
        "colab": {
          "base_uri": "https://localhost:8080/"
        },
        "id": "ZMkI3jKhGqo9",
        "outputId": "e85a1c7e-720a-4a45-bda0-1e558e62a5be"
      },
      "execution_count": 239,
      "outputs": [
        {
          "output_type": "execute_result",
          "data": {
            "text/plain": [
              "array([0.348, 0.603, 0.095, 0.537, 0.396, 0.254, 0.405, 0.641, 0.217,\n",
              "       0.518, 0.146, 0.49 , 0.613, 0.301, 0.208, 0.163, 0.462, 0.499,\n",
              "       0.415, 0.415, 0.415, 0.537, 0.348, 0.19 , 0.443, 0.163, 0.172,\n",
              "       0.575, 0.32 , 0.348, 0.424, 0.072, 0.499, 0.348, 0.546, 0.311,\n",
              "       0.49 , 0.481, 0.12 , 0.386, 0.49 , 0.208, 0.12 , 0.021, 0.452,\n",
              "       0.172, 0.254, 0.217, 0.12 , 0.217, 0.264, 0.528, 0.236, 0.358,\n",
              "       0.163, 0.509, 0.424, 0.19 , 0.433, 0.565, 0.386, 0.499, 0.217,\n",
              "       0.556, 0.528, 0.565, 0.499, 0.163, 0.622, 0.181, 0.311, 0.072,\n",
              "       0.358, 0.509, 0.613, 0.32 , 0.329, 0.546, 0.405, 0.254, 0.264,\n",
              "       0.348, 0.509, 0.348, 0.181, 0.528, 0.528, 0.146, 0.462, 0.396,\n",
              "       0.264, 0.518, 0.095, 0.236, 0.49 , 0.217, 0.32 , 0.227, 0.227,\n",
              "       0.154])"
            ]
          },
          "metadata": {},
          "execution_count": 239
        }
      ]
    },
    {
      "cell_type": "code",
      "source": [
        "np.round(theta_alt_0max_arr,3)"
      ],
      "metadata": {
        "colab": {
          "base_uri": "https://localhost:8080/"
        },
        "id": "05AVqjtwGxTG",
        "outputId": "f755ca5d-d5b6-4e31-8a36-f44234e9f3d2"
      },
      "execution_count": 240,
      "outputs": [
        {
          "output_type": "execute_result",
          "data": {
            "text/plain": [
              "array([0.633, 0.88 , 0.368, 0.819, 0.68 , 0.538, 0.689, 0.913, 0.501,\n",
              "       0.801, 0.425, 0.773, 0.888, 0.585, 0.491, 0.444, 0.746, 0.783,\n",
              "       0.699, 0.699, 0.699, 0.819, 0.633, 0.472, 0.727, 0.444, 0.454,\n",
              "       0.854, 0.604, 0.633, 0.708, 0.34 , 0.783, 0.633, 0.828, 0.595,\n",
              "       0.773, 0.764, 0.397, 0.671, 0.773, 0.491, 0.397, 0.262, 0.736,\n",
              "       0.454, 0.538, 0.501, 0.397, 0.501, 0.548, 0.81 , 0.519, 0.642,\n",
              "       0.444, 0.792, 0.708, 0.472, 0.718, 0.846, 0.671, 0.783, 0.501,\n",
              "       0.837, 0.81 , 0.846, 0.783, 0.444, 0.897, 0.463, 0.595, 0.34 ,\n",
              "       0.642, 0.792, 0.888, 0.604, 0.614, 0.828, 0.689, 0.538, 0.548,\n",
              "       0.633, 0.792, 0.633, 0.463, 0.81 , 0.81 , 0.425, 0.746, 0.68 ,\n",
              "       0.548, 0.801, 0.368, 0.519, 0.773, 0.501, 0.604, 0.51 , 0.51 ,\n",
              "       0.435])"
            ]
          },
          "metadata": {},
          "execution_count": 240
        }
      ]
    }
  ]
}