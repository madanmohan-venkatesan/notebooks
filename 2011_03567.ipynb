{
  "nbformat": 4,
  "nbformat_minor": 0,
  "metadata": {
    "colab": {
      "provenance": [],
      "include_colab_link": true
    },
    "kernelspec": {
      "name": "python3",
      "display_name": "Python 3"
    },
    "language_info": {
      "name": "python"
    }
  },
  "cells": [
    {
      "cell_type": "markdown",
      "metadata": {
        "id": "view-in-github",
        "colab_type": "text"
      },
      "source": [
        "<a href=\"https://colab.research.google.com/github/madanmohan-venkatesan/notebooks/blob/main/2011_03567.ipynb\" target=\"_parent\"><img src=\"https://colab.research.google.com/assets/colab-badge.svg\" alt=\"Open In Colab\"/></a>"
      ]
    },
    {
      "cell_type": "code",
      "execution_count": 139,
      "metadata": {
        "id": "rSS6APsGMflA"
      },
      "outputs": [],
      "source": [
        "import numpy as np\n",
        "from scipy.special import gamma"
      ]
    },
    {
      "cell_type": "markdown",
      "source": [
        "# 2. A sequential multinomial test\n"
      ],
      "metadata": {
        "id": "In_91-jD8ApW"
      }
    },
    {
      "cell_type": "code",
      "source": [
        "#CONSTANTS\n",
        "CLASSES=2\n",
        "VECTOR_SIZE=100"
      ],
      "metadata": {
        "id": "36jKfhbXFmIj"
      },
      "execution_count": 140,
      "outputs": []
    },
    {
      "cell_type": "code",
      "source": [
        "theta_null=np.array([1/CLASSES]*CLASSES) #Simplex\n",
        "rng = np.random.default_rng()\n",
        "vectors_null=rng.multinomial(1,theta_null,size=VECTOR_SIZE)"
      ],
      "metadata": {
        "id": "s_dACvtO_NA2"
      },
      "execution_count": 141,
      "outputs": []
    },
    {
      "cell_type": "code",
      "source": [
        "K=100\n",
        "alpha_dirichlet=K*theta_null\n",
        "rng = np.random.default_rng()\n",
        "theta_alt=rng.dirichlet(alpha_dirichlet)\n",
        "vectors_alt=rng.multinomial(1,theta_alt,size=VECTOR_SIZE)"
      ],
      "metadata": {
        "id": "8zusc_0MGgm6"
      },
      "execution_count": 142,
      "outputs": []
    },
    {
      "cell_type": "code",
      "source": [
        "s_n_null=np.sum(vectors_null,axis=0)\n",
        "s_n_alt=np.sum(vectors_alt,axis=0)"
      ],
      "metadata": {
        "id": "h82N7rFpAB0f"
      },
      "execution_count": 143,
      "outputs": []
    },
    {
      "cell_type": "code",
      "source": [
        "#need some exceptions\n",
        "def beta(v):\n",
        "  numerator=np.prod(gamma(v))\n",
        "  denominator=gamma(np.sum(v))\n",
        "  return numerator/denominator"
      ],
      "metadata": {
        "id": "kqjLRpG1BhW2"
      },
      "execution_count": 144,
      "outputs": []
    },
    {
      "cell_type": "code",
      "source": [
        "#need some exceptions\n",
        "def bf_10(dirichlet_alpha,theta,counts):\n",
        "  term1_numerator=beta(dirichlet_alpha+counts)\n",
        "  term1_denominator=beta(dirichlet_alpha)\n",
        "  term1=term1_numerator/term1_denominator\n",
        "\n",
        "  term2=1/(theta**counts)\n",
        "\n",
        "  return term1*term2"
      ],
      "metadata": {
        "id": "eCUPUpOyB7xh"
      },
      "execution_count": 145,
      "outputs": []
    },
    {
      "cell_type": "code",
      "source": [
        "bf_10(alpha_dirichlet,theta_null,s_n_null)"
      ],
      "metadata": {
        "colab": {
          "base_uri": "https://localhost:8080/"
        },
        "id": "Pvvh6KuiCvSD",
        "outputId": "8364d42c-10d9-4e78-d47c-e3aef039ff4b"
      },
      "execution_count": 146,
      "outputs": [
        {
          "output_type": "stream",
          "name": "stderr",
          "text": [
            "/usr/local/lib/python3.10/dist-packages/numpy/core/fromnumeric.py:88: RuntimeWarning: overflow encountered in reduce\n",
            "  return ufunc.reduce(obj, axis, dtype, out, **passkwargs)\n",
            "<ipython-input-144-33341291f68e>:4: RuntimeWarning: invalid value encountered in scalar divide\n",
            "  return numerator/denominator\n"
          ]
        },
        {
          "output_type": "execute_result",
          "data": {
            "text/plain": [
              "array([nan, nan])"
            ]
          },
          "metadata": {},
          "execution_count": 146
        }
      ]
    },
    {
      "cell_type": "code",
      "source": [
        "bf_10(alpha_dirichlet,theta_null,s_n_alt)"
      ],
      "metadata": {
        "colab": {
          "base_uri": "https://localhost:8080/"
        },
        "id": "DigAZ1X7C91D",
        "outputId": "c1f2e1bd-fd2f-457f-e67b-01a58034779e"
      },
      "execution_count": 147,
      "outputs": [
        {
          "output_type": "stream",
          "name": "stderr",
          "text": [
            "<ipython-input-144-33341291f68e>:4: RuntimeWarning: invalid value encountered in scalar divide\n",
            "  return numerator/denominator\n"
          ]
        },
        {
          "output_type": "execute_result",
          "data": {
            "text/plain": [
              "array([nan, nan])"
            ]
          },
          "metadata": {},
          "execution_count": 147
        }
      ]
    },
    {
      "cell_type": "markdown",
      "source": [
        "For above bf_10, if theta_0 not equal theta then values will go to infinity (reject null hypothesis)\n",
        "otherwise value is zero(accept null hypothesis)\n",
        "\n",
        "Hyper paramters to play around with are K and vector size\n",
        "\n"
      ],
      "metadata": {
        "id": "pRZ4TCxbEgmC"
      }
    },
    {
      "cell_type": "code",
      "source": [
        "theta_null_arr=[]\n",
        "theta_alt_arr=[]\n",
        "dirichlet_alpha_arr=[]\n",
        "vetors_null_arr=[]\n",
        "vectors_alt_arr=[]\n",
        "for i in range(10):\n",
        "  if i==0:\n",
        "    K=10\n",
        "  else:\n",
        "    K=K+(0.5*K)\n",
        "  #generate null vectors\n",
        "  theta_null=np.array([1/CLASSES]*CLASSES) #Simplex\n",
        "  rng = np.random.default_rng()\n",
        "  vectors_null=rng.multinomial(1,theta_null,size=VECTOR_SIZE)\n",
        "  #generate alt vectors\n",
        "\n",
        "  alpha_dirichlet=K*theta_null\n",
        "  rng = np.random.default_rng()\n",
        "  theta_alt=rng.dirichlet(alpha_dirichlet)\n",
        "  vectors_alt=rng.multinomial(1,theta_alt,size=VECTOR_SIZE)\n",
        "\n",
        "  theta_null_arr.append(theta_null)\n",
        "  theta_alt_arr.append(theta_alt)\n",
        "  dirichlet_alpha_arr.append(alpha_dirichlet)\n",
        "  vetors_null_arr.append(vectors_null)\n",
        "  vectors_alt_arr.append(vectors_alt)"
      ],
      "metadata": {
        "id": "MdBMfgn0EfiG"
      },
      "execution_count": 161,
      "outputs": []
    },
    {
      "cell_type": "code",
      "source": [
        "#give some exceptions\n",
        "on_theta_hist_arr=[]\n",
        "for i in range(len(theta_null_arr)):\n",
        "  on_theta_prev = None\n",
        "  if i==0:\n",
        "    on_theta_prev = np.array([1,1])\n",
        "    on_theta_hist_arr.append(on_theta_prev)\n",
        "\n",
        "  else:\n",
        "    s_n_null=np.sum(vetors_null_arr[i],axis=0)\n",
        "    s_n_alt=np.sum(vectors_alt_arr[i],axis=0)\n",
        "    term1_numerator=beta(dirichlet_alpha_arr[i]+s_n_alt)\n",
        "    term1_denominator=beta(dirichlet_alpha_arr[i])\n",
        "    term1=term1_numerator/term1_denominator\n",
        "\n",
        "    term2=1/(theta_null_arr[i]**s_n_alt)\n",
        "\n",
        "    on_theta_hist_arr.append(on_theta_hist_arr[i-1]*term1*term2)"
      ],
      "metadata": {
        "colab": {
          "base_uri": "https://localhost:8080/"
        },
        "id": "14ZPErlcHo8N",
        "outputId": "637d5bf3-6cce-4fc5-ccc3-347dc7236bc7"
      },
      "execution_count": 162,
      "outputs": [
        {
          "output_type": "stream",
          "name": "stderr",
          "text": [
            "/usr/local/lib/python3.10/dist-packages/numpy/core/fromnumeric.py:88: RuntimeWarning: overflow encountered in reduce\n",
            "  return ufunc.reduce(obj, axis, dtype, out, **passkwargs)\n",
            "<ipython-input-144-33341291f68e>:4: RuntimeWarning: invalid value encountered in scalar divide\n",
            "  return numerator/denominator\n"
          ]
        }
      ]
    },
    {
      "cell_type": "code",
      "source": [
        "on_theta_hist_arr=np.array(on_theta_hist_arr)\n",
        "on_theta_hist_arr"
      ],
      "metadata": {
        "colab": {
          "base_uri": "https://localhost:8080/"
        },
        "id": "crT1HApBJBFW",
        "outputId": "f12842f5-0a25-45af-8f18-8f58f129b7f4"
      },
      "execution_count": 163,
      "outputs": [
        {
          "output_type": "execute_result",
          "data": {
            "text/plain": [
              "array([[1.00000000e+00, 1.00000000e+00],\n",
              "       [2.96210777e-15, 4.62829339e-17],\n",
              "       [1.03667187e-29, 2.53093717e-33],\n",
              "       [7.52864345e-47, 3.01145738e-46],\n",
              "       [9.53014750e-60, 2.32669617e-63],\n",
              "       [0.00000000e+00, 0.00000000e+00],\n",
              "       [           nan,            nan],\n",
              "       [           nan,            nan],\n",
              "       [           nan,            nan],\n",
              "       [           nan,            nan]])"
            ]
          },
          "metadata": {},
          "execution_count": 163
        }
      ]
    },
    {
      "cell_type": "code",
      "source": [
        "np.where(on_theta_hist_arr<(1/0.05),on_theta_hist_arr,np.inf)"
      ],
      "metadata": {
        "id": "YNZ7aygOLFJX",
        "outputId": "4ed0dd04-de0f-4f50-8585-a1de0893f180",
        "colab": {
          "base_uri": "https://localhost:8080/"
        }
      },
      "execution_count": 164,
      "outputs": [
        {
          "output_type": "execute_result",
          "data": {
            "text/plain": [
              "array([[1.00000000e+00, 1.00000000e+00],\n",
              "       [2.96210777e-15, 4.62829339e-17],\n",
              "       [1.03667187e-29, 2.53093717e-33],\n",
              "       [7.52864345e-47, 3.01145738e-46],\n",
              "       [9.53014750e-60, 2.32669617e-63],\n",
              "       [0.00000000e+00, 0.00000000e+00],\n",
              "       [           inf,            inf],\n",
              "       [           inf,            inf],\n",
              "       [           inf,            inf],\n",
              "       [           inf,            inf]])"
            ]
          },
          "metadata": {},
          "execution_count": 164
        }
      ]
    },
    {
      "cell_type": "markdown",
      "source": [
        "# Optimization problem for theta"
      ],
      "metadata": {
        "id": "l4nQW-e7QZA0"
      }
    },
    {
      "cell_type": "code",
      "source": [
        "# idx=np.argwhere(on_theta_hist_arr<(1/0.05))\n",
        "# # on_theta_hist_arr[idx].shape\n",
        "# idx\n",
        "\n",
        "on_theta_hist_arr[on_theta_hist_arr<(1/0.05)].shape"
      ],
      "metadata": {
        "id": "gIj3A34IRukn",
        "outputId": "3f3d14b8-3311-41f4-848a-f3c918b9226f",
        "colab": {
          "base_uri": "https://localhost:8080/"
        }
      },
      "execution_count": 168,
      "outputs": [
        {
          "output_type": "execute_result",
          "data": {
            "text/plain": [
              "(12,)"
            ]
          },
          "metadata": {},
          "execution_count": 168
        }
      ]
    },
    {
      "cell_type": "code",
      "source": [
        "c = np.log(beta(alpha_dirichlet+s_n_alt)) - np.log(beta(alpha_dirichlet))\n",
        "u=0.05"
      ],
      "metadata": {
        "id": "tGcGN8h6Op_F",
        "outputId": "5bcaf5ac-73e9-4aae-d0cc-79ac3ae74714",
        "colab": {
          "base_uri": "https://localhost:8080/"
        }
      },
      "execution_count": 156,
      "outputs": [
        {
          "output_type": "stream",
          "name": "stderr",
          "text": [
            "<ipython-input-144-33341291f68e>:4: RuntimeWarning: invalid value encountered in scalar divide\n",
            "  return numerator/denominator\n"
          ]
        }
      ]
    },
    {
      "cell_type": "code",
      "source": [
        "def constraint_1(theta,c,u,s_n_alt):\n",
        "  return c+np.log(u)-np.sum(s_n_alt*np.log(theta))\n",
        "def constraint_2(theta):\n",
        "  return np.sum(theta)-1"
      ],
      "metadata": {
        "id": "O4J6duGmQ6oQ"
      },
      "execution_count": null,
      "outputs": []
    },
    {
      "cell_type": "code",
      "source": [],
      "metadata": {
        "id": "K1upoofPRmmd"
      },
      "execution_count": null,
      "outputs": []
    }
  ]
}